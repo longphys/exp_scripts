{
 "cells": [
  {
   "cell_type": "code",
   "execution_count": 1,
   "metadata": {},
   "outputs": [
    {
     "name": "stdout",
     "output_type": "stream",
     "text": [
      "\u001b[?1034h"
     ]
    }
   ],
   "source": [
    "//%jsroot on"
   ]
  },
  {
   "cell_type": "code",
   "execution_count": 2,
   "metadata": {},
   "outputs": [],
   "source": [
    "const double PPAC3_Z = -84.2-188;\n",
    "const double PPAC2_Z = -260.2-188;\n",
    "const double PPAC1_Z = -504.2-188;"
   ]
  },
  {
   "cell_type": "code",
   "execution_count": 3,
   "metadata": {},
   "outputs": [],
   "source": [
    "int start = 520;\n",
    "int stop = start;\n",
    "TChain *fch;\n",
    "fch = new TChain(\"tree\", \"tele\");\n",
    "for (int i= start; i<=stop; i++){\n",
    "  TString fileName = TString::Format(\"/data/d1/zhuhy/lanzhou2022/getdatappac/newtest13/tele%04d.root\" , i);\n",
    "  //TString fileName = TString::Format(\"/data/d1/zhuhy/telefile/tele%04d.root\" , i);\n",
    "  fch->AddFile(fileName.Data());}\n",
    "\n",
    "TCanvas *c1=new TCanvas;"
   ]
  },
  {
   "cell_type": "code",
   "execution_count": 4,
   "metadata": {},
   "outputs": [],
   "source": [
    "void SetTrace(TH2I *h,Double_t k,Double_t b){\n",
    "        if(h==0) return;\n",
    "\n",
    "        Int_t nbin  = h->GetNbinsX();\n",
    "        Double_t zmin = h->GetXaxis()->GetXmin();\n",
    "        Double_t zmax = h->GetXaxis()->GetXmax();\n",
    "        for(int i=0;i<nbin;i++){\n",
    "                Double_t nowz = zmin+(zmax-zmin)*i/nbin;\n",
    "                Double_t nowf = nowz*k+b;\n",
    "                h->Fill(nowz,nowf);\n",
    "        }\n",
    "}\n"
   ]
  },
  {
   "cell_type": "code",
   "execution_count": 5,
   "metadata": {},
   "outputs": [],
   "source": [
    "   Double_t xzTrack[3] = {PPAC1_Z,PPAC2_Z,PPAC3_Z};\n",
    "   Double_t yzTrack[3] = {PPAC1_Z,PPAC2_Z,PPAC3_Z};\n",
    "   Double_t xTrack[3]={0,0,0};\n",
    "   Double_t yTrack[3]={0,0,0};\n",
    "   Double_t tx,ty;\n",
    "   Double_t mean[2][3];\n",
    "\n",
    "   Double_t xfpx[3],xfpy[3],xpCh[3][5][2];\n",
    "   TBranch        *b_xfpx;   //!\n",
    "   TBranch        *b_xfpy;   //!\n",
    "   TBranch        *b_xpCh;   //!\n",
    "\n",
    "        TH2I* hxz = new TH2I(\"hxz\",\"Projection of X-Z\",200,-750,200,200,-60,60);\n",
    "        hxz->SetStats(kFALSE);\n",
    "        TH2I* hyz = new TH2I(\"hyz\",\"Projection of Y-Z\",200,-750,200,200,-60,60);\n",
    "        hyz->SetStats(kFALSE);\n",
    "        TString namex[3];\n",
    "        TString namey[3];\n",
    "        TH1F* xoffset[3];\n",
    "        TH1F* yoffset[3];\n",
    "         for(Int_t ii=0;ii<3;ii++){\n",
    "            namex[ii] = TString::Format(\"xoffset[%d]\", ii);\n",
    "            namey[ii] = TString::Format(\"yoffset[%d]\", ii);\n",
    "            xoffset[ii]= new TH1F(namex[ii].Data(),namex[ii].Data(), 200, -20, 20);\n",
    "            yoffset[ii]= new TH1F(namey[ii].Data(),namey[ii].Data(), 200, -20, 20);\n",
    "         }"
   ]
  },
  {
   "cell_type": "code",
   "execution_count": 6,
   "metadata": {},
   "outputs": [],
   "source": [
    "   fch->SetBranchAddress(\"xfpx[3]\", xfpx, &b_xfpx);\n",
    "   fch->SetBranchAddress(\"xfpy[3]\", xfpy, &b_xfpy);\n",
    "   fch->SetBranchAddress(\"xpCh[3][5][2]\", xpCh, &b_xpCh);"
   ]
  },
  {
   "cell_type": "code",
   "execution_count": 7,
   "metadata": {
    "code_folding": [],
    "scrolled": true
   },
   "outputs": [
    {
     "name": "stdout",
     "output_type": "stream",
     "text": [
      "0/97479\n"
     ]
    }
   ],
   "source": [
    "   Long64_t nentries = fch->GetEntries();\n",
    "   for (Long64_t jentry=0; jentry<nentries;jentry++) {\n",
    "        if(jentry%(500000)==0)cout<<jentry<<\"/\"<<nentries<<'\\n';\n",
    "        if(jentry>200000*20)break;\n",
    "            fch->GetEntry(jentry);\n",
    "            for(Int_t ii=0;ii<3;ii++){xTrack[ii]=0;yTrack[ii]=0;}\n",
    "            for(Int_t ii=0;ii<3;ii++){\n",
    "                xTrack[ii]=xpCh[ii][0][0]-xpCh[ii][1][0];\n",
    "                yTrack[ii]=xpCh[ii][3][0]-xpCh[ii][2][0];   \n",
    "            }\n",
    "                if(xTrack[0]&&xTrack[1]&&xTrack[2]){\n",
    "                    for(Int_t ii=0;ii<3;ii++){\n",
    "                        if(xTrack[ii]!=0)xoffset[ii]->Fill(xTrack[ii]);\n",
    "                    }\n",
    "                }\n",
    "                if(yTrack[0]&&yTrack[1]&&yTrack[2]){\n",
    "                    for(Int_t ii=0;ii<3;ii++){\n",
    "                        if(yTrack[ii]!=0)yoffset[ii]->Fill(yTrack[ii]);\n",
    "                    }\n",
    "                }\n",
    "   }"
   ]
  },
  {
   "cell_type": "code",
   "execution_count": 8,
   "metadata": {
    "scrolled": false
   },
   "outputs": [
    {
     "data": {
      "image/png": "[encoded data removed]",
      "text/plain": [
       "<IPython.core.display.Image object>"
      ]
     },
     "metadata": {},
     "output_type": "display_data"
    },
    {
     "name": "stdout",
     "output_type": "stream",
     "text": [
      " FCN=46.8821 FROM MIGRAD    STATUS=CALL LIMIT   1350 CALLS        1351 TOTAL\n",
      "                     EDM=0.000641255    STRATEGY= 1  ERROR MATRIX UNCERTAINTY  28.5 per cent\n",
      "  EXT PARAMETER                APPROXIMATE        STEP         FIRST   \n",
      "  NO.   NAME      VALUE            ERROR          SIZE      DERIVATIVE \n",
      "   1  p0           1.65664e+04   2.00039e+04   8.47563e+01   5.58336e-06\n",
      "   2  p1           3.29860e+01   1.65952e+01   8.18344e-02  -3.36468e-02\n",
      "   3  p2           1.15962e+01   4.54997e+00   2.25699e-02   9.95497e-02\n",
      "offset=32.986\n"
     ]
    },
    {
     "name": "stderr",
     "output_type": "stream",
     "text": [
      "Warning in <Fit>: Abnormal termination of minimization.\n"
     ]
    }
   ],
   "source": [
    "c1->Clear();\n",
    "TF1* gx0 = new TF1(\"gx0\", \"[0]*TMath::Exp(-0.5*TMath::Power((x-[1])/[2],2))\",0.1, 1.1);\n",
    "gx0->SetParameter(0, 600);\n",
    "gx0->SetParameter(1, 0.6);\n",
    "gx0->SetParameter(2, 0.3);\n",
    "xoffset[0]->Fit(\"gx0\", \"\", \"\",0.1, 1.1);\n",
    "mean[0][0]=gx0->GetParameter(1);\n",
    "xoffset[0]->Draw();\n",
    "c1->Draw();\n",
    "cout<<\"offset=\"<<mean[0][0]<<'\\n';"
   ]
  },
  {
   "cell_type": "code",
   "execution_count": 9,
   "metadata": {},
   "outputs": [
    {
     "data": {
      "image/png": "[encoded data removed]",
      "text/plain": [
       "<IPython.core.display.Image object>"
      ]
     },
     "metadata": {},
     "output_type": "display_data"
    },
    {
     "name": "stdout",
     "output_type": "stream",
     "text": [
      " FCN=8.46066 FROM MIGRAD    STATUS=CONVERGED     100 CALLS         101 TOTAL\n",
      "                     EDM=3.15469e-07    STRATEGY= 1      ERROR MATRIX ACCURATE \n",
      "  EXT PARAMETER                                   STEP         FIRST   \n",
      "  NO.   NAME      VALUE            ERROR          SIZE      DERIVATIVE \n",
      "   1  p0           3.49876e+02   1.28417e+01   1.35720e-02  -5.04182e-05\n",
      "   2  p1          -8.42797e-01   3.96749e-02   3.97892e-05  -1.32903e-02\n",
      "   3  p2           5.44162e-01   6.55267e-02   5.15268e-05  -2.55878e-03\n",
      "offset=-0.842797\n"
     ]
    }
   ],
   "source": [
    "c1->Clear();\n",
    "Double_t dd=0;\n",
    "TF1* gx1 = new TF1(\"gx1\", \"[0]*TMath::Exp(-0.5*TMath::Power((x-[1])/[2],2))\", -1.2, -0.2);\n",
    "gx1->SetParameter(0, 200);\n",
    "gx1->SetParameter(1, -0.7);\n",
    "gx1->SetParameter(2, 0.3);\n",
    "xoffset[1]->Fit(\"gx1\", \"\", \"\", -1.2, -0.2);\n",
    "mean[0][1]=gx1->GetParameter(1);\n",
    "xoffset[1]->Draw();\n",
    "c1->Draw();\n",
    "cout<<\"offset=\"<<mean[0][1]<<'\\n';"
   ]
  },
  {
   "cell_type": "code",
   "execution_count": 10,
   "metadata": {},
   "outputs": [
    {
     "data": {
      "image/png": "[encoded data removed]",
      "text/plain": [
       "<IPython.core.display.Image object>"
      ]
     },
     "metadata": {},
     "output_type": "display_data"
    },
    {
     "name": "stdout",
     "output_type": "stream",
     "text": [
      " FCN=15.5677 FROM MIGRAD    STATUS=CONVERGED     119 CALLS         120 TOTAL\n",
      "                     EDM=1.27199e-10    STRATEGY= 1      ERROR MATRIX ACCURATE \n",
      "  EXT PARAMETER                                   STEP         FIRST   \n",
      "  NO.   NAME      VALUE            ERROR          SIZE      DERIVATIVE \n",
      "   1  p0           3.50970e+02   1.22317e+01   1.77322e-02   1.46203e-06\n",
      "   2  p1          -8.98288e-01   7.26168e-02   6.98603e-05  -2.53083e-04\n",
      "   3  p2           6.65104e-01   1.16799e-01   9.76462e-05   2.84346e-04\n",
      "offset=-0.898288\n"
     ]
    }
   ],
   "source": [
    "c1->Clear();\n",
    "Double_t ddd=1;\n",
    "TF1* gx2 = new TF1(\"gx2\", \"[0]*TMath::Exp(-0.5*TMath::Power((x-[1])/[2],2))\",-1.5,-0.5);//-2,-1);//0.5,1.5);\n",
    "gx2->SetParameter(0, 200);\n",
    "gx2->SetParameter(1, -1.);\n",
    "gx2->SetParameter(2, 0.3);\n",
    "xoffset[2]->Fit(\"gx2\", \"\", \"\",-1.5,-0.5);\n",
    "mean[0][2]=gx2->GetParameter(1);\n",
    "xoffset[2]->Draw();\n",
    "c1->Draw();\n",
    "cout<<\"offset=\"<<mean[0][2]<<'\\n';"
   ]
  },
  {
   "cell_type": "code",
   "execution_count": 11,
   "metadata": {},
   "outputs": [
    {
     "data": {
      "image/png": "[encoded data removed]",
      "text/plain": [
       "<IPython.core.display.Image object>"
      ]
     },
     "metadata": {},
     "output_type": "display_data"
    },
    {
     "name": "stdout",
     "output_type": "stream",
     "text": [
      " FCN=36.0092 FROM MIGRAD    STATUS=CONVERGED      78 CALLS          79 TOTAL\n",
      "                     EDM=8.59133e-08    STRATEGY= 1      ERROR MATRIX ACCURATE \n",
      "  EXT PARAMETER                                   STEP         FIRST   \n",
      "  NO.   NAME      VALUE            ERROR          SIZE      DERIVATIVE \n",
      "   1  p0           1.00927e+03   2.34065e+01   4.71914e-02   2.37135e-05\n",
      "   2  p1          -3.44679e-01   1.02737e-02   3.00337e-05   1.60552e-02\n",
      "   3  p2           4.08717e-01   1.73579e-02   3.46474e-05   3.16786e-02\n",
      "offset=-0.344679\n"
     ]
    }
   ],
   "source": [
    "c1->Clear();\n",
    "TF1* gy0 = new TF1(\"gy0\", \"[0]*TMath::Exp(-0.5*TMath::Power((x-[1])/[2],2))\", -0.8,0.2);\n",
    "gy0->SetParameter(0, 250);\n",
    "gy0->SetParameter(1, -0.3);\n",
    "gy0->SetParameter(2, 0.3);\n",
    "yoffset[0]->Fit(\"gy0\", \"\", \"\", -0.8,0.2);\n",
    "mean[1][0]=gy0->GetParameter(1);\n",
    "yoffset[0]->Draw();\n",
    "c1->Draw();\n",
    "cout<<\"offset=\"<<mean[1][0]<<'\\n';"
   ]
  },
  {
   "cell_type": "code",
   "execution_count": 12,
   "metadata": {},
   "outputs": [
    {
     "data": {
      "image/png": "[encoded data removed]",
      "text/plain": [
       "<IPython.core.display.Image object>"
      ]
     },
     "metadata": {},
     "output_type": "display_data"
    },
    {
     "name": "stdout",
     "output_type": "stream",
     "text": [
      " FCN=164.95 FROM MIGRAD    STATUS=CALL LIMIT   1349 CALLS        1350 TOTAL\n",
      "                     EDM=0.00045889    STRATEGY= 1  ERROR MATRIX UNCERTAINTY  21.2 per cent\n",
      "  EXT PARAMETER                APPROXIMATE        STEP         FIRST   \n",
      "  NO.   NAME      VALUE            ERROR          SIZE      DERIVATIVE \n",
      "   1  p0           1.35793e+04   1.85497e+04   3.39583e+02  -9.37404e-06\n",
      "   2  p1          -8.09792e+01   7.97637e+01  -1.65605e+00  -4.81848e-03\n",
      "   3  p2           3.64185e+01   2.62644e+01   5.58152e-01  -8.63174e-03\n",
      "offset=-80.9792\n"
     ]
    },
    {
     "name": "stderr",
     "output_type": "stream",
     "text": [
      "Warning in <Fit>: Abnormal termination of minimization.\n"
     ]
    }
   ],
   "source": [
    "c1->Clear();\n",
    "TF1* gy1 = new TF1(\"gy1\", \"[0]*TMath::Exp(-0.5*TMath::Power((x-[1])/[2],2))\", -0.1,1.1);\n",
    "gy1->SetParameter(0, 300);\n",
    "gy1->SetParameter(1, 0.5);\n",
    "gy1->SetParameter(2, 0.3);\n",
    "yoffset[1]->Fit(\"gy1\", \"\", \"\",-0.1,1.1);\n",
    "mean[1][1]=gy1->GetParameter(1);\n",
    "yoffset[1]->Draw();\n",
    "c1->Draw();\n",
    "cout<<\"offset=\"<<mean[1][1]<<'\\n';"
   ]
  },
  {
   "cell_type": "code",
   "execution_count": 13,
   "metadata": {},
   "outputs": [
    {
     "data": {
      "image/png": "[encoded data removed]",
      "text/plain": [
       "<IPython.core.display.Image object>"
      ]
     },
     "metadata": {},
     "output_type": "display_data"
    },
    {
     "name": "stdout",
     "output_type": "stream",
     "text": [
      " FCN=121.447 FROM MIGRAD    STATUS=CALL LIMIT   1346 CALLS        1347 TOTAL\n",
      "                     EDM=0.000621426    STRATEGY= 1  ERROR MATRIX UNCERTAINTY  29.9 per cent\n",
      "  EXT PARAMETER                APPROXIMATE        STEP         FIRST   \n",
      "  NO.   NAME      VALUE            ERROR          SIZE      DERIVATIVE \n",
      "   1  p0           1.70621e+04   2.02790e+04   5.20684e+02  -1.17162e-04\n",
      "   2  p1           4.21543e+01   2.97578e+01   9.35446e-01   2.56758e-01\n",
      "   3  p2           1.75477e+01   9.51176e+00   3.01261e-01  -5.94920e-01\n",
      "offset=42.1543\n"
     ]
    },
    {
     "name": "stderr",
     "output_type": "stream",
     "text": [
      "Warning in <Fit>: Abnormal termination of minimization.\n"
     ]
    }
   ],
   "source": [
    "c1->Clear();\n",
    "TF1* gy2 = new TF1(\"gy2\", \"[0]*TMath::Exp(-0.5*TMath::Power((x-[1])/[2],2))\", 0.4,1.4);\n",
    "gy2->SetParameter(0, 300);\n",
    "gy2->SetParameter(1, 0.9);\n",
    "gy2->SetParameter(2, 0.3);\n",
    "yoffset[2]->Fit(\"gy2\", \"\", \"\",  0.4,1.4);\n",
    "mean[1][2]=gy2->GetParameter(1);\n",
    "yoffset[2]->Draw();\n",
    "c1->Draw();\n",
    "cout<<\"offset=\"<<mean[1][2]<<'\\n';"
   ]
  },
  {
   "cell_type": "code",
   "execution_count": 14,
   "metadata": {},
   "outputs": [
    {
     "name": "stdout",
     "output_type": "stream",
     "text": [
      "520 32.986 -0.344679 -0.842797 -80.9792 -0.898288 42.1543 "
     ]
    }
   ],
   "source": [
    "cout<<start<<\" \";\n",
    "for(Int_t ii=0;ii<3;ii++){\n",
    "    for(Int_t jj=0;jj<2;jj++){\n",
    "        cout<<mean[jj][ii]<<\" \";\n",
    "    }    \n",
    "}"
   ]
  },
  {
   "cell_type": "code",
   "execution_count": null,
   "metadata": {},
   "outputs": [],
   "source": []
  },
  {
   "cell_type": "code",
   "execution_count": null,
   "metadata": {},
   "outputs": [],
   "source": []
  },
  {
   "cell_type": "markdown",
   "metadata": {},
   "source": [
    "##### "
   ]
  }
 ],
 "metadata": {
  "kernelspec": {
   "display_name": "ROOT C++",
   "language": "c++",
   "name": "root"
  },
  "language_info": {
   "codemirror_mode": "text/x-c++src",
   "file_extension": ".C",
   "mimetype": " text/x-c++src",
   "name": "c++"
  },
  "toc": {
   "base_numbering": 1,
   "nav_menu": {},
   "number_sections": true,
   "sideBar": true,
   "skip_h1_title": false,
   "title_cell": "Table of Contents",
   "title_sidebar": "Contents",
   "toc_cell": false,
   "toc_position": {},
   "toc_section_display": true,
   "toc_window_display": false
  }
 },
 "nbformat": 4,
 "nbformat_minor": 2
}
