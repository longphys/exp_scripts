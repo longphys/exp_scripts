{
 "cells": [
  {
   "cell_type": "code",
   "execution_count": 1,
   "metadata": {},
   "outputs": [
    {
     "name": "stdout",
     "output_type": "stream",
     "text": [
      "\u001b[?1034h"
     ]
    }
   ],
   "source": [
    "TCanvas *c1=new TCanvas(\"c3\",\"c3\",400,600);"
   ]
  },
  {
   "cell_type": "code",
   "execution_count": 2,
   "metadata": {},
   "outputs": [],
   "source": [
    "TFile *udead=new TFile(\"/data/d1/share/zhuhy/2023geant4sim_solid_3He/hit/hit.root\");\n",
    "TTree *tudead=(TTree*) udead->Get(\"tree\");\n",
    "\n",
    "TFile *udead2=new TFile(\"/data/d1/share/zhuhy/t2023geant4sim_solid_3He/hit/hit_4peak.root\");\n",
    "TTree *tudead2=(TTree*) udead2->Get(\"tree\");"
   ]
  },
  {
   "cell_type": "code",
   "execution_count": 3,
   "metadata": {},
   "outputs": [],
   "source": [
    "TH2F* h2f = new TH2F(\"h2f\", \"Histogram\", 200, 0, 16, 200, 0, 50);"
   ]
  },
  {
   "cell_type": "code",
   "execution_count": 4,
   "metadata": {},
   "outputs": [],
   "source": [
    "   Double_t tafangle,t0angle,tafde,nowEx,nowEx2;\n",
    "   tudead->SetBranchAddress(\"tafangle\", &tafangle);\n",
    "   tudead->SetBranchAddress(\"t0angle\", &t0angle);\n",
    "   tudead->SetBranchAddress(\"tafde\", &tafde);\n",
    "   tudead->SetBranchAddress(\"nowEx\", &nowEx);\n",
    "   Long64_t nentries05 = tudead->GetEntries();\n",
    "   for (Long64_t jentry05=1; jentry05<nentries05;jentry05+=1) {\n",
    "      tudead->GetEntry(jentry05);\n",
    "      if(tafde<25&&(nowEx>-18||nowEx<-23))h2f->Fill(t0angle,tafangle);\n",
    "   }"
   ]
  },
  {
   "cell_type": "code",
   "execution_count": 5,
   "metadata": {},
   "outputs": [],
   "source": [
    "   Double_t t0anglel,nt0angle,t0d2e;\n",
    "   tudead2->SetBranchAddress(\"t0anglel\", &t0anglel);\n",
    "   tudead2->SetBranchAddress(\"t0angle\", &nt0angle);\n",
    "   tudead2->SetBranchAddress(\"t0d2e\", &t0d2e);\n",
    "   tudead->SetBranchAddress(\"nowEx\", &nowEx2);\n",
    "   Long64_t nentries052 = tudead2->GetEntries();\n",
    "   for (Long64_t jentry052=1; jentry052<nentries052;jentry052+=1) {\n",
    "      tudead2->GetEntry(jentry052);\n",
    "      if(t0d2e>200&&(nowEx2>-18||nowEx2<-23))h2f->Fill(nt0angle,t0anglel);\n",
    "   }"
   ]
  },
  {
   "cell_type": "code",
   "execution_count": 6,
   "metadata": {},
   "outputs": [],
   "source": [
    "  string ssa,ssa2;\n",
    "  int count_d_t_theta_theta_0=0,count_d_t_theta_theta_1=0;\n",
    "  TGraph *lisea=new TGraph();\n",
    "  TGraph *lisea_2=new TGraph();\n",
    "  Double_t tthetac,ttheta;\n",
    "  ifstream ina(\"/home/zhuhy/JNBook/Experiment2022/taf/check/angle/txt/thetatheta_B14He3_1800.txt\");\n",
    "\n",
    "  if(ina.is_open()){\n",
    "    getline(ina,ssa);\n",
    "    count_d_t_theta_theta_0=0;\n",
    "    while(!ina.eof())\n",
    "    {\n",
    "      ina>>tthetac>>ttheta;\n",
    "      lisea->SetPoint(count_d_t_theta_theta_0++,tthetac,ttheta);\n",
    "    }\n",
    "  }\n",
    "  ina.close();\n",
    "key=0;\n",
    "  ifstream ina2(\"/home/zhuhy/JNBook/Experiment2022/taf/check/angle/txt/thetatheta_B14He3_8030.txt\");\n",
    "  if(ina2.is_open()){\n",
    "    getline(ina2,ssa2);\n",
    "    count_d_t_theta_theta_1=0;\n",
    "    while(!ina2.eof())\n",
    "    {\n",
    "      key++;\n",
    "      ina2>>tthetac>>ttheta;\n",
    "      if(key%20==0)lisea_2->SetPoint(count_d_t_theta_theta_1++,tthetac,ttheta);\n",
    "    }\n",
    "  }\n",
    "  ina2.close();\n",
    "\n"
   ]
  },
  {
   "cell_type": "code",
   "execution_count": 7,
   "metadata": {},
   "outputs": [
    {
     "data": {
      "image/png": "[encoded data removed]",
      "text/plain": [
       "<IPython.core.display.Image object>"
      ]
     },
     "metadata": {},
     "output_type": "display_data"
    }
   ],
   "source": [
    "c1->Clear();\n",
    "h2f->GetXaxis()->SetLabelSize(0.08);  // 放大X轴数字字体\n",
    "h2f->GetYaxis()->SetLabelSize(0.08);  // 可选：同时放大Y轴字体\n",
    "gStyle->SetOptStat(0);\n",
    "h2f->SetMinimum(3);\n",
    "h2f->Draw(\"colz\");\n",
    "\n",
    "lisea->SetLineStyle(1);\n",
    "lisea_2->SetLineStyle(2);\n",
    "lisea->SetLineWidth(2);\n",
    "lisea_2->SetLineWidth(2);\n",
    "lisea->SetLineColor(2);\n",
    "lisea_2->SetLineColor(4);\n",
    "\n",
    "\n",
    "  lisea->SetMarkerStyle(6);\n",
    "  lisea->SetMarkerColor(2);\n",
    "  lisea->Draw(\"C same\");\n",
    "  lisea_2->SetMarkerStyle(6);\n",
    "  lisea_2->SetMarkerColor(6);\n",
    "  lisea_2->Draw(\"C same\");\n",
    "\n",
    "c1->Draw();"
   ]
  },
  {
   "cell_type": "code",
   "execution_count": null,
   "metadata": {},
   "outputs": [],
   "source": []
  },
  {
   "cell_type": "code",
   "execution_count": null,
   "metadata": {},
   "outputs": [],
   "source": []
  },
  {
   "cell_type": "code",
   "execution_count": null,
   "metadata": {},
   "outputs": [],
   "source": []
  }
 ],
 "metadata": {
  "kernelspec": {
   "display_name": "ROOT C++",
   "language": "c++",
   "name": "root"
  },
  "language_info": {
   "codemirror_mode": "text/x-c++src",
   "file_extension": ".C",
   "mimetype": " text/x-c++src",
   "name": "c++"
  },
  "toc": {
   "base_numbering": 1,
   "nav_menu": {},
   "number_sections": true,
   "sideBar": true,
   "skip_h1_title": false,
   "title_cell": "Table of Contents",
   "title_sidebar": "Contents",
   "toc_cell": false,
   "toc_position": {},
   "toc_section_display": true,
   "toc_window_display": false
  }
 },
 "nbformat": 4,
 "nbformat_minor": 2
}
