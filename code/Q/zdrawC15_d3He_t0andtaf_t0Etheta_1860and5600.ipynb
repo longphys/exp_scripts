{
 "cells": [
  {
   "cell_type": "code",
   "execution_count": 1,
   "metadata": {},
   "outputs": [
    {
     "name": "stdout",
     "output_type": "stream",
     "text": [
      "\u001b[?1034h"
     ]
    }
   ],
   "source": [
    "//%jsroot on\n",
    "#include \"TROOT.h\"\n",
    "#include \"TFile.h\"\n",
    "#include \"TCanvas.h\"\n",
    "#include \"TGraph.h\""
   ]
  },
  {
   "cell_type": "code",
   "execution_count": 2,
   "metadata": {},
   "outputs": [],
   "source": [
    "#define _bin  30\n",
    "#define _15C 28.3\n",
    "#define _H2offset +0.0\n",
    "#define _t0H2offset -1.6\n",
    "#define _thetat0offset +0.0\n",
    "#define _thetaoffset -0\n",
    "#define _ntarget 2.984e20\n",
    "#define _n2target 7.174e20"
   ]
  },
  {
   "cell_type": "code",
   "execution_count": 3,
   "metadata": {},
   "outputs": [],
   "source": [
    "Double_t mean[12],sigma[12],meanangle[12];\n",
    "Double_t mean2[12],sigma2[12],meanangle2[12];\n",
    "Double_t eoff[12]={-0.,-0.,0.,0.,   -0.,-0.,0.,0.,   0.,0.,0.,0.};\n",
    "Double_t eoffx2[12]={0.,0.,0.,0.,   0.,0.,0.,0.,   0.,0.,0.,0.};\n",
    "//Double_t eoffx2[12]={0.0004,0.,0.0020,0.,   0.0004,0.,0.0015,0.0019,   0.0022,0.0015,0.0017,0.0015};\n",
    "//double eoff[12]={-1.5,-1.5,-1,-1, -1,-1,0,0, -1,-1,-1.5,-1.5};\n",
    "Double_t theoff[12]={0.34,0.93,-0.5,-0.1,        -0.4,-0.7,0.5,-0.35,           1.2,1.44,0.8,0.95};\n",
    "for(Int_t ii=0;ii<12;ii++){\n",
    "    theoff[ii]-=0.28;\n",
    "}\n",
    "//double theoff[12]={0,0.5,0,0, -0.5,-0.5,0,-0.5, 1.,0,0.5,1.5};\n",
    "TF1 *g1 = new TF1(\"g1\",\"gaus\");"
   ]
  },
  {
   "cell_type": "code",
   "execution_count": 4,
   "metadata": {},
   "outputs": [
    {
     "name": "stdout",
     "output_type": "stream",
     "text": [
      "anglemax_0=39.8\tanglemax_654=36.6\n"
     ]
    }
   ],
   "source": [
    "Double_t anglemax_0=0,anglemax_654=0;\n",
    "\n",
    "Double_t Q,Ex,Theta;\n",
    "Int_t i;\n",
    "TGraph *T1Etheta_B14He3_0= new TGraph;\n",
    "Double_t Ex_0=1.86;//1.61;//1.86;\n",
    "  for(Theta=0;Theta<50;Theta=Theta+0.2){\n",
    "    for(Ex=0;Ex<200;Ex=Ex+0.001){\n",
    "    Q=-15.59-((15.0106/14.0254-1.)*(_15C*15)+(3.01603/14.0254+1.)*Ex\n",
    "       -2.*cos(Theta*3.14159/180.)*sqrt(15.0106*3.01603*_15C*15*Ex)/14.025404);\n",
    "        if(abs(Q-Ex_0)<0.01){\n",
    "            T1Etheta_B14He3_0->SetPoint(i++,Theta,Ex);\n",
    "            if(Theta>anglemax_0)anglemax_0=Theta;\n",
    "        }\n",
    "    }\n",
    "  }\n",
    "\n",
    "\n",
    "TGraph *T1Etheta_B14He3_654= new TGraph;\n",
    "Double_t Ex_654=6.40;//5.68;\n",
    "  for(Theta=0;Theta<50;Theta=Theta+0.2){\n",
    "    for(Ex=0;Ex<200;Ex=Ex+0.001){\n",
    "    Q=-15.59-((15.0106/14.0254-1.)*(_15C*15)+(3.01603/14.0254+1.)*Ex\n",
    "       -2.*cos(Theta*3.14159/180.)*sqrt(15.0106*3.01603*_15C*15*Ex)/14.025404);\n",
    "        if(abs(Q-Ex_654)<0.01){\n",
    "            T1Etheta_B14He3_654->SetPoint(i++,Theta,Ex);\n",
    "            if(Theta>anglemax_654)anglemax_654=Theta;\n",
    "        }\n",
    "    }\n",
    "  }\n",
    "cout<<\"anglemax_0=\"<<anglemax_0<<'\\t'<<\"anglemax_654=\"<<anglemax_654<<'\\n';\n",
    "\n",
    "\n",
    "\n",
    "TGraph *T1Etheta_B14He3_10000= new TGraph;\n",
    "Double_t Ex_10000=10.;\n",
    "  for(Theta=0;Theta<50;Theta=Theta+0.2){\n",
    "    for(Ex=0;Ex<200;Ex=Ex+0.001){\n",
    "    Q=-15.59-((15.0106/14.0254-1.)*(_15C*15)+(3.01603/14.0254+1.)*Ex\n",
    "       -2.*cos(Theta*3.14159/180.)*sqrt(15.0106*3.01603*_15C*15*Ex)/14.025404);\n",
    "        if(abs(Q-Ex_10000)<0.01){\n",
    "            T1Etheta_B14He3_10000->SetPoint(i++,Theta,Ex);\n",
    "        }\n",
    "    }\n",
    "  }\n",
    "\n",
    "\n",
    "\n",
    "\n",
    "TGraph *T1Etheta_t0_1860= new TGraph;\n",
    "TGraph *T1Etheta_t0_5600= new TGraph;\n",
    "Double_t Ex_0a=1.86,Ex_6600a=5.6;\n",
    "  for(Theta=0;Theta<10;Theta=Theta+0.01){\n",
    "    for(Ex=350;Ex<408;Ex=Ex+0.01){\n",
    "    Q=-15.59-((15.0106/3.01603-1.)*(_15C*15)+(14.0254/3.01603+1.)*Ex-2.*cos(Theta*3.14159/180.)*sqrt(15.0106*14.0254*_15C*15*Ex)/3.01603);\n",
    "      if(fabs(Q-Ex_0a)<0.001){\n",
    "        T1Etheta_t0_1860->SetPoint(i++,Theta,(Ex)*13./14.);\n",
    "      }\n",
    "    }\n",
    "  }\n",
    "i=0;\n",
    "  for(Theta=0;Theta<10;Theta=Theta+0.01){\n",
    "    for(Ex=350;Ex<408;Ex=Ex+0.01){\n",
    "    Q=-15.59-((15.0106/3.01603-1.)*(_15C*15)+(14.0254/3.01603+1.)*Ex-2.*cos(Theta*3.14159/180.)*sqrt(15.0106*14.0254*_15C*15*Ex)/3.01603);\n",
    "    if(fabs(Q-Ex_6600a)<0.001)T1Etheta_t0_5600->SetPoint(i++,Theta,(Ex)*13./14.);\n",
    "    }\n",
    "  }\n",
    "\n",
    "/*\n",
    "\n",
    "\n",
    "TGraph *T1Etheta_B14He3_1860= new TGraph;\n",
    "Double_t Ex_1860=1.86;\n",
    "  for(Theta=0;Theta<50;Theta=Theta+0.2){\n",
    "    for(Ex=0;Ex<200;Ex=Ex+0.001){\n",
    "    Q=-15.59-((15.0106/14.0254-1.)*(_15C*15)+(3.01603/14.0254+1.)*Ex\n",
    "       -2.*cos(Theta*3.14159/180.)*sqrt(15.0106*3.01603*_15C*15*Ex)/14.025404);\n",
    "    if(abs(Q-Ex_1860)<0.01)T1Etheta_B14He3_1860->SetPoint(i++,Theta,Ex);\n",
    "    }\n",
    "  }\n",
    "\n",
    "TGraph *T1Etheta_B14He3_4500= new TGraph;\n",
    "Double_t Ex_4500=4.5;\n",
    "  for(Theta=0;Theta<50;Theta=Theta+0.2){\n",
    "    for(Ex=0;Ex<200;Ex=Ex+0.001){\n",
    "    Q=-15.59-((15.0106/14.0254-1.)*(_15C*15)+(3.01603/14.0254+1.)*Ex\n",
    "       -2.*cos(Theta*3.14159/180.)*sqrt(15.0106*3.01603*_15C*15*Ex)/14.025404);\n",
    "    if(abs(Q-Ex_4500)<0.01)T1Etheta_B14He3_4500->SetPoint(i++,Theta,Ex);\n",
    "    }\n",
    "  }\n",
    "  */\n",
    "\n",
    "Int_t ii0=0;"
   ]
  },
  {
   "cell_type": "code",
   "execution_count": 5,
   "metadata": {},
   "outputs": [],
   "source": [
    "TCanvas *c1=new TCanvas(\"c1\",\"c1\");\n",
    "TCanvas *c2=new TCanvas(\"c2\",\"c2\");"
   ]
  },
  {
   "cell_type": "code",
   "execution_count": 6,
   "metadata": {},
   "outputs": [],
   "source": [
    "TGraph *t0etheta_taf= new TGraph;\n",
    "TGraph *t0etheta_t0= new TGraph;"
   ]
  },
  {
   "cell_type": "code",
   "execution_count": 7,
   "metadata": {},
   "outputs": [],
   "source": [
    "TString fileName_t0etheta_taf = TString::Format(\"/data/d1/zhuhy/lanzhou2022/getdatappac/thegraphtemp/C15_d3He_tafall_1860and5600_t0Etheta.root\");\n",
    "TString fileName_t0etheta_t0 = TString::Format(\"/data/d1/zhuhy/lanzhou2022/getdatappac/thegraphtemp/C15_d3He_t0all_1860and5600_t0Etheta.root\");\n",
    "TFile *ipf_t0etheta_taf = new TFile(fileName_t0etheta_taf.Data(),\"read\");\n",
    "TFile *ipf_t0etheta_t0 = new TFile(fileName_t0etheta_t0.Data(),\"read\");\n",
    "TCanvas *ct0etheta_taf;//=(TCanvas *)ipf_t0etheta_taf->Get(\"c1\");\n",
    "TCanvas *ct0etheta_t0;//=(TCanvas *)ipf_t0etheta_t0->Get(\"c1\");\n",
    "ipf_t0etheta_taf->GetObject(\"c1\", ct0etheta_taf);\n",
    "ipf_t0etheta_t0->GetObject(\"c1\", ct0etheta_t0);\n",
    "TGraph *gt0etheta_taf = nullptr;\n",
    "TGraph *gt0etheta_t0 = nullptr;\n",
    "\n",
    "//if (ct0etheta_taf)  gt0etheta_taf = static_cast<TGraph*>(ct0etheta_taf->GetListOfPrimitives()->FindObject(\"Graph\"));\n",
    "if (ct0etheta_t0)   gt0etheta_t0 = static_cast<TGraph*>(ct0etheta_t0->GetListOfPrimitives()->FindObject(\"Graph\"));\n",
    "\n",
    "    if (ct0etheta_taf) {\n",
    "        gt0etheta_taf = static_cast<TGraph*>(ct0etheta_taf->GetListOfPrimitives()->FindObject(\"Graph\"));\n",
    "        // 遍历所有具有相同名称的图形进行合并或其他处理\n",
    "        TObjLink *link = ct0etheta_taf->GetListOfPrimitives()->FirstLink();\n",
    "        while (link) {\n",
    "            //cout<<link->GetObject()->GetName()<<'\\n';\n",
    "            if (strcmp(link->GetObject()->GetName(), \"Graph\") == 0) {\n",
    "                if (!gt0etheta_taf) {\n",
    "                    gt0etheta_taf = static_cast<TGraph*>(link->GetObject());\n",
    "                } else {\n",
    "                    // 进行合并操作\n",
    "                    TGraph* currentGraph = static_cast<TGraph*>(link->GetObject());\n",
    "                    int numPoints = currentGraph->GetN();\n",
    "                    for (int i = 0; i < numPoints; i++) {\n",
    "                        gt0etheta_taf->SetPoint(gt0etheta_taf->GetN(), currentGraph->GetX()[i], currentGraph->GetY()[i]);\n",
    "                    }\n",
    "                }\n",
    "            }\n",
    "            link = link->Next();\n",
    "        }\n",
    "    }\n",
    "\n",
    "    // 在这里对获取到的 TGraph 进行处理\n",
    "Double_t *gt0etheta_t0x=gt0etheta_t0->GetX();\n",
    "Double_t *gt0etheta_t0y=gt0etheta_t0->GetY();\n",
    "for (int i = 0; i < gt0etheta_t0->GetN(); i++) {\n",
    "    gt0etheta_t0->SetPoint(i, gt0etheta_t0x[i], gt0etheta_t0y[i] + 10);\n",
    "}\n",
    "\n"
   ]
  },
  {
   "cell_type": "code",
   "execution_count": 8,
   "metadata": {},
   "outputs": [
    {
     "data": {
      "image/png": "[encoded data removed]",
      "text/plain": [
       "<IPython.core.display.Image object>"
      ]
     },
     "metadata": {},
     "output_type": "display_data"
    }
   ],
   "source": [
    "gt0etheta_taf->GetXaxis()->SetLimits(0, 12);\n",
    "gt0etheta_taf->GetYaxis()->SetRangeUser(290 , 420); \n",
    "gt0etheta_t0->GetXaxis()->SetLimits(0, 12);\n",
    "gt0etheta_t0->GetYaxis()->SetRangeUser(290 , 420); \n",
    "c1->Clear();\n",
    "gt0etheta_taf->SetMarkerColor(4);\n",
    "gt0etheta_taf->SetMarkerStyle(3);\n",
    "gt0etheta_t0->SetMarkerStyle(3);\n",
    "\n",
    "T1Etheta_t0_1860->SetMarkerColor(2);\n",
    "T1Etheta_t0_5600->SetMarkerColor(2);\n",
    "T1Etheta_t0_1860->SetMarkerStyle(6);\n",
    "T1Etheta_t0_5600->SetMarkerStyle(6);\n",
    "\n",
    "gt0etheta_t0->Draw(\"ap\");\n",
    "gt0etheta_taf->Draw(\"samep\");\n",
    "T1Etheta_t0_1860->Draw(\"samep\");\n",
    "T1Etheta_t0_5600->Draw(\"samep\");\n",
    "c1->Draw();"
   ]
  },
  {
   "cell_type": "code",
   "execution_count": null,
   "metadata": {},
   "outputs": [],
   "source": []
  },
  {
   "cell_type": "code",
   "execution_count": null,
   "metadata": {},
   "outputs": [],
   "source": []
  },
  {
   "cell_type": "code",
   "execution_count": null,
   "metadata": {},
   "outputs": [],
   "source": []
  }
 ],
 "metadata": {
  "kernelspec": {
   "display_name": "ROOT C++",
   "language": "c++",
   "name": "root"
  },
  "language_info": {
   "codemirror_mode": "text/x-c++src",
   "file_extension": ".C",
   "mimetype": " text/x-c++src",
   "name": "c++"
  },
  "toc": {
   "base_numbering": 1,
   "nav_menu": {},
   "number_sections": true,
   "sideBar": true,
   "skip_h1_title": false,
   "title_cell": "Table of Contents",
   "title_sidebar": "Contents",
   "toc_cell": false,
   "toc_position": {},
   "toc_section_display": true,
   "toc_window_display": false
  }
 },
 "nbformat": 4,
 "nbformat_minor": 2
}
