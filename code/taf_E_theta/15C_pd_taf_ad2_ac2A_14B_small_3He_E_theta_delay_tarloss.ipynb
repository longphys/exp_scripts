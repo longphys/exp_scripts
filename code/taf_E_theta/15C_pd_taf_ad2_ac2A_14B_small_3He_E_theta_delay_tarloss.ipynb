{
 "cells": [
  {
   "cell_type": "code",
   "execution_count": 1,
   "metadata": {},
   "outputs": [
    {
     "name": "stdout",
     "output_type": "stream",
     "text": [
      "\u001b[?1034h"
     ]
    }
   ],
   "source": [
    "//%jsroot on\n",
    "#define _adnum 2\n",
    "#define _15C 30.\n",
    "Double_t theoff[12]={-0.46,0.13,-1.00,-0.4,        -0.87,-1.3,-0.17,-0.84,           0.6,0.64,0.3,0.65};"
   ]
  },
  {
   "cell_type": "code",
   "execution_count": 2,
   "metadata": {
    "code_folding": [
     12,
     13
    ]
   },
   "outputs": [],
   "source": [
    "void getDraw(TGraph *g1,TString &fchName, TString &cutName, TString &graphName,TChain *fch,int *I){\n",
    "        TGraph *e1=new TGraph();\n",
    "\n",
    "        fch->Draw(fchName.Data(), cutName.Data());\n",
    "        e1=(TGraph*)gPad->GetPrimitive(\"Graph\");\n",
    "        Int_t npoints=e1->GetN();\n",
    "        if(npoints==0) return;\n",
    "        cout<<\"npoints=\"<<npoints<<'\\n';\n",
    "        Double_t *gx=e1->GetX();\n",
    "        Double_t *gy=e1->GetY();\n",
    "        /*g1 = new TGraph(*e1);*/\n",
    "        /*Int_t n=0;*/\n",
    "        for(Int_t i=0; i<npoints; i++){\n",
    "                if(gx[i]==gx[i]&&gy[i]==gy[i]){\n",
    "                        g1->SetPoint(*I,gx[i],gy[i]);\n",
    "                        *I=*I+1;\n",
    "                }\n",
    "        }\n",
    "        g1->SetNameTitle(graphName.Data(), graphName.Data());\n",
    "}"
   ]
  },
  {
   "cell_type": "code",
   "execution_count": 3,
   "metadata": {},
   "outputs": [],
   "source": [
    "void getDraw2D(TGraph *g1,TString &fchName, TString &cutName, TString &graphName,TChain *fch){\n",
    "        Int_t num=fch->Draw(fchName.Data(),cutName.Data());\n",
    "        if(num==0) return;\n",
    "        TGraph2D *e1=new TGraph2D(num,fch->GetV3(),fch->GetV2(),fch->GetV1());\n",
    "        Int_t npoints=e1->GetN();\n",
    "        if(npoints==0) return;\n",
    "        //cout<<\"npoints=\"<<npoints<<'\\n';\n",
    "        TGraph2D *g2D=new TGraph2D(*e1);\n",
    "        TString tmpgName;\n",
    "        tmpgName=\"g2D\"+graphName;\n",
    "        g2D->SetNameTitle(tmpgName.Data(), tmpgName.Data());\n",
    "        Double_t *gx=e1->GetX();\n",
    "        Double_t *gy=e1->GetY();\n",
    "        Double_t *gz=e1->GetZ();\n",
    "    \n",
    "//TGraph *T1Etheta_new=new TGraph();\n",
    "Int_t count=0;\n",
    "        for(Int_t i=0; i<npoints; i++){\n",
    "          if(gx[i]>0)g1->SetPoint(count++,gy[i],gx[i]);\n",
    "        }\n",
    "        cout<<\"count=\"<<count<<'\\n';\n",
    "        g2D->Write();\n",
    "        //T1Etheta_new->SetMarkerStyle(3);\n",
    "        //T1Etheta_new->Draw(\"ap\");\n",
    "        //T1Etheta_new->Write();     \n",
    "}"
   ]
  },
  {
   "cell_type": "code",
   "execution_count": 4,
   "metadata": {},
   "outputs": [],
   "source": [
    "void tarloss(Double_t *entar,int M,char str[100],Double_t _thick,Double_t Enow){\n",
    "TGraph *g;\n",
    "ifstream in(str);\n",
    "string ss;\n",
    "double a, b, e, dedx;\n",
    "g=new TGraph;//定义新的二维散点图(TGraph) g1\n",
    "if(in.is_open()){//检查文件是否存在\n",
    "    getline(in,ss);\n",
    "    int i=0;\n",
    "    while(!in.eof())\n",
    "    {\n",
    "      in>>a>>b>>e>>dedx>>a>>b>>a>>b>>a>>b>>a>>b;\n",
    "      // 对照数据文件进行理解。一列一列地读入，提取第3、4列数据。\n",
    "      g->SetPoint(i++, e*M,dedx);//添加数据点到图中，能量单位为MeV/u，对C需乘以12.    \n",
    "        }\n",
    " }\n",
    " in.close();\n",
    " double E0=0,E1=0,Esmall=0,E2=0,E=0,dE=0,e1=0,e2=0,e3=0,x=0,dx=0.001;//E0为能量总值，E为能量实时记录值，E1为穿透第一块硅时的能量，E2为穿透第二块时的能量\n",
    " Double_t d=(Double_t)(_thick);\n",
    " TGraph *gtar=new TGraph();\n",
    " for(Double_t ii=0;ii<10;ii++){\n",
    "    x=0;\n",
    "    E0=E=Enow*ii/5.;\n",
    "    while(1)   //while循环即模拟粒子入射，每一个循环行进dx个步长，当能量小于零或从最后一个板射出时退出循环，开始下一次模拟\n",
    "    {\n",
    "    if((fabs(x-d)<=(dx/2)||(x>=0&&x<d))&&E<=0){/*cout<<\"in tar\"<<'\\n';*/break;} //如果在靶中任何地方能量小于零，则第一块板沉积能量就是总能量，并退出本次模拟\n",
    "    else if(fabs(x-d)<=(dx/2)&&E>0){gtar->SetPoint(ii,E,E0);break;}    //出射靶时，能量为初始能量减当前能量，并记录此时能量（亦即入射第二块硅的能量）\n",
    "    dE=g->Eval(E);\n",
    "    E=E-dE*dx;    //每一步长计算一次能损，改变一次能量\n",
    "    x=x+dx;\n",
    "    }\n",
    " }\n",
    "    \n",
    " *entar=gtar->Eval(Enow)-Enow;\n",
    "    \n",
    "    //cout<<\" thick=\"<<_thick<<\" eall=\"<<Enow<<\" etar=\"<<*entar<<'\\n';\n",
    " }\n"
   ]
  },
  {
   "cell_type": "code",
   "execution_count": 5,
   "metadata": {},
   "outputs": [],
   "source": [
    "//                      0Al   1ad1_Si   2Mylay   \n",
    "//Double_t d[_N-1]={   0.5,   148.,     1., };\n",
    "TFile *udead=new TFile(\"/home/zhuhy/JNBook/15C_Etheta/TA_E_theta/root/He3_ad2_173.root\");\n",
    "TTree *tudead=(TTree*) udead->Get(\"tree\");\n",
    "//tudead->Draw(\"se[0]:se[5]\",\"se[7]<61\");                    //总能量小于61时，与第5块硅pid单值\n",
    "//c1->Draw();"
   ]
  },
  {
   "cell_type": "code",
   "execution_count": 6,
   "metadata": {
    "code_folding": []
   },
   "outputs": [],
   "source": [
    "\n",
    "Int_t *I,J=0;\n",
    "I=&J;\n",
    "\n",
    "int start = 563;\n",
    "int stop = 586;\n",
    "TChain *fch;\n",
    "fch = new TChain(\"tree\", \"tele\");\n",
    "for (int i= start; i<=stop; i++){\n",
    "  TString fileName = TString::Format(\"/data/d1/zhuhy/lanzhou2022/getdatappac/newtestn15_2/tele%04d.root\" , i);\n",
    "  //TString fileName = TString::Format(\"/data/d1/zhuhy/telefile/tele%04d.root\" , i);\n",
    "  fch->AddFile(fileName.Data());}\n",
    "\n",
    "start = 748;\n",
    "stop = 789;\n",
    "for (int i= start; i<=stop; i++){\n",
    "  TString fileName = TString::Format(\"/data/d1/zhuhy/lanzhou2022/getdatappac/newtestn15_2/tele%04d.root\" , i);\n",
    "  //TString fileName = TString::Format(\"/data/d1/zhuhy/telefile/tele%04d.root\" , i);\n",
    "  //fch->AddFile(fileName.Data());\n",
    "}\n",
    "\n",
    "TCanvas *c1=new TCanvas;"
   ]
  },
  {
   "cell_type": "code",
   "execution_count": 7,
   "metadata": {},
   "outputs": [],
   "source": [
    "gROOT->Macro(\"/home/zhuhy/JNBook/Experiment2022/taf/taf_E_theta/cuttemp_2H/taf_ad2_ac2A_d.c\");\n",
    "TCutG *newtaf_ad0_ac0A_3He_14B = (TCutG *)gROOT->GetListOfSpecials()->FindObject(\"newtaf_ad0_ac0A_3He_14B\");\n",
    "TCutG *newtaf_ad0_ac0B_3He_14B = (TCutG *)gROOT->GetListOfSpecials()->FindObject(\"newtaf_ad0_ac0B_3He_14B\");\n",
    "TCutG *newtaf_ad1_ac1A_3He_14B = (TCutG *)gROOT->GetListOfSpecials()->FindObject(\"newtaf_ad1_ac1A_3He_14B\");\n",
    "TCutG *newtaf_ad1_ac1B_3He_14B = (TCutG *)gROOT->GetListOfSpecials()->FindObject(\"newtaf_ad1_ac1B_3He_14B\");\n",
    "TCutG *newtaf_ad2_ac2A_3He_14B = (TCutG *)gROOT->GetListOfSpecials()->FindObject(\"newtaf_ad2_ac2A_3He_14B\");\n",
    "TCutG *newtaf_ad2_ac2B_3He_14B = (TCutG *)gROOT->GetListOfSpecials()->FindObject(\"newtaf_ad2_ac2B_3He_14B\");\n",
    "TCutG *newtaf_ad3_ac3A_3He_14B = (TCutG *)gROOT->GetListOfSpecials()->FindObject(\"newtaf_ad3_ac3A_3He_14B\");\n",
    "TCutG *newtaf_ad3_ac3B_3He_14B = (TCutG *)gROOT->GetListOfSpecials()->FindObject(\"newtaf_ad3_ac3B_3He_14B\");\n",
    "TCutG *newtaf_ad4_ac4A_3He_14B = (TCutG *)gROOT->GetListOfSpecials()->FindObject(\"newtaf_ad4_ac4A_3He_14B\");\n",
    "TCutG *newtaf_ad4_ac4B_3He_14B = (TCutG *)gROOT->GetListOfSpecials()->FindObject(\"newtaf_ad4_ac4B_3He_14B\");\n",
    "TCutG *newtaf_ad5_ac5A_3He_14B = (TCutG *)gROOT->GetListOfSpecials()->FindObject(\"newtaf_ad5_ac5A_3He_14B\");\n",
    "TCutG *newtaf_ad5_ac5B_3He_14B = (TCutG *)gROOT->GetListOfSpecials()->FindObject(\"newtaf_ad5_ac5B_3He_14B\");\n",
    "TCutG *the14B_all_d1d2 = (TCutG *)gROOT->GetListOfSpecials()->FindObject(\"14B_all_d1d2\");\n",
    "TCutG *the14B_all_d1d2_01 = (TCutG *)gROOT->GetListOfSpecials()->FindObject(\"14B_all_d1d2_01\");\n",
    "TCutG *the14B_all_d1d2_10 = (TCutG *)gROOT->GetListOfSpecials()->FindObject(\"14B_all_d1d2_10\");\n",
    "TCutG *the14B_all_d1d2_11 = (TCutG *)gROOT->GetListOfSpecials()->FindObject(\"14B_all_d1d2_11\");\n",
    "TCutG *theB14_d1d2_through = (TCutG *)gROOT->GetListOfSpecials()->FindObject(\"B14_d1d2_through\");\n",
    "TCutG *theB14_d1d2_through_tracking = (TCutG *)gROOT->GetListOfSpecials()->FindObject(\"B14_d1d2_through_tracking\");\n",
    "TCutG *the14B_d2d3 = (TCutG *)gROOT->GetListOfSpecials()->FindObject(\"14B_d2d3\");\n",
    "TCutG *the14B_d2d3_01 = (TCutG *)gROOT->GetListOfSpecials()->FindObject(\"14B_d2d3_01\");\n",
    "TCutG *the14B_d2d3_10 = (TCutG *)gROOT->GetListOfSpecials()->FindObject(\"14B_d2d3_10\");\n",
    "TCutG *the14B_d2d3_11 = (TCutG *)gROOT->GetListOfSpecials()->FindObject(\"14B_d2d3_11\");\n",
    "TCutG *theB14_d2d3 = (TCutG *)gROOT->GetListOfSpecials()->FindObject(\"B14_d2d3\");\n",
    "TCutG *theB14_d1d2_high = (TCutG *)gROOT->GetListOfSpecials()->FindObject(\"B14_d1d2_high\");\n",
    "TCutG *the14B_d2d3_new = (TCutG *)gROOT->GetListOfSpecials()->FindObject(\"14B_d2d3_new\");\n",
    "TCutG *Etheta_C15_d3He_d1d2_0 = (TCutG *)gROOT->GetListOfSpecials()->FindObject(\"Etheta_C15_d3He_d1d2_0\");\n",
    "TCutG *Etheta_C15_d3He_d2d3_0 = (TCutG *)gROOT->GetListOfSpecials()->FindObject(\"Etheta_C15_d3He_d2d3_0\");\n",
    "TCutG *Etheta_C15_d3He_d1d2_0_vme = (TCutG *)gROOT->GetListOfSpecials()->FindObject(\"Etheta_C15_d3He_d1d2_0_vme\");\n",
    "TCutG *Etheta_C15_d3He_d2d3_0_vme = (TCutG *)gROOT->GetListOfSpecials()->FindObject(\"Etheta_C15_d3He_d2d3_0_vme\");\n",
    "TCutG *Etheta_small_C15_d3He_d1d2_0 = (TCutG *)gROOT->GetListOfSpecials()->FindObject(\"Etheta_small_15C_d3He_d1d2_0\");\n",
    "TCutG *Etheta_small_C15_d3He_d2d3_0 = (TCutG *)gROOT->GetListOfSpecials()->FindObject(\"Etheta_small_15C_d3He_d2d3_0\");\n",
    "TCutG *Etheta_small_C15_d3He_d1d2_0_vme = (TCutG *)gROOT->GetListOfSpecials()->FindObject(\"Etheta_small_15C_d3He_d1d2_0_vme\");\n",
    "TCutG *Etheta_small_C15_d3He_d2d3_0_vme = (TCutG *)gROOT->GetListOfSpecials()->FindObject(\"Etheta_small_15C_d3He_d2d3_0_vme\");\n",
    "TCutG *C15_d3He_ta_etheta_ad0 = (TCutG *)gROOT->GetListOfSpecials()->FindObject(\"C15_d3He_ta_etheta_ad0\");\n",
    "TCutG *C15_d3He_ta_etheta_ad1 = (TCutG *)gROOT->GetListOfSpecials()->FindObject(\"C15_d3He_ta_etheta_ad1\");\n",
    "TCutG *C15_d3He_ta_etheta_ad2 = (TCutG *)gROOT->GetListOfSpecials()->FindObject(\"C15_d3He_ta_etheta_ad2\");\n",
    "TCutG *C15_d3He_ta_etheta_ad3 = (TCutG *)gROOT->GetListOfSpecials()->FindObject(\"C15_d3He_ta_etheta_ad3\");\n",
    "TCutG *C15_d3He_ta_etheta_ad4 = (TCutG *)gROOT->GetListOfSpecials()->FindObject(\"C15_d3He_ta_etheta_ad4\");\n",
    "TCutG *C15_d3He_ta_etheta_ad5 = (TCutG *)gROOT->GetListOfSpecials()->FindObject(\"C15_d3He_ta_etheta_ad5\");"
   ]
  },
  {
   "cell_type": "code",
   "execution_count": 8,
   "metadata": {
    "code_folding": []
   },
   "outputs": [],
   "source": [
    "  int i;\n",
    "  TGraph *lise=new TGraph();\n",
    "  ifstream in(\"/home/zhuhy/JNBook/15C_Etheta/T1_E_theta/txt/Etheta_B14He3_0.txt\");\n",
    "  string ss;\n",
    "  Double_t a, b, E, theta;\n",
    "  if(in.is_open()){\n",
    "    getline(in,ss);\n",
    "    i=0;\n",
    "    while(!in.eof())\n",
    "    {\n",
    "      in>>a>>b>>theta>>E;\n",
    "      lise->SetPoint(i++,theta,E*3);\n",
    "    }\n",
    "  }\n",
    "  in.close();\n",
    "\n",
    "  TGraph *lise1=new TGraph();\n",
    "  ifstream in1(\"/home/zhuhy/JNBook/15C_Etheta/T1_E_theta/txt/Etheta_B14He3_654.txt\");\n",
    "  if(in1.is_open()){\n",
    "    getline(in1,ss);\n",
    "    i=0;\n",
    "    while(!in1.eof())\n",
    "    {\n",
    "      in1>>a>>b>>theta>>E;\n",
    "      lise1->SetPoint(i++,theta,E*3);\n",
    "    }\n",
    "  }\n",
    "  in1.close();\n",
    "\n",
    "  TGraph *lise2=new TGraph();\n",
    "  ifstream in2(\"/home/zhuhy/JNBook/15C_Etheta/T1_E_theta/txt/Etheta_B14He3_1380.txt\");\n",
    "  if(in2.is_open()){\n",
    "    getline(in2,ss);\n",
    "    i=0;\n",
    "    while(!in2.eof())\n",
    "    {\n",
    "      in2>>a>>b>>theta>>E;\n",
    "      lise2->SetPoint(i++,theta,E*3);\n",
    "    }\n",
    "  }\n",
    "  in2.close();\n",
    "\n",
    "  TGraph *lise3=new TGraph();\n",
    "  ifstream in3(\"/home/zhuhy/JNBook/15C_Etheta/T1_E_theta/txt/Etheta_B14He3_1860.txt\");\n",
    "  if(in3.is_open()){\n",
    "    getline(in3,ss);\n",
    "    i=0;\n",
    "    while(!in3.eof())\n",
    "    {\n",
    "      in3>>a>>b>>theta>>E;\n",
    "      lise3->SetPoint(i++,theta,E*3);\n",
    "    }\n",
    "  }\n",
    "  in3.close();\n",
    "\n",
    "  TGraph *lise4=new TGraph();\n",
    "  ifstream in4(\"/home/zhuhy/JNBook/15C_Etheta/T1_E_theta/txt/Etheta_B14He3_2080.txt\");\n",
    "  if(in4.is_open()){\n",
    "    getline(in4,ss);\n",
    "    i=0;\n",
    "    while(!in4.eof())\n",
    "    {\n",
    "      in4>>a>>b>>theta>>E;\n",
    "      lise4->SetPoint(i++,theta,E*3);\n",
    "    }\n",
    "  }\n",
    "  in4.close();\n",
    "\n",
    "  TGraph *lise5=new TGraph();\n",
    "  ifstream in5(\"/home/zhuhy/JNBook/15C_Etheta/T1_E_theta/txt/Etheta_B14He3_4500.txt\");\n",
    "  if(in5.is_open()){\n",
    "    getline(in5,ss);\n",
    "    i=0;\n",
    "    while(!in5.eof())\n",
    "    {\n",
    "      in5>>a>>b>>theta>>E;\n",
    "      lise5->SetPoint(i++,theta,E*3);\n",
    "    }\n",
    "  }\n",
    "  in5.close();\n"
   ]
  },
  {
   "cell_type": "code",
   "execution_count": 9,
   "metadata": {},
   "outputs": [],
   "source": [
    "/*\n",
    "TGraph *T1Etheta=new TGraph();\n",
    "\n",
    "TString drawName = TString::Format(\"(t1.uw.xne+t1.ud.xne+t1.us.e+t1.csi1u.se[0]):ang.theta*180/3.142\");\n",
    "TString cutName = TString::Format(\"t1.uw.xnthitt1>-300&&t1.uw.xnthitt1<600&&(Ball_1||Ball_2)&&He3\");\n",
    "TString graphName = TString::Format(\"t1_e_theta\");\n",
    "getDraw(T1Etheta, drawName, cutName, graphName,fch,I);\n",
    "\n",
    "graphName = TString::Format(\"T1Etheta_BallHe3_with0_654_1380_1860_2080_4500keV\");\n",
    "T1Etheta->SetNameTitle(graphName.Data(), graphName.Data());\n",
    "*/"
   ]
  },
  {
   "cell_type": "code",
   "execution_count": 10,
   "metadata": {},
   "outputs": [],
   "source": [
    "/*\n",
    "T1Etheta->SetMarkerStyle(3);\n",
    "T1Etheta->Draw(\"ap\");\n",
    "lise->SetMarkerColor(2);\n",
    "lise1->SetMarkerColor(2);\n",
    "lise2->SetMarkerColor(2);\n",
    "lise3->SetMarkerColor(2);\n",
    "lise4->SetMarkerColor(2);\n",
    "lise5->SetMarkerColor(2);\n",
    "lise->Draw(\"samep\");\n",
    "lise1->Draw(\"samep\");\n",
    "lise2->Draw(\"samep\");\n",
    "lise3->Draw(\"samep\");\n",
    "lise4->Draw(\"samep\");\n",
    "lise5->Draw(\"samep\");\n",
    "c1->SetName(\"T1Etheta\");\n",
    "c1->Draw();\n",
    "c1->Write();\n",
    "*/"
   ]
  },
  {
   "cell_type": "code",
   "execution_count": 11,
   "metadata": {
    "scrolled": false
   },
   "outputs": [
    {
     "data": {
      "image/png": "[encoded data removed]",
      "text/plain": [
       "<IPython.core.display.Image object>"
      ]
     },
     "metadata": {},
     "output_type": "display_data"
    }
   ],
   "source": [
    "   c1->Clear();\n",
    "\n",
    "   int count011=0,count012=0;\n",
    "   int count211=0,count212=0;\n",
    "\n",
    "   TGraph *pid01_1;\n",
    "   TGraph *pid01_2;\n",
    "   TGraph *pid21_1;\n",
    "   TGraph *pid21_2;\n",
    " \n",
    "   pid01_1=new TGraph;\n",
    "   pid01_2=new TGraph;\n",
    "   pid21_1=new TGraph;\n",
    "   pid21_2=new TGraph;\n",
    "\n",
    "   Double_t sse[4]={0,0,0,0};\n",
    "   tudead->SetBranchAddress(\"se\", sse);\n",
    "   Long64_t nentries05 = tudead->GetEntries();\n",
    "   for (Long64_t jentry05=1; jentry05<nentries05;jentry05++) {\n",
    "      //Long64_t ientry05 = LoadTree(jentry05);\n",
    "      tudead->GetEntry(jentry05);\n",
    "      //if(sse[0]==0||sse[5]==0)continue;\n",
    "//以ad为参考\n",
    "       if(sse[0]>0.01&&sse[1]>0.01&&sse[3]<15.66)pid01_1->SetPoint(count011++,sse[1],sse[0]);\n",
    "      else if(sse[0]>0&&sse[1]>0&&sse[3]>15.71)pid01_2->SetPoint(count011++,sse[1],sse[0]);\n",
    "       \n",
    "      if(sse[2]>0.01&&sse[1]>0.01&&sse[1]<15.3&&sse[3]<15.66)pid21_1->SetPoint(count211++,sse[1],sse[2]);\n",
    "      else if(sse[2]>0&&sse[1]>0&&sse[1]<15.3&&sse[3]>15.71)pid21_2->SetPoint(count211++,sse[1],sse[2]);\n",
    "\n",
    "   }\n",
    "\n",
    "   //pid23_1->SetMarkerStyle(3);\n",
    "   pid01_2->SetNameTitle(\"dead2:ad pid1\",\"dead2:ad pid1\");\n",
    "   pid01_2->Draw(\"ap\");\n",
    "   c1->Draw();\n",
    "\n",
    "\n",
    "   "
   ]
  },
  {
   "cell_type": "code",
   "execution_count": 12,
   "metadata": {},
   "outputs": [],
   "source": [
    "Double_t xxs,ad3_thick[16];\n",
    "Double_t realthick[6]={137.25,141.5,141.5,150,141.5,137.25};\n",
    "char str_thick[100]=\"/home/zhuhy/JNBook/Experiment2022/taf/csicali/txt/taf_ad0_thickreal.txt\";\n",
    "ifstream in_thick(str_thick);\n",
    "  if(in_thick.is_open()){\n",
    "//    getline(in,ss);\n",
    "    Int_t i=0; \n",
    "    while(i<16)\n",
    "    {\n",
    "      in_thick>>xxs>>ad3_thick[i];\n",
    "      i++;\n",
    "    }\n",
    "  }\n",
    "  in_thick.close();\n",
    "for(Int_t ii=0;ii<16;ii++)ad3_thick[ii]=ad3_thick[ii]*realthick[_adnum]/150.;"
   ]
  },
  {
   "cell_type": "code",
   "execution_count": 13,
   "metadata": {},
   "outputs": [
    {
     "data": {
      "image/png": "[encoded data removed]",
      "text/plain": [
       "<IPython.core.display.Image object>"
      ]
     },
     "metadata": {},
     "output_type": "display_data"
    }
   ],
   "source": [
    "TFile *nudead[150];\n",
    "TTree *ntudead[150];\n",
    "int ncount32_1[150],ncount32_2[150];\n",
    "key=0;\n",
    "TGraph *npid32_1[150];\n",
    "TGraph *npid32_2[150];\n",
    "TString nudeadname[150];\n",
    "Double_t nsse[4]={0,0,0,0};\n",
    "Long64_t nnentries05;\n",
    "Double_t ntempESi;\n",
    "for(Int_t ii=0;ii<150;ii++){\n",
    "\n",
    "    nudeadname[ii]= TString::Format(\"/home/zhuhy/zhuhy/pid/pid_tar_ads/pid3He/ad124_%03dd.root\" , ii+150);\n",
    "    nudead[ii]=new TFile(nudeadname[ii].Data());\n",
    "    ntudead[ii]=(TTree*) nudead[ii]->Get(\"tree\");\n",
    "    ncount32_1[ii]=0;\n",
    "    ncount32_2[ii]=0;\n",
    "    npid32_1[ii]=new TGraph;\n",
    "    npid32_2[ii]=new TGraph;\n",
    "    ntudead[ii]->SetBranchAddress(\"se\", nsse);\n",
    "    nnentries05 = ntudead[ii]->GetEntries();\n",
    "    key=0;\n",
    "    ntempESi=0;\n",
    "   for (Long64_t jentry05=1; jentry05<nnentries05;jentry05++) {\n",
    "      ntudead[ii]->GetEntry(jentry05);\n",
    "      if(ntempESi>nsse[2]&&nsse[2]>0)key=1;\n",
    "      ntempESi=nsse[2];\n",
    "      if(key==0&&nsse[2]>0)npid32_1[ii]->SetPoint(ncount32_1[ii]++,nsse[2],nsse[3]);\n",
    "      else if(key==1&&nsse[2]>0)npid32_2[ii]->SetPoint(ncount32_2[ii]++,nsse[2],nsse[3]);\n",
    "\n",
    "   }\n",
    "}\n",
    "   c1->Clear();\n",
    "   npid32_1[20]->SetMarkerStyle(3);\n",
    "   npid32_1[20]->SetNameTitle(\"dead2:ad pid1\",\"dead2:ad pid1\");\n",
    "   npid32_1[20]->Draw(\"ap\");\n",
    "   c1->Draw();"
   ]
  },
  {
   "cell_type": "code",
   "execution_count": 14,
   "metadata": {},
   "outputs": [
    {
     "data": {
      "image/png": "[encoded data removed]",
      "text/plain": [
       "<IPython.core.display.Image object>"
      ]
     },
     "metadata": {},
     "output_type": "display_data"
    }
   ],
   "source": [
    "   c1->Clear();\n",
    "   //pid23_2->SetMarkerStyle(3);\n",
    "   pid21_2->SetNameTitle(\"dead2:ad pid2\",\"dead2:ad pid2\");\n",
    "   pid21_2->Draw(\"ap\");\n",
    "   c1->Draw();"
   ]
  },
  {
   "cell_type": "code",
   "execution_count": 15,
   "metadata": {
    "scrolled": false
   },
   "outputs": [
    {
     "data": {
      "image/png": "[encoded data removed]",
      "text/plain": [
       "<IPython.core.display.Image object>"
      ]
     },
     "metadata": {},
     "output_type": "display_data"
    }
   ],
   "source": [
    "   TGraph *pidtry1=new TGraph;\n",
    "   TGraph *pidtry2=new TGraph;\n",
    "   \n",
    "   Double_t ix;\n",
    "   int countix1=0,countix2=0;\n",
    "   for (ix=0; ix<25;ix=ix+0.001) {\n",
    "     pidtry1->SetPoint(countix1++,ix,pid01_1->Eval(ix));\n",
    "     pidtry2->SetPoint(countix2++,ix,pid01_2->Eval(ix));\n",
    "   }\n",
    "   pidtry1->SetMarkerStyle(3);\n",
    "   pidtry2->SetMarkerStyle(4);\n",
    "   pid01_1->SetMarkerColor(2);\n",
    "   pid01_2->SetMarkerColor(2);\n",
    "   pidtry1->SetNameTitle(\"dead2:ud pid calculate & fit calculete:red fit:black\",\"dead2:ud pid calculate & fit calculete:red fit:black\");\n",
    "   pidtry1->Draw(\"ap\");\n",
    "   pidtry2->Draw(\"samep\");\n",
    "   pid01_1->Draw(\"samep\");\n",
    "   pid01_2->Draw(\"samep\");\n",
    "   c1->Draw();"
   ]
  },
  {
   "cell_type": "code",
   "execution_count": null,
   "metadata": {},
   "outputs": [],
   "source": []
  },
  {
   "cell_type": "code",
   "execution_count": 16,
   "metadata": {},
   "outputs": [],
   "source": [
    "udead->Close();"
   ]
  },
  {
   "cell_type": "code",
   "execution_count": 17,
   "metadata": {},
   "outputs": [],
   "source": [
    "/*****************************************************************************************************************************************/\n",
    "TFile *fout = new TFile(\"/home/zhuhy/JNBook/Experiment2022/taf/taf_E_theta/graph_2H/all_new15C_small_3He_all_taf_ad2_ac2A_theta_delay_tarloss.root\",\"recreate\");\n",
    "fout->cd();"
   ]
  },
  {
   "cell_type": "code",
   "execution_count": 18,
   "metadata": {},
   "outputs": [],
   "source": [
    "/*\n",
    "Double_t uw_xne[8],uw_xs[8],ud_xne[15],ud_xs[15],us_e,csi1u_se[5],uw_xnthitt1[8][5];\n",
    "Double_t dw_xne[8],dw_xs[8],dd_xne[15],dd_xs[15],ds_e,csi1d_se[5];\n",
    "Double_t ang_theta;\n",
    "\n",
    "TBranch *b_t1_uw_xne;\n",
    "TBranch *b_t1_uw_xnthitt1;\n",
    "TBranch *b_t1_ud_xne;\n",
    "TBranch *b_t1_us_e;\n",
    "TBranch *b_t1_csi1u_se;\n",
    "TBranch *b_ang_theta;\n",
    "\n",
    "fch->SetMakeClass(1);    // important!!!\n",
    "\n",
    "fch->SetBranchAddress(\"uw.xne[8]\", uw_xne, &b_t1_uw_xne);\n",
    "fch->SetBranchAddress(\"uw.xnthitt1[8][5]\", uw_xnthitt1, &b_t1_uw_xnthitt1);\n",
    "fch->SetBranchAddress(\"ud.xne[15]\", ud_xne, &b_t1_ud_xne);\n",
    "fch->SetBranchAddress(\"us.e\", &us_e, &b_t1_us_e);\n",
    "fch->SetBranchAddress(\"csi1u.se[5]\", csi1u_se, &b_t1_csi1u_se);\n",
    "\n",
    "fch->SetBranchAddress(\"theta\", &ang_theta, &b_ang_theta);\n",
    "\n",
    "Long64_t nentries = fch->GetEntries();\n",
    "TGraph *T1Etheta_new=new TGraph();\n",
    "Int_t count=0;\n",
    "for (Long64_t jentry=0;jentry<nentries;jentry++) {\n",
    "  fch->GetEntry(jentry);\n",
    "  if(jentry%100000==0)cout<<jentry<<\" : \"<<nentries<<\" count:\"<<count<<'\\n';\n",
    "  if(uw_xnthitt1[0][0]>-300&&uw_xnthitt1[0][0]<600){\n",
    "           T1Etheta_new->SetPoint(count++,ang_theta*180/3.142,uw_xne[0]+ud_xne[0]+us_e+csi1u_se[0]);\n",
    "       }\n",
    "       else continue;\n",
    "       //if(ds_e<dd_xne[0])denexp->Fill(dd_xne[0]);\n",
    "       //if(count%100==0)cout<<\"count=\"<<count<<\"ud=\"<<ud_xne[0]<<\" us=\"<<us_e<<'\\n';\n",
    "}\n",
    "*/\n",
    "\n"
   ]
  },
  {
   "cell_type": "code",
   "execution_count": 19,
   "metadata": {},
   "outputs": [],
   "source": [
    "TGraph *T1Etheta_old=new TGraph();\n",
    "TGraph *T1Etheta_new=new TGraph();\n",
    "\n",
    "TString drawName_new1 = TString::Format(\"angle[2]*180/3.142:(taf_ad2_xcen[0]+taf_ac2_hcen_3He[0]):taf_ac2_hcen_3He[0]\");\n",
    "TString drawName_new2 = TString::Format(\"taf_ad2_xs[0]:angle_tar20[2]*180/3.142:taf_ad2_xce[0]\");\n",
    "TString drawName_new3 = TString::Format(\"taf_ad2_xs[0]:taf_ad2_xce[0]:taf_ac2_hcen_3He[1]\");\n",
    "//TString drawName = TString::Format(\"(t1.uw.xne+t1.ud.xne+t1.us.e+t1.csi1u.se[0]):ang.theta*180/3.142\");\n",
    "//TString cutName_new = TString::Format(\"t0.d2.xnthit>-500&&t0.d2.xnthit<500\");\n",
    "TString cutName_new = TString::Format(\"(1&&taf_ad2_ac2A_3He_C15&&C15_beamN16&&N16_d3He_thetatheta_fad2&&((xtarx+0.95)*(xtarx+0.95)/(12.55*12.55)+(xtary-1.05)*(xtary-1.05)/(14.95*14.95))<0.95&&((abs(t0_d2_px[0]-(xtarx+(t0_d1_px[0]-xtarx)*113.8/100.))<4&&abs(t0_d2_py[0]-(xtary+(t0_d1_py[0]-xtary)*113.8/100.))<4)))    ||     (1&&(fabs(t0_d1_yce[0]-140)<30&&(fabs(taf_ad2_xce[0]-10)<10&&taf_ac2_hcen_3He[0]==0&&taf_ac2_hcen_3He[1]==0)&&abs(t0_d1_yce[0]-t0_d1_xce[0])<20&&((xtarx+0.95)*(xtarx+0.95)/(12.55*12.65)+(xtary-1.05)*(xtary-1.05)/(14.95*14.95))<0.95&&abs(t0_d2_px[0]-(xtarx+(t0_d1_px[0]-xtarx)*113.8/100.))<4&&abs(t0_d2_py[0]-(xtary+(t0_d1_py[0]-xtary)*113.8/100.))<4&&16N_d_3He_thetatheta_finnal_ad2&&C15_beamN16&&Et_N16_d3He_C15&&((taf_ad2_xce[0]>(0.14754*(angle[2]*180./3.1416-0.55)-1.45)))))\");//newB14_2&&taf_ad0_ac0A_3He_1314B\n",
    "//&&((abs(tarx-4.35))<(3.*8.691))&&((abs(tary-1.40))<(3.*6.579))\n",
    "//TString cutName_new = TString::Format(\"(Ball_1||Ball_2)&&uHe3\");\n",
    "TString graphName_old = TString::Format(\"taad1_e_theta_old\");\n",
    "TString graphName_new = TString::Format(\"taad1_e_theta_new\");\n",
    "//getDraw2D(T1Etheta_new, drawName_new, cutName_new, graphName_new,fch);\n",
    "\n",
    "//graphName = TString::Format(\"T1Etheta_BallHe3_with0_654_1380_1860_2080_4500keV\");\n",
    "//T1Etheta_new->SetNameTitle(drawName,graphName.Data(), graphName.Data());\n",
    "\n"
   ]
  },
  {
   "cell_type": "code",
   "execution_count": 20,
   "metadata": {
    "scrolled": true
   },
   "outputs": [
    {
     "name": "stderr",
     "output_type": "stream",
     "text": [
      "Warning in <TFile::Append>: Replacing existing TGraph2D: Graph2D (Potential memory leak).\n"
     ]
    },
    {
     "name": "stdout",
     "output_type": "stream",
     "text": [
      "npoints1=26 npoints2=26 npoints3=26\n"
     ]
    },
    {
     "name": "stderr",
     "output_type": "stream",
     "text": [
      "Warning in <TFile::Append>: Replacing existing TGraph2D: Graph2D (Potential memory leak).\n"
     ]
    }
   ],
   "source": [
    "        Int_t num1=fch->Draw(drawName_new1.Data(),cutName_new.Data());\n",
    "        if(num1==0) return;\n",
    "        TGraph2D *e1=new TGraph2D(num1,fch->GetV3(),fch->GetV2(),fch->GetV1());\n",
    "\n",
    "        Int_t num2=fch->Draw(drawName_new2.Data(),cutName_new.Data());\n",
    "        if(num2==0) return;\n",
    "        TGraph2D *e2=new TGraph2D(num2,fch->GetV3(),fch->GetV2(),fch->GetV1());\n",
    "\n",
    "        Int_t num3=fch->Draw(drawName_new3.Data(),cutName_new.Data());\n",
    "        if(num3==0) return;\n",
    "        TGraph2D *e3=new TGraph2D(num3,fch->GetV3(),fch->GetV2(),fch->GetV1());\n",
    "\n",
    "//利用上一步相同cut中画的事件顺序一致\n",
    "\n",
    "        Int_t npoints1=e1->GetN();\n",
    "        Int_t npoints2=e2->GetN();\n",
    "        Int_t npoints3=e3->GetN();\n",
    "        if(npoints1==0) return;\n",
    "        cout<<\"npoints1=\"<<npoints1<<\" npoints2=\"<<npoints2<<\" npoints3=\"<<npoints3<<'\\n';\n",
    "/*        TGraph2D *g2D=new TGraph2D(*e1);\n",
    "        TString tmpgName;\n",
    "        tmpgName=\"g2D\"+graphName_new;\n",
    "        g2D->SetNameTitle(tmpgName.Data(), tmpgName.Data());\n",
    "*/\n",
    "        Double_t *gac=e1->GetX();\n",
    "        Double_t *geall=e1->GetY();\n",
    "        Double_t *gang=e1->GetZ();\n",
    "        Double_t *gad=e2->GetX();\n",
    "        Double_t *gang_tar=e2->GetY();\n",
    "        Double_t *gxs=e2->GetZ();\n",
    "        Double_t *gacB=e3->GetX();\n",
    "        Double_t *gado=e3->GetY();\n",
    "    \n",
    "//TGraph *T1Etheta_new=new TGraph();\n"
   ]
  },
  {
   "cell_type": "code",
   "execution_count": 21,
   "metadata": {},
   "outputs": [],
   "source": [
    "for(Int_t ii=0; ii<npoints1; ii++){\n",
    "   T1Etheta_old->SetPoint(ii,gang[ii],geall[ii]);\n",
    " }"
   ]
  },
  {
   "cell_type": "code",
   "execution_count": 22,
   "metadata": {},
   "outputs": [
    {
     "data": {
      "image/png": "[encoded data removed]",
      "text/plain": [
       "<IPython.core.display.Image object>"
      ]
     },
     "metadata": {},
     "output_type": "display_data"
    }
   ],
   "source": [
    "\n",
    "T1Etheta_old->SetMarkerStyle(3);\n",
    "T1Etheta_old->SetNameTitle(\"E:theta old E-theta\",\"E:theta old E-theta\");\n",
    "T1Etheta_old->Draw(\"ap\");\n",
    "lise->SetMarkerColor(2);\n",
    "lise->Draw(\"samep\");\n",
    "c1->SetName(\"T1Etheta_old\");\n",
    "c1->Draw();\n",
    "c1->Write();\n"
   ]
  },
  {
   "cell_type": "code",
   "execution_count": 23,
   "metadata": {
    "code_folding": [],
    "scrolled": true
   },
   "outputs": [
    {
     "name": "stdout",
     "output_type": "stream",
     "text": [
      "before: E_ad=13.8343\tafter: E_all=18.4964\tangle=45.811\n",
      "before: E_ad=12.5766\tafter: E_all=18.2525\tangle=47.1199\n",
      "before: E_ad=15.1475\tafter: E_all=17.5445\tangle=46.4161\n",
      "before: E_ad=4.53345\tafter: E_all=7.06142\tangle=38.7062\n",
      "before: E_ad=3.0961\tafter: E_all=5.88801\tangle=29.4555\n",
      "before: E_ad=11.8257\tafter: E_all=13.6488\tangle=42.7795\n",
      "before: E_ad=5.18055\tafter: E_all=7.64967\tangle=41.7109\n",
      "before: E_ad=9.91739\tafter: E_all=11.8584\tangle=39.1619\n",
      "before: E_ad=3.91027\tafter: E_all=6.5474\tangle=31.2467\n",
      "before: E_ad=9.69986\tafter: E_all=11.6353\tangle=37.1824\n",
      "before: E_ad=13.9036\tafter: E_all=15.6388\tangle=44.495\n",
      "before: E_ad=4.36974\tafter: E_all=6.92972\tangle=39.2031\n",
      "before: E_ad=14.0616\tafter: E_all=15.7267\tangle=28.4366\n",
      "before: E_ad=8.42604\tafter: E_all=10.4335\tangle=36.1566\n",
      " μ:0.00338361 ad：4.61636 ac：61.5954 eall:65.6973 ang=47.359 *tar=0.207793\n",
      "before: E_ad=3.33322\tafter: E_all=6.06257\tangle=28.9153\n",
      "before: E_ad=16.823\tafter: E_all=17.8854\tangle=46.8\n",
      "before: E_ad=16.8338\tafter: E_all=17.9207\tangle=46.0851\n",
      "before: E_ad=10.8071\tafter: E_all=12.6541\tangle=31.5822\n",
      "before: E_ad=16.8263\tafter: E_all=17.3614\tangle=45.7183\n",
      "before: E_ad=8.2527\tafter: E_all=10.3176\tangle=38.3799\n",
      "before: E_ad=4.89988\tafter: E_all=7.342\tangle=33.0781\n",
      "before: E_ad=12.4782\tafter: E_all=14.3008\tangle=42.9216\n",
      " μ:0.00403275 ad：4.95759 ac：55.4907 eall:60.1093 ang=47.9164 *tar=0.226602\n",
      "before: E_ad=17.6339\tafter: E_all=16.9829\tangle=46.2134\n",
      " μ:0.00903018 ad：7.20869 ac：31.4435 eall:38.0022 ang=48.4115 *tar=0.326804\n",
      "count=26\n"
     ]
    }
   ],
   "source": [
    " /*for (ix=0; ix<54.8;ix=ix+0.1) {\n",
    "     pidtry->SetPoint(count1++,ix,pid05_1->Eval(ix));\n",
    "     if(ix>8)pidtry->SetPoint(count1++,ix,pid05_2->Eval(ix));\n",
    "   }\n",
    "*/\n",
    "\n",
    "TGraph *edelta_d=new TGraph();\n",
    "TGraph *e_dall=new TGraph();\n",
    "TGraph *edelta_s=new TGraph();\n",
    "TGraph *edelta_tar=new TGraph();\n",
    "TGraph *e_ds_tar_delta=new TGraph();\n",
    "TGraph *e_ds_tar_all=new TGraph();\n",
    "TGraph *e_ds_before=new TGraph();\n",
    "TGraph *ad_ac=new TGraph();\n",
    "\n",
    "Int_t count=0,countd=0,counts=0,counttar=0;\n",
    "Double_t eall,ealltemp,ealltemp_tar,etar=0;\n",
    "Double_t _thick,*entar;\n",
    "entar=&etar;\n",
    "Int_t therthick=0;\n",
    "Int_t thexs=-1;\n",
    "int AA=3,ZZ=2;\n",
    "char str3He[100]=\"/home/zhuhy/JNBook/15C_Etheta/T1_E_theta/txt/3He-CD2.txt\";\n",
    "\n",
    "for(Int_t i=0; i<npoints1; i++){\n",
    "    if(!(gac[i]>0))goto _end;                     //注意检查条件是否正确，什么是有信号，什么是没信号\n",
    "    if(!(gang[i]>0))continue;\n",
    "    //ealltemp=eall=geall[i];\n",
    "    ad_ac->SetPoint(countd++,gac[i],gad[i]);\n",
    "if(gad[i]>0>0&&gac[i]>0)ealltemp=eall=gad[i]+gac[i];\n",
    "    \n",
    "//矫死层\n",
    "if((gac[i]>0)&&(gac[i]>0)){\n",
    "   eall=eall+pid01_2->Eval(gad[i])+pid21_2->Eval(gad[i]);\n",
    "    \n",
    "   if((eall-ealltemp)>0)edelta_s->SetPoint(counts++,ealltemp,(eall-ealltemp));\n",
    "}\n",
    "                                                                        //用总能量去推测在死层里的沉积能量（阶跃）\n",
    "    \n",
    " \n",
    "ealltemp_tar=eall;\n",
    "//靶里能损\n",
    "_thick=23.35/TMath::Cos((gang_tar[i])*TMath::DegToRad());            //36? mg/cm2=>\n",
    "//cout<<\" cos(ang-30):\"<<TMath::Cos((gang[i]-30)*TMath::DegToRad());\n",
    "\n",
    "    if((eall-ealltemp)>0.5){\n",
    "       cout<<\" error_μ:\"<<(eall-ealltemp)/eall<<\" ad：\"<<gad[i]<<\" ac：\"<<gac[i]<<\" eall:\"<<geall[i]<<'\\n';\n",
    "       //continue;\n",
    "   }\n",
    "    \n",
    "    tarloss(entar,AA,str3He,_thick,eall);\n",
    "    eall=eall+*entar;\n",
    "    edelta_tar->SetPoint(counttar++,ealltemp,*entar);\n",
    "\n",
    "   \n",
    "\n",
    "   cout<<\" μ:\"<<(eall-ealltemp)/eall<<\" ad：\"<<gad[i]<<\" ac：\"<<gac[i]<<\" eall:\"<<geall[i]<<\" ang=\"<<(gang[i])<<\" *tar=\"<<*entar<<'\\n';\n",
    "   //cout<<\" eall_now:\"<<eall<< \" μ=\"<<(eall-ealltemp)/eall<<'\\n';\n",
    "   e_ds_tar_delta->SetPoint(count,ealltemp,(eall-ealltemp));\n",
    "    \n",
    "   if((gac[i]>0)&&(gac[i]>0))e_ds_tar_all->SetPoint(count,ealltemp,(eall-ealltemp)+gad[i]+gac[i]);\n",
    "   if((gac[i]>0)&&(gac[i]>0))e_ds_before->SetPoint(count,ealltemp,*entar+gad[i]+gac[i]);\n",
    "   if(gang[i]>0.0001&&!((gang[i]-0.55)>44.5&&gac[i]==0&&gacB[i]==0))T1Etheta_new->SetPoint(count++,gang[i],eall);\n",
    "_end:\n",
    "   if(gac[i]==0&&gacB[i]==0){\n",
    "    therthick=(Int_t)(150./TMath::Cos((gang_tar[i])*TMath::DegToRad()));\n",
    "    if(therthick<150||therthick>=300){cout<<\"!!!!!!!!!!!!!!!!!!!!!therthick=\"<<therthick<<'\\t'<<\"angle=\"<<gang_tar[i]<<'\\n';continue;}\n",
    "    thexs=gxs[i];\n",
    "    if((gang[i]-0.55)>44.5)eall=npid32_2[therthick-150]->Eval(gado[i])+1.;\n",
    "    else if((gang[i]-0.55)<=44.5)eall=npid32_1[therthick-150]->Eval(gado[i])+1.;\n",
    "    if(abs(ealltemp-eall)>0.0001){\n",
    "        T1Etheta_new->SetPoint(count++,gang[i],eall);\n",
    "        cout<<\"before: E_ad=\"<<gad[i]<<'\\t'<<\"after: E_all=\"<<eall<<'\\t'<<\"angle=\"<<gang[i]<<'\\n';\n",
    "    }\n",
    "       ealltemp=eall;\n",
    "   }\n",
    "    \n",
    " }\n",
    " cout<<\"count=\"<<count<<'\\n';  "
   ]
  },
  {
   "cell_type": "code",
   "execution_count": 24,
   "metadata": {},
   "outputs": [
    {
     "data": {
      "image/png": "[encoded data removed]",
      "text/plain": [
       "<IPython.core.display.Image object>"
      ]
     },
     "metadata": {},
     "output_type": "display_data"
    }
   ],
   "source": [
    "c1->Clear();\n",
    "ad_ac->SetMarkerStyle(3);\n",
    "ad_ac->SetNameTitle(\"ac_ac\",\"ac_ac\");\n",
    "ad_ac->Draw(\"ap\");\n",
    "c1->Draw();"
   ]
  },
  {
   "cell_type": "code",
   "execution_count": 25,
   "metadata": {},
   "outputs": [
    {
     "data": {
      "image/png": "[encoded data removed]",
      "text/plain": [
       "<IPython.core.display.Image object>"
      ]
     },
     "metadata": {},
     "output_type": "display_data"
    },
    {
     "name": "stderr",
     "output_type": "stream",
     "text": [
      "Error in <TGraphPainter::PaintGraph>: illegal number of points (0)\n"
     ]
    }
   ],
   "source": [
    "c1->Clear();\n",
    "edelta_s->SetNameTitle(\"e_delta:eall delta by s\",\"e_delta:eall delta by s\");\n",
    "edelta_s->SetMarkerStyle(3);\n",
    "edelta_s->SetMarkerColor(2);\n",
    "edelta_s->Draw(\"ap\");\n",
    "edelta_d->Draw(\"samep\");\n",
    "c1->Draw();"
   ]
  },
  {
   "cell_type": "code",
   "execution_count": 26,
   "metadata": {},
   "outputs": [
    {
     "data": {
      "image/png": "[encoded data removed]",
      "text/plain": [
       "<IPython.core.display.Image object>"
      ]
     },
     "metadata": {},
     "output_type": "display_data"
    }
   ],
   "source": [
    "edelta_tar->SetNameTitle(\"edelta_tar:eall\",\"edelta_tar:eall\");\n",
    "edelta_tar->Draw(\"ap\");        //check by lise\n",
    "c1->Draw();"
   ]
  },
  {
   "cell_type": "code",
   "execution_count": 27,
   "metadata": {
    "scrolled": false
   },
   "outputs": [
    {
     "data": {
      "image/png": "[encoded data removed]",
      "text/plain": [
       "<IPython.core.display.Image object>"
      ]
     },
     "metadata": {},
     "output_type": "display_data"
    }
   ],
   "source": [
    "e_ds_tar_delta->SetNameTitle(\"(edelta_ds+edelta_tar):eall\",\"(edelta_ds+edelta_tar):eall\");\n",
    "e_ds_tar_delta->Draw(\"ap\");\n",
    "c1->Draw();\n",
    "//下方的是ang=nan的无效信号，e_tar_delta=0 e_ds_tar_delta=e_tar_delta+e_ds_delta故与上方信号形状一致但低很多"
   ]
  },
  {
   "cell_type": "code",
   "execution_count": 28,
   "metadata": {},
   "outputs": [
    {
     "data": {
      "image/png": "[encoded data removed]",
      "text/plain": [
       "<IPython.core.display.Image object>"
      ]
     },
     "metadata": {},
     "output_type": "display_data"
    },
    {
     "name": "stdout",
     "output_type": "stream",
     "text": [
      "26"
     ]
    }
   ],
   "source": [
    "e_ds_tar_all->SetNameTitle(\"eall:eall_before eall=eall_before+edelta_ds+edelta_tar\",\"eall:eall_before eall=eall_before+edelta_ds+edelta_tar\");\n",
    "e_ds_tar_all->Draw(\"ap\");\n",
    "cout<<e_ds_tar_all->GetN();\n",
    "c1->Draw();"
   ]
  },
  {
   "cell_type": "code",
   "execution_count": 29,
   "metadata": {
    "scrolled": false
   },
   "outputs": [
    {
     "data": {
      "image/png": "[encoded data removed]",
      "text/plain": [
       "<IPython.core.display.Image object>"
      ]
     },
     "metadata": {},
     "output_type": "display_data"
    },
    {
     "name": "stdout",
     "output_type": "stream",
     "text": [
      "26"
     ]
    }
   ],
   "source": [
    "e_ds_before->SetNameTitle(\"eall_ds:eall_before eall=eall_before+edelta_ds\",\"eall:eall_before eall=eall_before+edelta_ds\");\n",
    "e_ds_before->Draw(\"ap\");\n",
    "cout<<e_ds_before->GetN();\n",
    "c1->Draw();"
   ]
  },
  {
   "cell_type": "code",
   "execution_count": 30,
   "metadata": {
    "scrolled": false
   },
   "outputs": [
    {
     "data": {
      "image/png": "[encoded data removed]",
      "text/plain": [
       "<IPython.core.display.Image object>"
      ]
     },
     "metadata": {},
     "output_type": "display_data"
    }
   ],
   "source": [
    "T1Etheta_new->SetMarkerStyle(3);\n",
    "T1Etheta_new->SetNameTitle(\"T1Etheta_new_bydstar\",\"T1Etheta_new_bydstar\");\n",
    "\n",
    "T1Etheta_new->Draw(\"ap\");\n",
    "T1Etheta_new->Write();\n",
    "lise->SetMarkerColor(2);\n",
    "lise->Draw(\"samep\");\n",
    "c1->SetName(\"T1Etheta_new\");\n",
    "c1->Draw();\n",
    "c1->Write();"
   ]
  },
  {
   "cell_type": "code",
   "execution_count": 31,
   "metadata": {},
   "outputs": [],
   "source": [
    "//Q = (ma/mB− 1 )Ea + (mb/mB+ 1 )Eb −2cos/mB*sqr(ma*mb*Ea*Eb)\n",
    "//15C+d->3He+14B      a=15C A=d b=3He  B=14B\n",
    "//ma=15.0105993 mb=3.01602932265 mB=14.025404 Ea=27 MeV Eb_Etheta"
   ]
  },
  {
   "cell_type": "code",
   "execution_count": 32,
   "metadata": {},
   "outputs": [],
   "source": [
    "fout->Close();"
   ]
  }
 ],
 "metadata": {
  "kernelspec": {
   "display_name": "ROOT C++",
   "language": "c++",
   "name": "root"
  },
  "language_info": {
   "codemirror_mode": "text/x-c++src",
   "file_extension": ".C",
   "mimetype": " text/x-c++src",
   "name": "c++"
  },
  "toc": {
   "base_numbering": 1,
   "nav_menu": {},
   "number_sections": true,
   "sideBar": true,
   "skip_h1_title": false,
   "title_cell": "Table of Contents",
   "title_sidebar": "Contents",
   "toc_cell": false,
   "toc_position": {},
   "toc_section_display": true,
   "toc_window_display": false
  }
 },
 "nbformat": 4,
 "nbformat_minor": 2
}
