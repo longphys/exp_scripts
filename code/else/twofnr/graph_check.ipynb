{
 "cells": [
  {
   "cell_type": "code",
   "execution_count": 1,
   "metadata": {},
   "outputs": [
    {
     "name": "stdout",
     "output_type": "stream",
     "text": [
      "\u001b[?1034h"
     ]
    }
   ],
   "source": [
    "//%jsroot on"
   ]
  },
  {
   "cell_type": "code",
   "execution_count": 2,
   "metadata": {},
   "outputs": [],
   "source": [
    "TCanvas *c1=new TCanvas(\"c1\",\"c1\");"
   ]
  },
  {
   "cell_type": "code",
   "execution_count": 3,
   "metadata": {
    "scrolled": true
   },
   "outputs": [],
   "source": [
    "ifstream read1;\n",
    "read1.open(\"/home/zhuhy/JNBook/Experiment2022/taf/else/twofnr/txt/15Cpd_s.txt\", ios::in);\n",
    "TGraph *gf=new TGraph();\n",
    "\n",
    "        if(!read1.is_open()){\n",
    "                cout<<\" Cannot find normParas\" <<endl;\n",
    "                return;\n",
    "        }\n",
    "        Int_t line = 0;countgf=0;\n",
    "        Double_t x,r,aa;\n",
    "        string ss;\n",
    "        while(!read1.eof()&&line<81){\n",
    "                if(line<1)getline(read1,ss);\n",
    "                else {\n",
    "                    read1>>x>>r>>aa;\n",
    "                    gf->SetPoint(countgf++,x,r);\n",
    "                    //cout<<x<<'\\t'<<r<<'\\n';\n",
    "                }\n",
    "                line++;\n",
    "        }\n",
    "        read1.close();\n"
   ]
  },
  {
   "cell_type": "code",
   "execution_count": 4,
   "metadata": {},
   "outputs": [],
   "source": [
    "ifstream read2;\n",
    "read2.open(\"/home/zhuhy/JNBook/Experiment2022/taf/else/twofnr/txt/15Cpd_sB.dat\", ios::in);\n",
    "TGraph *gf2=new TGraph();\n",
    "\n",
    "        if(!read2.is_open()){\n",
    "                cout<<\" Cannot find normParas\" <<endl;\n",
    "                return;\n",
    "        }\n",
    "        line = 0;\n",
    "        Int_t countgf2=0;\n",
    "        x=0;\n",
    "        while(!read2.eof()){\n",
    "                    read2>>r;\n",
    "                    gf2->SetPoint(countgf2++,x,r);\n",
    "                    //cout<<x<<'\\t'<<r<<'\\n';\n",
    "                    x=x+0.1;\n",
    "        }\n",
    "        read2.close();\n"
   ]
  },
  {
   "cell_type": "code",
   "execution_count": null,
   "metadata": {},
   "outputs": [
    {
     "name": "stdout",
     "output_type": "stream",
     "text": [
      " Cannot find normParas\n"
     ]
    },
    {
     "name": "stderr",
     "output_type": "stream",
     "text": [
      "\n",
      " *** Break *** segmentation violation\n"
     ]
    }
   ],
   "source": [
    "\n",
    "ifstream read3;\n",
    "read3.open(\"/home/zhuhy/JNBook/Experiment2022/taf/else/twofnr/txt/ffsubff.txt\", ios::in);\n",
    "TGraph *gf3=new TGraph();\n",
    "\n",
    "        if(!read3.is_open()){\n",
    "                cout<<\" Cannot find normParas\" <<endl;\n",
    "                return;\n",
    "        }\n",
    "        line = 0;\n",
    "        Int_t countgf3=0;\n",
    "        x=0;\n",
    "        while(!read3.eof()){\n",
    "                    read3>>r;\n",
    "                    gf3->SetPoint(countgf3++,x,r);\n",
    "                    //cout<<x<<'\\t'<<r<<'\\n';\n",
    "                    x=x+0.1;\n",
    "        }\n",
    "        read3.close();\n"
   ]
  },
  {
   "cell_type": "code",
   "execution_count": null,
   "metadata": {},
   "outputs": [],
   "source": [
    "c1->Clear();\n",
    "gf->SetMarkerStyle(3);\n",
    "gf2->SetMarkerStyle(3);\n",
    "gf2->SetMarkerColor(2);\n",
    "//gf3->SetMarkerStyle(3);\n",
    "//gf3->SetMarkerColor(4);\n",
    "gf->Draw(\"ap\");\n",
    "gf2->Draw(\"samep\");\n",
    "gf3->Draw(\"samep\");\n",
    "c1->Draw();"
   ]
  },
  {
   "cell_type": "code",
   "execution_count": null,
   "metadata": {},
   "outputs": [],
   "source": []
  },
  {
   "cell_type": "code",
   "execution_count": null,
   "metadata": {},
   "outputs": [],
   "source": []
  }
 ],
 "metadata": {
  "kernelspec": {
   "display_name": "ROOT C++",
   "language": "c++",
   "name": "root"
  },
  "language_info": {
   "codemirror_mode": "text/x-c++src",
   "file_extension": ".C",
   "mimetype": " text/x-c++src",
   "name": "c++"
  },
  "toc": {
   "base_numbering": 1,
   "nav_menu": {},
   "number_sections": true,
   "sideBar": true,
   "skip_h1_title": false,
   "title_cell": "Table of Contents",
   "title_sidebar": "Contents",
   "toc_cell": false,
   "toc_position": {},
   "toc_section_display": true,
   "toc_window_display": false
  }
 },
 "nbformat": 4,
 "nbformat_minor": 2
}
