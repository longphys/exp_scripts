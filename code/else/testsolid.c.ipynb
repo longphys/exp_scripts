{
 "cells": [
  {
   "cell_type": "code",
   "execution_count": 1,
   "metadata": {},
   "outputs": [
    {
     "name": "stdout",
     "output_type": "stream",
     "text": [
      "\u001b[?1034h"
     ]
    }
   ],
   "source": [
    "//%jsroot on"
   ]
  },
  {
   "cell_type": "code",
   "execution_count": 2,
   "metadata": {},
   "outputs": [],
   "source": [
    "TCanvas *c1=new TCanvas(\"c1\",\"c1\");"
   ]
  },
  {
   "cell_type": "code",
   "execution_count": 3,
   "metadata": {},
   "outputs": [],
   "source": [
    "Double_t allcount1=0,allcount2=0;\n",
    "//T1E_newtheta_new_bydstar_all;\n",
    "Double_t cross_0[10],cross_7000[10],cross_6100[10];\n",
    "Double_t solid_0[10],solid_7000[10],solid_6100[10];\n",
    "Double_t count_0[10],count_7000[10],count_6100[10];\n",
    "Double_t low_0[10],low_7000[10],low_6100[10];\n",
    "Double_t high_0[10],high_7000[10],high_6100[10];\n",
    "Double_t low_cm_0[10],low_cm_7000[10],low_cm_6100[10];\n",
    "Double_t high_cm_0[10],high_cm_7000[10],high_cm_6100[10];\n",
    "Double_t Elow_0[10],Elow_7000[10],Elow_6100[10];\n",
    "Double_t Ehigh_0[10],Ehigh_7000[10],Ehigh_6100[10];\n",
    "\n",
    "Double_t theangle_cm_0[10],theangle_cm_7000[10],theangle_cm_6100[10];\n",
    "for(Int_t ii=0;ii<10;ii++){\n",
    "    cross_0[ii]=0;\n",
    "    cross_7000[ii]=0;\n",
    "    cross_6100[ii]=0;\n",
    "    solid_0[ii]=0;\n",
    "    solid_7000[ii]=0;\n",
    "    solid_6100[ii]=0;\n",
    "    Elow_0[ii]=0;\n",
    "    Elow_7000[ii]=0;\n",
    "    Elow_6100[ii]=0;\n",
    "    Ehigh_0[ii]=1000;\n",
    "    Ehigh_7000[ii]=1000;\n",
    "    Ehigh_6100[ii]=1000;\n",
    "}\n",
    "low_0[0]=36;high_0[0]=39;low_cm_0[0]=148;high_cm_0[0]=158;\n",
    "low_0[1]=39;high_0[1]=42;low_cm_0[1]=136;high_cm_0[1]=157;\n",
    "low_0[2]=42;high_0[2]=46;low_cm_0[2]=135;high_cm_0[2]=152;Ehigh_0[2]=24.8;\n",
    "low_0[3]=42;high_0[3]=46;low_cm_0[3]=109;high_cm_0[3]=135;Elow_0[3]=24.8;\n",
    "low_0[4]=39;high_0[4]=42;low_cm_0[4]=98;high_cm_0[4]=125;\n",
    "theangle_cm_0[0]=157;\n",
    "theangle_cm_0[1]=152;\n",
    "theangle_cm_0[2]=142;\n",
    "theangle_cm_0[3]=128;\n",
    "theangle_cm_0[4]=110;\n",
    "\n",
    "low_6100[0]=23;high_6100[0]=26;low_cm_6100[0]=157;high_cm_6100[0]=166;\n",
    "low_6100[1]=26;high_6100[1]=29;low_cm_6100[1]=154;high_cm_6100[1]=163;\n",
    "low_6100[2]=29;high_6100[2]=32;low_cm_6100[2]=148;high_cm_6100[2]=160;\n",
    "low_6100[3]=32;high_6100[3]=34;low_cm_6100[3]=142;high_cm_6100[3]=157;\n",
    "low_6100[4]=34;high_6100[4]=40;low_cm_6100[4]=129;high_cm_6100[4]=152;Ehigh_6100[4]=30.9;\n",
    "low_6100[5]=34;high_6100[5]=40;low_cm_6100[5]=93;high_cm_6100[5]=129;Elow_6100[5]=30.9;\n",
    "low_6100[6]=32;high_6100[6]=34;low_cm_6100[6]=84;high_cm_6100[6]=111;\n",
    "theangle_cm_6100[0]=162;\n",
    "theangle_cm_6100[1]=159;\n",
    "theangle_cm_6100[2]=155;\n",
    "theangle_cm_6100[3]=151;\n",
    "theangle_cm_6100[4]=140;\n",
    "theangle_cm_6100[5]=116;\n",
    "theangle_cm_6100[6]=97;\n",
    "\n",
    "\n",
    "low_7000[0]=23;high_7000[0]=26;low_cm_7000[0]=155;high_cm_7000[0]=165;\n",
    "low_7000[1]=26;high_7000[1]=29;low_cm_7000[1]=151;high_cm_7000[1]=162;\n",
    "low_7000[2]=29;high_7000[2]=32;low_cm_7000[2]=144;high_cm_7000[2]=158;\n",
    "low_7000[3]=32;high_7000[3]=34;low_cm_7000[3]=138;high_cm_7000[3]=155;\n",
    "low_7000[4]=34;high_7000[4]=40;low_cm_7000[4]=128;high_cm_7000[4]=150;Ehigh_7000[4]=30.9;\n",
    "low_7000[5]=34;high_7000[5]=40;low_cm_7000[5]=92;high_cm_7000[5]=128;Elow_7000[5]=30.9;\n",
    "low_7000[6]=32;high_7000[6]=34;low_cm_7000[6]=84;high_cm_7000[6]=116;\n",
    "theangle_cm_7000[0]=161;\n",
    "theangle_cm_7000[1]=157;\n",
    "theangle_cm_7000[2]=153;\n",
    "theangle_cm_7000[3]=148;\n",
    "theangle_cm_7000[4]=136;\n",
    "theangle_cm_7000[5]=117;\n",
    "theangle_cm_7000[6]=100;"
   ]
  },
  {
   "cell_type": "code",
   "execution_count": 4,
   "metadata": {},
   "outputs": [
    {
     "name": "stdout",
     "output_type": "stream",
     "text": [
      "count1 = 132.399\tcount2 = 239.173\trate = 1.80646\n"
     ]
    }
   ],
   "source": [
    "  int count1=0,count2=0;\n",
    "  TGraph *lised_cm_lab=new TGraph();\n",
    "  TGraph *lise_d_C_cm =new TGraph();\n",
    "  ifstream ina(\"/data/d1/share/zhuhy/2023geant4sim/hit/txt/C15_pd_14C_d_anglecm_anglelab_7012.txt\");\n",
    "  string ssa;\n",
    "  Double_t thetacm, thetad,thetaC;\n",
    "  if(ina.is_open()){\n",
    "    while(!ina.eof())\n",
    "    {\n",
    "      ina>>thetacm>>thetad>>thetaC;\n",
    "      lised_cm_lab->SetPoint(count1++,thetacm,thetad);\n",
    "      lise_d_C_cm ->SetPoint(count2++,thetaC,thetad);\n",
    "if(thetacm>=low_cm_7000[4]&&thetacm<=high_cm_7000[4]&&thetad>=low_6100[4]&&thetad<=high_6100[4])allcount1+=1*sin(thetacm*3.1416/180.);\n",
    "if(thetacm>=low_cm_7000[5]&&thetacm<=high_cm_7000[5]&&thetad>=low_6100[5]&&thetad<=high_6100[5])allcount2+=1*sin(thetacm*3.1416/180.);      \n",
    "    }\n",
    "  }\n",
    "  ina.close();\n",
    "cout<<\"count1 = \"<<allcount1<<'\\t'<<\"count2 = \"<<allcount2<<'\\t'<<\"rate = \"<<allcount2/allcount1<<'\\n';"
   ]
  }
 ],
 "metadata": {
  "kernelspec": {
   "display_name": "ROOT C++",
   "language": "c++",
   "name": "root"
  },
  "language_info": {
   "codemirror_mode": "text/x-c++src",
   "file_extension": ".C",
   "mimetype": " text/x-c++src",
   "name": "c++"
  },
  "toc": {
   "base_numbering": 1,
   "nav_menu": {},
   "number_sections": true,
   "sideBar": true,
   "skip_h1_title": false,
   "title_cell": "Table of Contents",
   "title_sidebar": "Contents",
   "toc_cell": false,
   "toc_position": {},
   "toc_section_display": true,
   "toc_window_display": false
  }
 },
 "nbformat": 4,
 "nbformat_minor": 2
}
