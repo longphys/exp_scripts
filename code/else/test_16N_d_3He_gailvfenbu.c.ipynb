{
 "cells": [
  {
   "cell_type": "code",
   "execution_count": 1,
   "metadata": {},
   "outputs": [
    {
     "name": "stdout",
     "output_type": "stream",
     "text": [
      "\u001b[?1034h"
     ]
    }
   ],
   "source": [
    "//%jsroot on"
   ]
  },
  {
   "cell_type": "code",
   "execution_count": 2,
   "metadata": {},
   "outputs": [],
   "source": [
    "TCanvas *c1=new TCanvas;"
   ]
  },
  {
   "cell_type": "code",
   "execution_count": 3,
   "metadata": {},
   "outputs": [],
   "source": [
    "  TGraph *grate=new TGraph();\n",
    "  TGraph *grate2=new TGraph();\n",
    "  TGraph *grate_6100=new TGraph();\n",
    "  TGraph *grate2_1=new TGraph();\n",
    "  TGraph *grate_7000=new TGraph();\n",
    "  TGraph *grate2_2=new TGraph();\n",
    "  TGraph *grate2_all=new TGraph();\n",
    "Double_t temptheta,temprate,aa;\n",
    "Int_t countrate=0,countrate_6100=0,countrate_7000=0;\n",
    "ifstream inr(\"/home/zhuhy/JNBook/Experiment2022/taf/else/txt/r149_16N_d_3He_cm_0_zhangyun_LCTJPG.txt\");\n",
    "  if(inr.is_open()){\n",
    "    while(!inr.eof())\n",
    "    {\n",
    "      inr>>temptheta>>temprate>>aa;\n",
    "      grate->SetPoint(countrate++,temptheta,temprate);\n",
    "      //cout<<therunnumber<<'\\t'<<accpttedrate[therunnumber]<<'\\n';\n",
    "    }\n",
    "  }\n",
    "  inr.close();\n",
    "ifstream inr2(\"/home/zhuhy/JNBook/Experiment2022/taf/else/txt/16Nm_d_3He_cm_0_zhangyun_GDP08.txt\");\n",
    "  if(inr2.is_open()){\n",
    "    while(!inr2.eof())\n",
    "    {\n",
    "      inr2>>temptheta>>temprate>>aa;\n",
    "      grate_6100->SetPoint(countrate_6100++,temptheta,temprate);\n",
    "      //cout<<therunnumber<<'\\t'<<accpttedrate[therunnumber]<<'\\n';\n",
    "    }\n",
    "  }\n",
    "  inr2.close();\n",
    "\n",
    "ifstream inr3(\"/home/zhuhy/JNBook/Experiment2022/taf/else/txt/16N_d_3He_cm_0_zhangyunGDP08.txt\");\n",
    "  if(inr3.is_open()){\n",
    "    while(!inr3.eof())\n",
    "    {\n",
    "      inr3>>temptheta>>temprate>>aa;\n",
    "      grate_7000->SetPoint(countrate_7000++,temptheta,temprate);\n",
    "      //cout<<therunnumber<<'\\t'<<accpttedrate[therunnumber]<<'\\n';\n",
    "    }\n",
    "  }\n",
    "  inr3.close();\n"
   ]
  },
  {
   "cell_type": "code",
   "execution_count": 4,
   "metadata": {},
   "outputs": [
    {
     "data": {
      "image/png": "[encoded data removed]",
      "text/plain": [
       "<IPython.core.display.Image object>"
      ]
     },
     "metadata": {},
     "output_type": "display_data"
    }
   ],
   "source": [
    "c1->Clear();\n",
    "grate->GetXaxis()->SetLimits(0, 40);\n",
    "grate->GetYaxis()->SetRangeUser(0.01 , 100); \n",
    "//grate->GetXaxis()->SetLimits(0, 50);\n",
    "//grate->GetYaxis()->SetRangeUser(0.05 , 10); \n",
    "grate->SetMarkerStyle(3);\n",
    "grate_6100->SetMarkerStyle(3);\n",
    "grate_7000->SetMarkerStyle(3);\n",
    "grate_6100->SetMarkerColor(4);\n",
    "grate_7000->SetMarkerColor(4);\n",
    "grate->Draw(\"ap\");\n",
    "//grate_6100->Draw(\"samep\");\n",
    "//grate_7000->Draw(\"samep\");\n",
    "c1->SetLogy(1);\n",
    "c1->Draw();"
   ]
  },
  {
   "cell_type": "code",
   "execution_count": 5,
   "metadata": {
    "scrolled": true
   },
   "outputs": [
    {
     "name": "stdout",
     "output_type": "stream",
     "text": [
      "337037\t337037\t337037\t0\n"
     ]
    }
   ],
   "source": [
    "Int_t all[100000000],all1[100000000],all2[100000000],count[1800],count2[1800];\n",
    "Int_t countall=0,countall1=0,countall2=0;\n",
    "Int_t getcount[1800];\n",
    "Int_t then;\n",
    "Int_t getcount1[1800],getcount2[1800];\n",
    "Int_t then2;\n",
    "Double_t maxn=100000000;\n",
    "Double_t dtheta;\n",
    "for(Int_t ii=0;ii<maxn;ii++){all[ii]=0;all1[ii]=0;all2[ii]=0;}\n",
    "for(Int_t ii=0;ii<1800;ii++){getcount[ii]=0;count[ii]=0;getcount1[ii]=0;getcount2[ii]=0;count2[ii]=0;};\n",
    "for(Int_t ii=0;ii<1800;ii++){\n",
    "    dtheta=acos(1-(Double_t)(ii)/900.)*180./3.1416;\n",
    "    count[ii]=(Int_t)(1000.*grate->Eval(dtheta));\n",
    "    count2[ii]=(Int_t)(1000.*grate_6100->Eval(dtheta));\n",
    "    //cout<<dtheta<<'\\t'<<count[ii]<<'\\t'<<count2[ii]<<'\\n';\n",
    "    for(Int_t jj=countall1;jj<(countall1+count[ii]);jj++){all1[jj]=ii;}\n",
    "    for(Int_t jj=countall2;jj<(countall2+count2[ii]);jj++){all2[jj]=ii;}\n",
    "    for(Int_t jj=countall;jj<(countall+count[ii]);jj++){all[jj]=ii;}\n",
    "    for(Int_t jj=countall+count[ii];jj<(countall+count[ii]+count2[ii]);jj++){all[jj]=10000+ii;}\n",
    "    countall+=count[ii]+count2[ii];\n",
    "    countall1+=count[ii];\n",
    "    countall2+=count2[ii];\n",
    "}\n",
    "Double_t thetheta;\n",
    "for(Int_t ii=0;ii<maxn;ii++){\n",
    "    then=rand()%(countall1+countall2);\n",
    "    then=(then+(countall1+countall2)/2+rand()%2)%(countall1+countall2);\n",
    "    //if(ii%1000==0)cout<<acos(1-(Double_t)(all[then]%10000)/900.)*180./3.1416<<'\\n';\n",
    "    getcount[all[then]%10000]++;\n",
    "    if(all[then]<10000)getcount1[all[then]%10000]++;\n",
    "    else if(all[then]>=10000)getcount2[all[then]%10000]++;\n",
    "}\n",
    "/*\n",
    "for(Int_t ii=20;ii<1800;ii+=100){\n",
    "    cout<<getcount[ii]*2<<'\\t'<<getcount1[ii]+getcount2[ii]-2*getcount[ii]<<'\\t'<<getcount1[ii]<<'\\t'<<getcount2[ii]<<'\\n';\n",
    "}\n",
    "*/\n",
    "Double_t temprate_n=0,thealln=1;\n",
    "for(Double_t ii=1;ii<1799;ii++){\n",
    "    dtheta=acos(1-(Double_t)(ii)/900.)*180./3.1416;\n",
    "    //cout<<dtheta<<'\\n';\n",
    "    if(ii<thealln||ii>(1800-thealln))grate2_all->SetPoint((Int_t)(ii),dtheta*10,(Double_t)(getcount[(Int_t)(ii)])*1800.*2./1000);\n",
    "    if(ii>=thealln&&ii<=(1800-thealln)){\n",
    "        for(Int_t jj=(Int_t)(ii-thealln);jj<=(Int_t)(ii+thealln);jj++)temprate_n+=(Double_t)(getcount[jj])*1800.*2./1000;\n",
    "        grate2_all->SetPoint((Int_t)(ii),dtheta*10,temprate_n/thealln);\n",
    "    }\n",
    "    temprate_n=0;\n",
    "    \n",
    "    if(ii<thealln||ii>(1800-thealln))grate2_1->SetPoint((Int_t)(ii),dtheta*10,(Double_t)(getcount1[(Int_t)(ii)])*1800.*2./1000);\n",
    "    if(ii>=thealln&&ii<=(1800-thealln)){\n",
    "        for(Int_t jj=(Int_t)(ii-thealln);jj<=(Int_t)(ii+thealln);jj++)temprate_n+=(Double_t)(getcount1[jj])*1800.*2./1000;\n",
    "        grate2_1->SetPoint((Int_t)(ii),dtheta*10,temprate_n/thealln);\n",
    "    }\n",
    "    temprate_n=0;\n",
    "    \n",
    "    if(ii<thealln||ii>(1800-thealln))grate2_2->SetPoint((Int_t)(ii),dtheta*10,(Double_t)(getcount2[(Int_t)(ii)])*1800.*2./1000);\n",
    "    if(ii>=thealln&&ii<=(1800-thealln)){\n",
    "        for(Int_t jj=(Int_t)(ii-thealln);jj<=(Int_t)(ii+thealln);jj++)temprate_n+=(Double_t)(getcount2[jj])*1800.*2./1000;\n",
    "        grate2_2->SetPoint((Int_t)(ii),dtheta*10,temprate_n/thealln);\n",
    "    }\n",
    "    temprate_n=0;\n",
    "}\n",
    "\n",
    "\n",
    "cout<< countall<<'\\t'<<countall1+countall2<<'\\t'<<countall1<<'\\t'<<countall2<<'\\n';"
   ]
  },
  {
   "cell_type": "code",
   "execution_count": 6,
   "metadata": {},
   "outputs": [
    {
     "data": {
      "image/png": "[encoded data removed]",
      "text/plain": [
       "<IPython.core.display.Image object>"
      ]
     },
     "metadata": {},
     "output_type": "display_data"
    }
   ],
   "source": [
    "c1->Clear();\n",
    "grate2_all->SetMarkerStyle(3);\n",
    "grate2_1->SetMarkerStyle(3);\n",
    "grate2_2->SetMarkerStyle(3);\n",
    "grate2_all->SetMarkerColor(1);\n",
    "grate2_1->SetMarkerColor(1);\n",
    "grate2_2->SetMarkerColor(4);\n",
    "//grate2_1->Draw(\"ap\");\n",
    "grate2_all->Draw(\"ap\");\n",
    "//grate2_2->Draw(\"samep\");\n",
    "c1->Draw();"
   ]
  },
  {
   "cell_type": "code",
   "execution_count": 7,
   "metadata": {},
   "outputs": [],
   "source": [
    "/*\n",
    "        ofstream write1;\n",
    "        TString fileName = TString::Format(\"/data/d1/share/zhuhy/2023geant4sim/txt/N16_d_3He_0740_cm_cos.txt\");\n",
    "        write1.open(fileName.Data(), ios::out);\n",
    "        write1<<countall<<endl;\n",
    "        for(Int_t i=0; i<countall; i++){\n",
    "            write1<<all[i]<<endl;\n",
    "        }\n",
    "        write1.close();\n",
    "*/"
   ]
  },
  {
   "cell_type": "code",
   "execution_count": null,
   "metadata": {},
   "outputs": [],
   "source": []
  },
  {
   "cell_type": "code",
   "execution_count": null,
   "metadata": {},
   "outputs": [],
   "source": []
  },
  {
   "cell_type": "code",
   "execution_count": null,
   "metadata": {},
   "outputs": [],
   "source": []
  }
 ],
 "metadata": {
  "kernelspec": {
   "display_name": "ROOT C++",
   "language": "c++",
   "name": "root"
  },
  "language_info": {
   "codemirror_mode": "text/x-c++src",
   "file_extension": ".C",
   "mimetype": " text/x-c++src",
   "name": "c++"
  },
  "toc": {
   "base_numbering": 1,
   "nav_menu": {},
   "number_sections": true,
   "sideBar": true,
   "skip_h1_title": false,
   "title_cell": "Table of Contents",
   "title_sidebar": "Contents",
   "toc_cell": false,
   "toc_position": {},
   "toc_section_display": true,
   "toc_window_display": false
  }
 },
 "nbformat": 4,
 "nbformat_minor": 2
}
