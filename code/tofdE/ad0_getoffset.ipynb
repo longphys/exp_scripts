{
 "cells": [
  {
   "cell_type": "code",
   "execution_count": 1,
   "metadata": {},
   "outputs": [
    {
     "name": "stdout",
     "output_type": "stream",
     "text": [
      "\u001b[?1034h"
     ]
    }
   ],
   "source": [
    "//%jsroot on"
   ]
  },
  {
   "cell_type": "code",
   "execution_count": 2,
   "metadata": {},
   "outputs": [],
   "source": [
    "const int lowrun = 563;\n",
    "const int highrun = 603;\n",
    "const int lowrun2 = 799;\n",
    "const int highrun2 = 809;\n",
    "const int _strip = 16;\n",
    "const int _bin = 200;\n",
    "const double _minfit = 800;\n",
    "const double _maxfit =1200;"
   ]
  },
  {
   "cell_type": "code",
   "execution_count": 3,
   "metadata": {},
   "outputs": [],
   "source": [
    "Double_t fitGaussian(TH1F *h[16],Int_t ii) {\n",
    "    // 定义高斯拟合函数\n",
    "    TF1 *gaussian = new TF1(\"gaussian\", \"gaus\", _minfit, _maxfit);\n",
    "    h[ii]->Fit(gaussian, \"RQ\");\n",
    "\n",
    "    // 获取拟合结果中的均值\n",
    "    return gaussian->GetParameter(1);\n",
    "}"
   ]
  },
  {
   "cell_type": "code",
   "execution_count": 4,
   "metadata": {},
   "outputs": [],
   "source": [
    "TCanvas *c1=new TCanvas(\"c1\",\"c1\");"
   ]
  },
  {
   "cell_type": "code",
   "execution_count": 5,
   "metadata": {},
   "outputs": [],
   "source": [
    "        int start = lowrun;\n",
    "        int stop = highrun;\n",
    "        TChain *fch;\n",
    "        fch = new TChain(\"tree\", \"tele\");\n",
    "        for (int i= start; i<=stop; i++){\n",
    "          TString fileName = TString::Format(\"/data/d1/zhuhy/lanzhou2022/getdatappac/newtest13/tele%04d.root\" , i);\n",
    "          fch->AddFile(fileName.Data());\n",
    "        }\n",
    "\n",
    "        start = lowrun2;\n",
    "        stop = highrun2;\n",
    "        for (int i= start; i<=stop; i++){\n",
    "          TString fileName = TString::Format(\"/data/d1/zhuhy/lanzhou2022/getdatappac/newtest13/tele%04d.root\" , i);\n",
    "          //fch->AddFile(fileName.Data());\n",
    "        }\n",
    "\n",
    "    // 定义变量用于读取数据\n",
    "    Int_t runnumber;\n",
    "    UShort_t taf_ad0_xs[5];\n",
    "    Double_t taf_ad0_t[5];\n",
    "    Double_t xT2[10];\n",
    "    Double_t gdc[2][10];\n",
    "    Double_t gdc2[10];\n",
    "\n",
    "    // 设置Branch地址\n",
    "    fch->SetBranchAddress(\"runnumber\", &runnumber);\n",
    "    fch->SetBranchAddress(\"taf_ad0_xs[5]\", taf_ad0_xs);\n",
    "    fch->SetBranchAddress(\"taf_ad0_t[5]\", taf_ad0_t);\n",
    "    fch->SetBranchAddress(\"vT2[10]\", xT2);\n",
    "    fch->SetBranchAddress(\"gdcref[2][10]\",gdc);\n",
    "    fch->SetBranchAddress(\"gdcref2[10]\",gdc2);\n",
    "\n"
   ]
  },
  {
   "cell_type": "code",
   "execution_count": 6,
   "metadata": {},
   "outputs": [],
   "source": [
    "    TH1F *h[16];\n",
    "    Double_t mean[16];\n",
    "    Int_t ccount;\n",
    "    TString find;\n",
    "    ccount=0;\n",
    "    for(Int_t ii=0;ii<16;ii++){\n",
    "        find = TString::Format(\"h[%d]\",ii);\n",
    "        h[ii] = new TH1F(find.Data(), find.Data(), _bin, _minfit, _maxfit);\n",
    "        mean[ii]=0;\n",
    "    }"
   ]
  },
  {
   "cell_type": "code",
   "execution_count": 7,
   "metadata": {},
   "outputs": [
    {
     "name": "stdout",
     "output_type": "stream",
     "text": [
      "0 / 6403760\n",
      "500000 / 6403760\n",
      "1000000 / 6403760\n",
      "1500000 / 6403760\n",
      "2000000 / 6403760\n",
      "2500000 / 6403760\n",
      "3000000 / 6403760\n",
      "3500000 / 6403760\n",
      "4000000 / 6403760\n",
      "4500000 / 6403760\n",
      "5000000 / 6403760\n",
      "5500000 / 6403760\n",
      "6000000 / 6403760\n",
      "out now!\n"
     ]
    }
   ],
   "source": [
    " Double_t tof;\n",
    " UShort_t st;\n",
    "// 循环遍历每个事件\n",
    "  TGraph *g=new TGraph();\n",
    "  for (int event = 0; event < fch->GetEntries(); event++) {\n",
    "            // 从TChain中获取当前事件的数据\n",
    "            st=-1;\n",
    "            if(event%500000==0)cout<<event<<\" / \"<<fch->GetEntries()<<'\\n';\n",
    "            fch->GetEntry(event);\n",
    "            // 计算时间差\n",
    "            tof = taf_ad0_t[0]-gdc2[0] - (xT2[0]-gdc[0][0]);\n",
    "            st = taf_ad0_xs[0];\n",
    "            // 选择特定的能量范围\n",
    "            if(st>=0&&st<=15){\n",
    "                ccount++;\n",
    "                h[st]->Fill(tof);\n",
    "            }\n",
    "  }\n",
    "  cout<<\"out now!\"<<'\\n';\n",
    "        for(Int_t ii=0;ii<16;ii++){\n",
    "             mean[ii]= fitGaussian(h,ii);   \n",
    "             g->SetPoint(ii,ii,mean[ii]);\n",
    "        }"
   ]
  },
  {
   "cell_type": "code",
   "execution_count": 8,
   "metadata": {},
   "outputs": [
    {
     "data": {
      "image/png": "[encoded data removed]",
      "text/plain": [
       "<IPython.core.display.Image object>"
      ]
     },
     "metadata": {},
     "output_type": "display_data"
    }
   ],
   "source": [
    "c1->Clear();\n",
    "h[0]->Draw();\n",
    "c1->Draw();"
   ]
  },
  {
   "cell_type": "code",
   "execution_count": 9,
   "metadata": {},
   "outputs": [
    {
     "data": {
      "image/png": "[encoded data removed]",
      "text/plain": [
       "<IPython.core.display.Image object>"
      ]
     },
     "metadata": {},
     "output_type": "display_data"
    }
   ],
   "source": [
    "c1->Clear();\n",
    "h[15]->Draw();\n",
    "c1->Draw();"
   ]
  },
  {
   "cell_type": "code",
   "execution_count": 10,
   "metadata": {
    "code_folding": [],
    "scrolled": true
   },
   "outputs": [
    {
     "name": "stdout",
     "output_type": "stream",
     "text": [
      "0\t997.667\n",
      "1\t1004.56\n",
      "2\t1011.47\n",
      "3\t1005.96\n",
      "4\t1006.37\n",
      "5\t1012.25\n",
      "6\t1017.53\n",
      "7\t1007.59\n",
      "8\t1022.16\n",
      "9\t1002.31\n",
      "10\t1010.35\n",
      "11\t1003.61\n",
      "12\t1004.1\n",
      "13\t1015.49\n",
      "14\t1006.01\n",
      "15\t1016.35\n"
     ]
    }
   ],
   "source": [
    "        for(Int_t ii=0;ii<16;ii++){\n",
    "             cout<<ii<<'\\t'<<mean[ii]<<'\\n';  \n",
    "        }\n",
    "    "
   ]
  },
  {
   "cell_type": "code",
   "execution_count": 11,
   "metadata": {},
   "outputs": [],
   "source": [
    "        ofstream write1;\n",
    "        TString fileName = TString::Format(\"/home/zhuhy/JNBook/Experiment2022/taf/tofdE/txt/ad0_offset_563_603.txt\");\n",
    "        write1.open(fileName.Data(), ios::out);\n",
    "            for(Int_t ii=0;ii<16;ii++){\n",
    "                 write1<<ii<<'\\t'<<mean[ii]<<endl;  \n",
    "            }\n",
    "        write1.close();"
   ]
  },
  {
   "cell_type": "code",
   "execution_count": null,
   "metadata": {},
   "outputs": [],
   "source": []
  }
 ],
 "metadata": {
  "kernelspec": {
   "display_name": "ROOT C++",
   "language": "c++",
   "name": "root"
  },
  "language_info": {
   "codemirror_mode": "text/x-c++src",
   "file_extension": ".C",
   "mimetype": " text/x-c++src",
   "name": "c++"
  },
  "toc": {
   "base_numbering": 1,
   "nav_menu": {},
   "number_sections": true,
   "sideBar": true,
   "skip_h1_title": false,
   "title_cell": "Table of Contents",
   "title_sidebar": "Contents",
   "toc_cell": false,
   "toc_position": {},
   "toc_section_display": true,
   "toc_window_display": false
  }
 },
 "nbformat": 4,
 "nbformat_minor": 2
}
