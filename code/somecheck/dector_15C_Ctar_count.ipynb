{
 "cells": [
  {
   "cell_type": "code",
   "execution_count": 1,
   "metadata": {},
   "outputs": [],
   "source": [
    "%jsroot on"
   ]
  },
  {
   "cell_type": "code",
   "execution_count": 2,
   "metadata": {},
   "outputs": [
    {
     "name": "stdout",
     "output_type": "stream",
     "text": [
      "\u001b[?1034hrunnumber:531\tcountt0d1s1_Ccut=41091758\tcountt0d1b1_Ccut=37641177\n",
      "runnumber:532\tcountt0d1s1_Ccut=51129310\tcountt0d1b1_Ccut=46533701\n",
      "runnumber:533\tcountt0d1s1_Ccut=64377666\tcountt0d1b1_Ccut=58619047\n",
      "runnumber:534\tcountt0d1s1_Ccut=57612974\tcountt0d1b1_Ccut=52642626\n",
      "runnumber:535\tcountt0d1s1_Ccut=21044699\tcountt0d1b1_Ccut=19308110\n",
      "runnumber:536\tcountt0d1s1_Ccut=32403211\tcountt0d1b1_Ccut=29752474\n",
      "runnumber:537\tcountt0d1s1_Ccut=47869020\tcountt0d1b1_Ccut=43649255\n",
      "runnumber:538\tcountt0d1s1_Ccut=40944503\tcountt0d1b1_Ccut=37279042\n",
      "runnumber:539\tcountt0d1s1_Ccut=42936541\tcountt0d1b1_Ccut=39233178\n",
      "runnumber:540\tcountt0d1s1_Ccut=49900272\tcountt0d1b1_Ccut=45597233\n",
      "runnumber:541\tcountt0d1s1_Ccut=45165807\tcountt0d1b1_Ccut=41335684\n",
      "runnumber:542\tcountt0d1s1_Ccut=39395863\tcountt0d1b1_Ccut=35878602\n",
      "runnumber:543\tcountt0d1s1_Ccut=40773069\tcountt0d1b1_Ccut=37209561\n",
      "runnumber:544\tcountt0d1s1_Ccut=41629481\tcountt0d1b1_Ccut=38210116\n",
      "runnumber:545\tcountt0d1s1_Ccut=39472455\tcountt0d1b1_Ccut=36302860\n",
      "runnumber:546\tcountt0d1s1_Ccut=53062380\tcountt0d1b1_Ccut=48521668\n",
      "runnumber:547\tcountt0d1s1_Ccut=41727409\tcountt0d1b1_Ccut=38197366\n",
      "runnumber:548\tcountt0d1s1_Ccut=45675735\tcountt0d1b1_Ccut=41683949\n",
      "runnumber:549\tcountt0d1s1_Ccut=44960278\tcountt0d1b1_Ccut=40872281\n",
      "runnumber:550\tcountt0d1s1_Ccut=44997432\tcountt0d1b1_Ccut=41007120\n",
      "runnumber:551\tcountt0d1s1_Ccut=22309314\tcountt0d1b1_Ccut=20414678\n",
      "runnumber:792\tcountt0d1s17_Ccut=41554495\tcountt0d1b17_Ccut=40467286\n",
      "runnumber:793\tcountt0d1s17_Ccut=7680278\tcountt0d1b17_Ccut=7492220\n",
      "runnumber:794\tcountt0d1s17_Ccut=2316748\tcountt0d1b17_Ccut=2253032\n",
      "runnumber:795\tcountt0d1s17_Ccut=4525397\tcountt0d1b17_Ccut=4390797\n",
      "runnumber:796\tcountt0d1s17_Ccut=12432747\tcountt0d1b17_Ccut=12084060\n",
      "runnumber:797\tcountt0d1s17_Ccut=6994673\tcountt0d1b17_Ccut=6795850\n",
      "runnumber:798\tcountt0d1s17_Ccut=34446980\tcountt0d1b17_Ccut=33360127\n"
     ]
    }
   ],
   "source": [
    "TString find;\n",
    "Int_t aa,count1,count2;\n",
    "Int_t countt0d1s1,countt0d1m1,countt0d1b1;\n",
    "Int_t countt0d1s1_Ccut,countt0d1m1_Ccut,countt0d1b1_Ccut;\n",
    "Int_t countt0d1s1_tarcut,countt0d1m1_tarcut,countt0d1b1_tarcut;\n",
    "Int_t countt0d1s1_Candtarcut,countt0d1m1_Candtarcut,countt0d1b1_Candtarcut;\n",
    "Int_t countt0d1s17,countt0d1m17,countt0d1b17;\n",
    "Int_t countt0d1s17_Ccut,countt0d1m17_Ccut,countt0d1b17_Ccut;\n",
    "Int_t countt0d1s17_tarcut,countt0d1m17_tarcut,countt0d1b17_tarcut;\n",
    "Int_t countt0d1s17_Candtarcut,countt0d1m17_Candtarcut,countt0d1b17_Candtarcut;\n",
    "long t0all1;\n",
    "long t0d1sall1;\n",
    "long t0d1mall1;\n",
    "long t0d1ball1;\n",
    "long t0d1sall17;\n",
    "long t0d1mall17;\n",
    "long t0d1ball17;\n",
    "long t0all1_Ccut;\n",
    "long t0d1sall1_Ccut;\n",
    "long t0d1mall1_Ccut;\n",
    "long t0d1ball1_Ccut;\n",
    "long t0d1sall17_Ccut;\n",
    "long t0d1mall17_Ccut;\n",
    "long t0d1ball17_Ccut;\n",
    "long t0all1_tarcut;\n",
    "long t0d1sall1_tarcut;\n",
    "long t0d1mall1_tarcut;\n",
    "long t0d1ball1_tarcut;\n",
    "long t0d1sall17_tarcut;\n",
    "long t0d1mall17_tarcut;\n",
    "long t0d1ball17_tarcut;\n",
    "long t0all1_Candtarcut;\n",
    "long t0d1sall1_Candtarcut;\n",
    "long t0d1mall1_Candtarcut;\n",
    "long t0d1ball1_Candtarcut;\n",
    "long t0d1mball1_Candtarcut;\n",
    "long t0d1sall17_Candtarcut;\n",
    "long t0d1mall17_Candtarcut;\n",
    "long t0d1ball17_Candtarcut;\n",
    "Int_t thekey=0;\n",
    "for(Int_t ii=0;ii<21;ii++){\n",
    "  thekey=0;\n",
    "  find=TString::Format(\"/data/d1/zhuhy/lanzhou2022/findin/newtxt8/run%04dt0d1all.txt\",531+ii);\n",
    "  ifstream in(find.Data());\n",
    "  if(in.is_open()){\n",
    "//    while(!in.eof())\n",
    "    while(thekey==0)\n",
    "    {\n",
    "        in>>aa>>count1>>countt0d1s1>>countt0d1m1>>countt0d1b1;\n",
    "        in>>aa>>count1>>countt0d1s1_Ccut>>countt0d1m1_Ccut>>countt0d1b1_Ccut;\n",
    "        in>>aa>>count1>>countt0d1s1_tarcut>>countt0d1m1_tarcut>>countt0d1b1_tarcut;\n",
    "        in>>aa>>count1>>countt0d1s1_Candtarcut>>countt0d1m1_Candtarcut>>countt0d1b1_Candtarcut;\n",
    "        t0d1sall1+=countt0d1s1;\n",
    "        t0d1mall1+=countt0d1m1;\n",
    "        t0d1ball1+=countt0d1b1;\n",
    "        t0d1sall1_Ccut+=countt0d1s1_Ccut;\n",
    "        t0d1mall1_Ccut+=countt0d1m1_Ccut;\n",
    "        t0d1ball1_Ccut+=countt0d1b1_Ccut;\n",
    "        t0d1sall1_tarcut+=countt0d1s1_tarcut;\n",
    "        t0d1mall1_tarcut+=countt0d1m1_tarcut;\n",
    "        t0d1ball1_tarcut+=countt0d1b1_tarcut;\n",
    "        t0d1sall1_Candtarcut+=countt0d1s1_Candtarcut;\n",
    "        t0d1mall1_Candtarcut+=countt0d1m1_Candtarcut;\n",
    "        t0d1ball1_Candtarcut+=countt0d1b1_Candtarcut;\n",
    "        thekey++;\n",
    "    }\n",
    "  }\n",
    "  in.close();\n",
    "  cout<<\"runnumber:\"<<531+ii<<'\\t'<<\"countt0d1s1_Ccut=\"<<countt0d1s1_Ccut<<'\\t'<<\"countt0d1b1_Ccut=\"<<countt0d1b1_Ccut<<'\\n';\n",
    "  //cout<<\"runnumber:\"<<420+ii<<'\\t'<<\"t0all=\"<<t0all1<<'\\t'<<\"count=\"<<count1<<'\\n';\n",
    "  //cout<<\"runnumber:\"<<420+ii<<'\\t'<<\"t0all=\"<<t0all2<<'\\t'<<\"count=\"<<count2<<'\\n';\n",
    "}\n",
    "\n",
    "for(Int_t ii=0;ii<7;ii++){\n",
    "  thekey=0;\n",
    "  find=TString::Format(\"/data/d1/zhuhy/lanzhou2022/findin/newtxt8/run%04dt0d1all.txt\",792+ii);\n",
    "  ifstream in(find.Data());\n",
    "  if(in.is_open()){\n",
    "    while(thekey==0)\n",
    "    {\n",
    "        in>>aa>>count1>>countt0d1s17>>countt0d1m17>>countt0d1b17;\n",
    "        in>>aa>>count1>>countt0d1s17_Ccut>>countt0d1m17_Ccut>>countt0d1b17_Ccut;\n",
    "        in>>aa>>count1>>countt0d1s17_tarcut>>countt0d1m17_tarcut>>countt0d1b17_tarcut;\n",
    "        in>>aa>>count1>>countt0d1s17_Candtarcut>>countt0d1m17_Candtarcut>>countt0d1b17_Candtarcut;        \n",
    "        t0d1sall17+=countt0d1s17;\n",
    "        t0d1mall17+=countt0d1m17;  \n",
    "        t0d1ball17+=countt0d1b17;       \n",
    "        t0d1sall17_Ccut+=countt0d1s17_Ccut;\n",
    "        t0d1mall17_Ccut+=countt0d1m17_Ccut;  \n",
    "        t0d1ball17_Ccut+=countt0d1b17_Ccut;        \n",
    "        t0d1sall17_tarcut+=countt0d1s17_tarcut;\n",
    "        t0d1mall17_tarcut+=countt0d1m17_tarcut; \n",
    "        t0d1ball17_tarcut+=countt0d1b17_tarcut;         \n",
    "        t0d1sall17_Candtarcut+=countt0d1s17_Candtarcut;\n",
    "        t0d1mall17_Candtarcut+=countt0d1m17_Candtarcut;\n",
    "        t0d1ball17_Candtarcut+=countt0d1b17_Candtarcut;\n",
    "        thekey++;\n",
    "    }\n",
    "  }\n",
    "  in.close();\n",
    "  cout<<\"runnumber:\"<<792+ii<<'\\t'<<\"countt0d1s17_Ccut=\"<<countt0d1s17_Ccut<<'\\t'<<\"countt0d1b17_Ccut=\"<<countt0d1b17_Ccut<<'\\n';\n",
    "  //cout<<\"runnumber:\"<<420+ii<<'\\t'<<\"t0all=\"<<t0all2<<'\\t'<<\"count=\"<<count2<<'\\n';\n",
    "}"
   ]
  },
  {
   "cell_type": "code",
   "execution_count": 3,
   "metadata": {},
   "outputs": [],
   "source": [
    "Double_t key=0;\n",
    "Double_t fenchu1=15;\n",
    "\n",
    "t0all1=100*(t0d1sall17-t0d1ball17);\n",
    "t0all1_Ccut=100*(t0d1sall17_Ccut-t0d1ball17_Ccut);\n",
    "t0all1_tarcut=100*(t0d1sall17_tarcut-t0d1ball17_tarcut);\n",
    "t0all1_Candtarcut=100*(t0d1sall17_Candtarcut-t0d1ball17_Candtarcut);\n",
    "\n",
    "/*\n",
    "t0all1=fenchu1*(t0d1sall1-t0d1ball1);//+100*(t0d1sall17-t0d1ball17);\n",
    "t0all1_Ccut=fenchu1*(t0d1sall1_Ccut-t0d1ball1_Ccut);//+100*(t0d1sall17_Ccut-t0d1ball17_Ccut);\n",
    "t0all1_tarcut=fenchu1*(t0d1sall1_tarcut-t0d1ball1_tarcut);//+100*(t0d1sall17_tarcut-t0d1ball17_tarcut);\n",
    "t0all1_Candtarcut=fenchu1*(t0d1sall1_Candtarcut-t0d1ball1_Candtarcut);//+100*(t0d1sall17_Candtarcut-t0d1ball17_Candtarcut);\n",
    "*/"
   ]
  },
  {
   "cell_type": "code",
   "execution_count": 4,
   "metadata": {},
   "outputs": [
    {
     "name": "stdout",
     "output_type": "stream",
     "text": [
      "t0all1=413745300\tt0single=983366136\tt0mid=895520548\tt0both=895520548\n"
     ]
    }
   ],
   "source": [
    "cout<<\"t0all1=\"<<t0all1<<'\\t'<<\"t0single=\"<<t0d1sall1<<'\\t'<<\"t0mid=\"<<t0d1mall1<<'\\t'<<\"t0both=\"<<t0d1ball1<<'\\n';"
   ]
  },
  {
   "cell_type": "code",
   "execution_count": 5,
   "metadata": {},
   "outputs": [
    {
     "name": "stdout",
     "output_type": "stream",
     "text": [
      "t0all1=413745300\tt0single=121579210\tt0mid=117441757\tt0both=117441757\n"
     ]
    }
   ],
   "source": [
    "cout<<\"t0all1=\"<<t0all1<<'\\t'<<\"t0single=\"<<t0d1sall17<<'\\t'<<\"t0mid=\"<<t0d1mall17<<'\\t'<<\"t0both=\"<<t0d1ball17<<'\\n';"
   ]
  },
  {
   "cell_type": "code",
   "execution_count": null,
   "metadata": {},
   "outputs": [],
   "source": []
  },
  {
   "cell_type": "code",
   "execution_count": 6,
   "metadata": {},
   "outputs": [
    {
     "name": "stdout",
     "output_type": "stream",
     "text": [
      "t0all1=413745300\tt0mid=1012962305\n",
      "t0all1_Ccut=310794600\tt0mid_Ccut=967151378\n",
      "t0all1_tarcut=196168900\tt0mid_tarcut=490216970\n",
      "t0all1_Candtarcut=149375800\tt0mid_Candtarcut=465970142\n"
     ]
    }
   ],
   "source": [
    "cout<<\"t0all1=\"<<t0all1<<'\\t'<<\"t0mid=\"<<t0d1mall1+t0d1mall17<<'\\n';\n",
    "cout<<\"t0all1_Ccut=\"<<t0all1_Ccut<<'\\t'<<\"t0mid_Ccut=\"<<t0d1mall1_Ccut+t0d1mall17_Ccut<<'\\n';\n",
    "cout<<\"t0all1_tarcut=\"<<t0all1_tarcut<<'\\t'<<\"t0mid_tarcut=\"<<t0d1mall1_tarcut+t0d1mall17_tarcut<<'\\n';\n",
    "cout<<\"t0all1_Candtarcut=\"<<t0all1_Candtarcut<<'\\t'<<\"t0mid_Candtarcut=\"<<t0d1mall1_Candtarcut+t0d1mall17_Candtarcut<<'\\n';"
   ]
  }
 ],
 "metadata": {
  "kernelspec": {
   "display_name": "ROOT C++",
   "language": "c++",
   "name": "root"
  },
  "language_info": {
   "codemirror_mode": "text/x-c++src",
   "file_extension": ".C",
   "mimetype": " text/x-c++src",
   "name": "c++"
  },
  "toc": {
   "base_numbering": 1,
   "nav_menu": {},
   "number_sections": true,
   "sideBar": true,
   "skip_h1_title": false,
   "title_cell": "Table of Contents",
   "title_sidebar": "Contents",
   "toc_cell": false,
   "toc_position": {},
   "toc_section_display": true,
   "toc_window_display": false
  }
 },
 "nbformat": 4,
 "nbformat_minor": 2
}
