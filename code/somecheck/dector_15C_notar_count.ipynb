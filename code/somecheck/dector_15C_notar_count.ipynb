{
 "cells": [
  {
   "cell_type": "code",
   "execution_count": 1,
   "metadata": {},
   "outputs": [
    {
     "name": "stdout",
     "output_type": "stream",
     "text": [
      "\u001b[?1034h"
     ]
    }
   ],
   "source": [
    "//%jsroot on"
   ]
  },
  {
   "cell_type": "code",
   "execution_count": 2,
   "metadata": {},
   "outputs": [],
   "source": [
    "TCanvas *c1=new TCanvas;"
   ]
  },
  {
   "cell_type": "code",
   "execution_count": 3,
   "metadata": {},
   "outputs": [],
   "source": [
    "/******get taf&&t1d1************/\n",
    "  TString find1;\n",
    "  Int_t therunnumber,thextaftemp,thevtaftemp,thet1d1temp,thextaf[810],thevtaf[810],thet1d1[810],theallelse[810];\n",
    "  for(Int_t ii=0;ii<810;ii++){\n",
    "      thextaf[ii]=0;\n",
    "      thevtaf[ii]=0;\n",
    "      thet1d1[ii]=0;\n",
    "      theallelse[ii]=0;\n",
    "  }\n",
    "  find1=TString::Format(\"/home/zhuhy/JNBook/Experiment2022/taf/check/txt/15C_CH2_tafandt1.txt\");\n",
    "  ifstream in1(find1.Data());\n",
    "  if(in1.is_open()){\n",
    "    while(!in1.eof())\n",
    "    {\n",
    "        in1>>therunnumber>>thextaftemp>>thevtaftemp>>thet1d1temp;\n",
    "        if(thextaftemp>1000000)thextaftemp=0;\n",
    "        if(thevtaftemp>1000000)thevtaftemp=0;\n",
    "        if(thet1d1temp>100000) thet1d1temp=0;\n",
    "        thextaf[therunnumber]=thextaftemp;\n",
    "        thevtaf[therunnumber]=thevtaftemp;\n",
    "        thet1d1[therunnumber]=thet1d1temp;\n",
    "        theallelse[therunnumber]=thextaftemp+thevtaftemp+thet1d1temp;\n",
    "        if(therunnumber==809)break;\n",
    "    }\n",
    "  }\n",
    "  in1.close();"
   ]
  },
  {
   "cell_type": "code",
   "execution_count": 4,
   "metadata": {},
   "outputs": [
    {
     "name": "stdout",
     "output_type": "stream",
     "text": [
      "runnumber:552\tcountall=484576865\tcountall_tar=229470766\t0.431989\n",
      "runnumber:552\tcountall=484576865\tcountall_C=421242766\t0.8693\n",
      "runnumber:553\tcountall=92204539\tcountall_tar=62340844\t0.456338\n",
      "runnumber:553\tcountall=92204539\tcountall_C=81987144\t0.889188\n",
      "runnumber:554\tcountall=54466758\tcountall_tar=40919733\t0.467084\n",
      "runnumber:554\tcountall=54466758\tcountall_C=48775838\t0.895516\n",
      "runnumber:555\tcountall=53595585\tcountall_tar=40084672\t0.451423\n",
      "runnumber:555\tcountall=53595585\tcountall_C=47953297\t0.894725\n",
      "runnumber:556\tcountall=61697912\tcountall_tar=53508006\t0.463818\n",
      "runnumber:556\tcountall=61697912\tcountall_C=55930879\t0.906528\n",
      "runnumber:557\tcountall=55755213\tcountall_tar=48021732\t0.444951\n",
      "runnumber:557\tcountall=55755213\tcountall_C=50373995\t0.903485\n",
      "runnumber:558\tcountall=70062158\tcountall_tar=51871163\t0.435082\n",
      "runnumber:558\tcountall=70062158\tcountall_C=62654913\t0.894276\n",
      "runnumber:559\tcountall=72202327\tcountall_tar=59796244\t0.459357\n",
      "runnumber:559\tcountall=72202327\tcountall_C=65037098\t0.900762\n",
      "runnumber:560\tcountall=66909510\tcountall_tar=53470836\t0.459064\n",
      "runnumber:560\tcountall=66909510\tcountall_C=60137832\t0.898793\n",
      "runnumber:790\tcountall=190636149\tcountall_tar=110000260\t0.577017\n",
      "runnumber:790\tcountall=190636149\tcountall_C=139363734\t0.731046\n",
      "runnumber:791\tcountall=126581410\tcountall_tar=70854661\t0.559756\n",
      "runnumber:791\tcountall=126581410\tcountall_C=91552871\t0.723273\n"
     ]
    }
   ],
   "source": [
    "TGraph *gCtoall1=new TGraph();\n",
    "TGraph *gCtoall2=new TGraph();\n",
    "TGraph *gtartoall1=new TGraph();\n",
    "TGraph *gtartoall2=new TGraph();\n",
    "TString find;\n",
    "Int_t aa,count1,count2;\n",
    "Int_t countt0d1s1,countt0d1m1,countt0d1b1;\n",
    "Int_t countt0d1s1_Ccut,countt0d1m1_Ccut,countt0d1b1_Ccut;\n",
    "Int_t countt0d1s1_tarcut,countt0d1m1_tarcut,countt0d1b1_tarcut;\n",
    "Int_t countt0d1s1_Candtarcut,countt0d1m1_Candtarcut,countt0d1b1_Candtarcut;\n",
    "Int_t countt0d1s17,countt0d1m17,countt0d1b17;\n",
    "Int_t countt0d1s17_Ccut,countt0d1m17_Ccut,countt0d1b17_Ccut;\n",
    "Int_t countt0d1s17_tarcut,countt0d1m17_tarcut,countt0d1b17_tarcut;\n",
    "Int_t countt0d1s17_Candtarcut,countt0d1m17_Candtarcut,countt0d1b17_Candtarcut;\n",
    "long t0all1;\n",
    "long t0d1sall1;\n",
    "long t0d1mall1;\n",
    "long t0d1ball1;\n",
    "long t0d1sall17;\n",
    "long t0d1mall17;\n",
    "long t0d1ball17;\n",
    "long t0all1_Ccut;\n",
    "long t0d1sall1_Ccut;\n",
    "long t0d1mall1_Ccut;\n",
    "long t0d1ball1_Ccut;\n",
    "long t0d1sall17_Ccut;\n",
    "long t0d1mall17_Ccut;\n",
    "long t0d1ball17_Ccut;\n",
    "long t0all1_tarcut;\n",
    "long t0d1sall1_tarcut;\n",
    "long t0d1mall1_tarcut;\n",
    "long t0d1ball1_tarcut;\n",
    "long t0d1sall17_tarcut;\n",
    "long t0d1mall17_tarcut;\n",
    "long t0d1ball17_tarcut;\n",
    "long t0all1_Candtarcut;\n",
    "long t0d1sall1_Candtarcut;\n",
    "long t0d1mall1_Candtarcut;\n",
    "long t0d1ball1_Candtarcut;\n",
    "long t0d1mball1_Candtarcut;\n",
    "long t0d1sall17_Candtarcut;\n",
    "long t0d1mall17_Candtarcut;\n",
    "long t0d1ball17_Candtarcut;\n",
    "Int_t thekey=0;\n",
    "Int_t nowfenchu;\n",
    "for(Int_t ii=0;ii<9;ii++){\n",
    "  thekey=0;\n",
    "  find=TString::Format(\"/data/d1/zhuhy/lanzhou2022/findin/newtxt8/run%04dt0d1all.txt\",552+ii);\n",
    "  ifstream in(find.Data());\n",
    "  if(in.is_open()){\n",
    "//    while(!in.eof())\n",
    "    while(thekey==0)\n",
    "    {\n",
    "        if(ii==0)nowfenchu=100;\n",
    "        else if(ii==1)nowfenchu=10;\n",
    "        else if(ii==2||ii==3)nowfenchu=5;\n",
    "        else if(ii==4||ii==5)nowfenchu=1;\n",
    "        else if(ii==6)nowfenchu=5;\n",
    "        else if(ii==7)nowfenchu=2;\n",
    "        else if(ii>=8)nowfenchu=3;\n",
    "        in>>aa>>count1>>countt0d1s1>>countt0d1m1>>countt0d1b1;\n",
    "        in>>aa>>count1>>countt0d1s1_Ccut>>countt0d1m1_Ccut>>countt0d1b1_Ccut;\n",
    "        in>>aa>>count1>>countt0d1s1_tarcut>>countt0d1m1_tarcut>>countt0d1b1_tarcut;\n",
    "        in>>aa>>count1>>countt0d1s1_Candtarcut>>countt0d1m1_Candtarcut>>countt0d1b1_Candtarcut;\n",
    "        \n",
    "        \n",
    "        t0d1sall1+=countt0d1s1;\n",
    "        t0d1mall1+=countt0d1m1;\n",
    "        t0d1ball1+=countt0d1b1;\n",
    "        t0d1sall1_Ccut+=countt0d1s1_Ccut;\n",
    "        t0d1mall1_Ccut+=countt0d1m1_Ccut;\n",
    "        t0d1ball1_Ccut+=countt0d1b1_Ccut;\n",
    "        t0d1sall1_tarcut+=countt0d1s1_tarcut;\n",
    "        t0d1mall1_tarcut+=countt0d1m1_tarcut;\n",
    "        t0d1ball1_tarcut+=countt0d1b1_tarcut;\n",
    "        t0d1sall1_Candtarcut+=countt0d1s1_Candtarcut;\n",
    "        t0d1mall1_Candtarcut+=countt0d1m1_Candtarcut;\n",
    "        t0d1ball1_Candtarcut+=countt0d1b1_Candtarcut;\n",
    "        t0all1+=nowfenchu*(countt0d1s1-countt0d1b1-theallelse[552+ii])+countt0d1b1+theallelse[552+ii];\n",
    "        t0all1_Ccut+=nowfenchu*(countt0d1s1_Ccut-countt0d1b1_Ccut)+countt0d1b1_Ccut;\n",
    "        t0all1_tarcut+=nowfenchu*(countt0d1s1_tarcut-countt0d1b1_tarcut)+countt0d1b1_tarcut;\n",
    "        t0all1_Candtarcut+=nowfenchu*(countt0d1s1_Candtarcut-countt0d1b1_Candtarcut)+countt0d1b1_Candtarcut;\n",
    "        thekey++;\n",
    "    }\n",
    "  }\n",
    "  in.close();\n",
    "  gtartoall1->SetPoint(ii,552+ii,(Double_t)(nowfenchu*(countt0d1s1_tarcut-countt0d1b1_tarcut)+countt0d1b1_tarcut)/(Double_t)(nowfenchu*(countt0d1s1-countt0d1b1)+countt0d1b1));\n",
    "  cout<<\"runnumber:\"<<552+ii<<'\\t'<<\"countall=\"<<nowfenchu*(countt0d1s1-countt0d1b1)+countt0d1b1<<'\\t'<<\"countall_tar=\"<<nowfenchu*(countt0d1s1_tarcut-countt0d1b1_tarcut)+countt0d1b1_Ccut<<'\\t'<<(Double_t)(nowfenchu*(countt0d1s1_tarcut-countt0d1b1_tarcut)+countt0d1b1_tarcut)/(Double_t)(nowfenchu*(countt0d1s1-countt0d1b1)+countt0d1b1)<<'\\n';\n",
    "  gCtoall1->SetPoint(ii,552+ii,(Double_t)(nowfenchu*(countt0d1s1_Ccut-countt0d1b1_Ccut)+countt0d1b1_Ccut)/(Double_t)(nowfenchu*(countt0d1s1-countt0d1b1)+countt0d1b1));\n",
    "  cout<<\"runnumber:\"<<552+ii<<'\\t'<<\"countall=\"<<nowfenchu*(countt0d1s1-countt0d1b1)+countt0d1b1<<'\\t'<<\"countall_C=\"<<nowfenchu*(countt0d1s1_Ccut-countt0d1b1_Ccut)+countt0d1b1_Ccut<<'\\t'<<(Double_t)(nowfenchu*(countt0d1s1_Ccut-countt0d1b1_Ccut)+countt0d1b1_Ccut)/(Double_t)(nowfenchu*(countt0d1s1-countt0d1b1)+countt0d1b1)<<'\\n';\n",
    "  //cout<<\"runnumber:\"<<420+ii<<'\\t'<<\"countt0d1s1_Ccut=\"<<countt0d1s1_Ccut<<'\\t'<<\"countt0d1b1_Ccut=\"<<countt0d1b1_Ccut<<'\\t'<<\"dcount=\"<<(Double_t)(countt0d1s1_Ccut-countt0d1b1_Ccut)/(Double_t)(countt0d1s1_Ccut)<<'\\n';\n",
    "  //cout<<\"runnumber:\"<<420+ii<<'\\t'<<\"t0all=\"<<t0all1<<'\\t'<<\"count=\"<<count1<<'\\n';\n",
    "  //cout<<\"runnumber:\"<<420+ii<<'\\t'<<\"t0all=\"<<t0all2<<'\\t'<<\"count=\"<<count2<<'\\n';\n",
    "}\n",
    "\n",
    "for(Int_t ii=0;ii<2;ii++){\n",
    "  thekey=0;\n",
    "  find=TString::Format(\"/data/d1/zhuhy/lanzhou2022/findin/newtxt8/run%04dt0d1all.txt\",790+ii);\n",
    "  ifstream in(find.Data());\n",
    "  if(in.is_open()){\n",
    "    while(thekey==0)\n",
    "    {\n",
    "        nowfenchu=100;\n",
    "        in>>aa>>count1>>countt0d1s17>>countt0d1m17>>countt0d1b17;\n",
    "        in>>aa>>count1>>countt0d1s17_Ccut>>countt0d1m17_Ccut>>countt0d1b17_Ccut;\n",
    "        in>>aa>>count1>>countt0d1s17_tarcut>>countt0d1m17_tarcut>>countt0d1b17_tarcut;\n",
    "        in>>aa>>count1>>countt0d1s17_Candtarcut>>countt0d1m17_Candtarcut>>countt0d1b17_Candtarcut;        \n",
    "        t0d1sall17+=countt0d1s17;\n",
    "        t0d1mall17+=countt0d1m17;  \n",
    "        t0d1ball17+=countt0d1b17;       \n",
    "        t0d1sall17_Ccut+=countt0d1s17_Ccut;\n",
    "        t0d1mall17_Ccut+=countt0d1m17_Ccut;  \n",
    "        t0d1ball17_Ccut+=countt0d1b17_Ccut;        \n",
    "        t0d1sall17_tarcut+=countt0d1s17_tarcut;\n",
    "        t0d1mall17_tarcut+=countt0d1m17_tarcut; \n",
    "        t0d1ball17_tarcut+=countt0d1b17_tarcut;         \n",
    "        t0d1sall17_Candtarcut+=countt0d1s17_Candtarcut;\n",
    "        t0d1mall17_Candtarcut+=countt0d1m17_Candtarcut;\n",
    "        t0d1ball17_Candtarcut+=countt0d1b17_Candtarcut;\n",
    "        t0all1+=nowfenchu*(countt0d1s17-countt0d1b17-theallelse[790+ii])+countt0d1b17+theallelse[790+ii];\n",
    "        t0all1_Ccut+=nowfenchu*(countt0d1s17_Ccut-countt0d1b17_Ccut)+countt0d1b17_Ccut;\n",
    "        t0all1_tarcut+=nowfenchu*(countt0d1s17_tarcut-countt0d1b17_tarcut)+countt0d1b17_tarcut;\n",
    "        t0all1_Candtarcut+=nowfenchu*(countt0d1s17_Candtarcut-countt0d1b17_Candtarcut)+countt0d1b17_Candtarcut;\n",
    "        thekey++;\n",
    "    }\n",
    "  }\n",
    "  in.close();\n",
    "  gtartoall2->SetPoint(ii,790+ii,(Double_t)(nowfenchu*(countt0d1s17_tarcut-countt0d1b17_tarcut)+countt0d1b17_tarcut)/(Double_t)(nowfenchu*(countt0d1s17-countt0d1b17)+countt0d1b17));\n",
    "  cout<<\"runnumber:\"<<790+ii<<'\\t'<<\"countall=\"<<nowfenchu*(countt0d1s17-countt0d1b17)+countt0d1b17<<'\\t'<<\"countall_tar=\"<<nowfenchu*(countt0d1s17_tarcut-countt0d1b17_tarcut)+countt0d1b17_tarcut<<'\\t'<<(Double_t)(nowfenchu*(countt0d1s17_tarcut-countt0d1b17_tarcut)+countt0d1b17_tarcut)/(Double_t)(nowfenchu*(countt0d1s17-countt0d1b17)+countt0d1b17)<<'\\n';\n",
    "  gCtoall2->SetPoint(ii,790+ii,(Double_t)(nowfenchu*(countt0d1s17_Ccut-countt0d1b17_Ccut)+countt0d1b17_Ccut)/(Double_t)(nowfenchu*(countt0d1s17-countt0d1b17)+countt0d1b17));\n",
    "  cout<<\"runnumber:\"<<790+ii<<'\\t'<<\"countall=\"<<nowfenchu*(countt0d1s17-countt0d1b17)+countt0d1b17<<'\\t'<<\"countall_C=\"<<nowfenchu*(countt0d1s17_Ccut-countt0d1b17_Ccut)+countt0d1b17_Ccut<<'\\t'<<(Double_t)(nowfenchu*(countt0d1s17_Ccut-countt0d1b17_Ccut)+countt0d1b17_Ccut)/(Double_t)(nowfenchu*(countt0d1s17-countt0d1b17)+countt0d1b17)<<'\\n';\n",
    "  //cout<<\"runnumber:\"<<799+ii<<'\\t'<<\"countt0d1s17_Ccut=\"<<countt0d1s17_Ccut<<'\\t'<<\"countt0d1b17_Ccut=\"<<countt0d1b17_Ccut<<'\\t'<<\"dcount=\"<<(Double_t)(countt0d1s17_Ccut-countt0d1b17_Ccut)/(Double_t)(countt0d1s17_Ccut)<<'\\n';\n",
    "  //cout<<\"runnumber:\"<<420+ii<<'\\t'<<\"t0all=\"<<t0all2<<'\\t'<<\"count=\"<<count2<<'\\n';\n",
    "}"
   ]
  },
  {
   "cell_type": "code",
   "execution_count": null,
   "metadata": {},
   "outputs": [],
   "source": []
  },
  {
   "cell_type": "code",
   "execution_count": 5,
   "metadata": {},
   "outputs": [],
   "source": [
    "Double_t key=0;\n",
    "Double_t fenchu1=1;\n",
    "/*\n",
    "t0all1=100*(t0d1sall17-t0d1ball17);\n",
    "t0all1_Ccut=100*(t0d1sall17_Ccut-t0d1ball17_Ccut);\n",
    "t0all1_tarcut=100*(t0d1sall17_tarcut-t0d1ball17_tarcut);\n",
    "t0all1_Candtarcut=100*(t0d1sall17_Candtarcut-t0d1ball17_Candtarcut);\n",
    "*/\n",
    "/*\n",
    "t0all1=fenchu1*(t0d1sall1-t0d1ball1);//+100*(t0d1sall17-t0d1ball17);\n",
    "t0all1_Ccut=fenchu1*(t0d1sall1_Ccut-t0d1ball1_Ccut);//+100*(t0d1sall17_Ccut-t0d1ball17_Ccut);\n",
    "t0all1_tarcut=fenchu1*(t0d1sall1_tarcut-t0d1ball1_tarcut);//+100*(t0d1sall17_tarcut-t0d1ball17_tarcut);\n",
    "t0all1_Candtarcut=fenchu1*(t0d1sall1_Candtarcut-t0d1ball1_Candtarcut);//+100*(t0d1sall17_Candtarcut-t0d1ball17_Candtarcut);\n",
    "*/"
   ]
  },
  {
   "cell_type": "code",
   "execution_count": 6,
   "metadata": {},
   "outputs": [
    {
     "name": "stdout",
     "output_type": "stream",
     "text": [
      "t0all1=1328688426\tt0single=479090391\tt0mid=437937986\tt0both=437937986\n"
     ]
    }
   ],
   "source": [
    "cout<<\"t0all1=\"<<t0all1<<'\\t'<<\"t0single=\"<<t0d1sall1<<'\\t'<<\"t0mid=\"<<t0d1mall1<<'\\t'<<\"t0both=\"<<t0d1ball1<<'\\n';"
   ]
  },
  {
   "cell_type": "code",
   "execution_count": 7,
   "metadata": {},
   "outputs": [
    {
     "name": "stdout",
     "output_type": "stream",
     "text": [
      "t0all1=1328688426\tt0single=98100265\tt0mid=95886959\tt0both=95886959\n",
      "t0all1_Ccut=1125010367\tt0mid_Ccut=498003072\n",
      "t0all1_tarcut=629688059\tt0mid_tarcut=266851803\n",
      "t0all1_Candtarcut=530635208\tt0mid_Candtarcut=248257816\n"
     ]
    }
   ],
   "source": [
    "cout<<\"t0all1=\"<<t0all1<<'\\t'<<\"t0single=\"<<t0d1sall17<<'\\t'<<\"t0mid=\"<<t0d1mall17<<'\\t'<<\"t0both=\"<<t0d1ball17<<'\\n';\n",
    "cout<<\"t0all1_Ccut=\"<<t0all1_Ccut<<'\\t'<<\"t0mid_Ccut=\"<<t0d1mall1_Ccut+t0d1mall17_Ccut<<'\\n';\n",
    "cout<<\"t0all1_tarcut=\"<<t0all1_tarcut<<'\\t'<<\"t0mid_tarcut=\"<<t0d1mall1_tarcut+t0d1mall17_tarcut<<'\\n';\n",
    "cout<<\"t0all1_Candtarcut=\"<<t0all1_Candtarcut<<'\\t'<<\"t0mid_Candtarcut=\"<<t0d1mall1_Candtarcut+t0d1mall17_Candtarcut<<'\\n';"
   ]
  },
  {
   "cell_type": "code",
   "execution_count": 8,
   "metadata": {},
   "outputs": [
    {
     "data": {
      "image/png": "[encoded data removed]",
      "text/plain": [
       "<IPython.core.display.Image object>"
      ]
     },
     "metadata": {},
     "output_type": "display_data"
    }
   ],
   "source": [
    "c1->Clear();\n",
    "gtartoall1->SetMarkerStyle(3);\n",
    "gtartoall1->Draw(\"ap\");\n",
    "c1->Draw();"
   ]
  },
  {
   "cell_type": "code",
   "execution_count": 9,
   "metadata": {},
   "outputs": [
    {
     "data": {
      "image/png": "[encoded data removed]",
      "text/plain": [
       "<IPython.core.display.Image object>"
      ]
     },
     "metadata": {},
     "output_type": "display_data"
    }
   ],
   "source": [
    "c1->Clear();\n",
    "gtartoall2->SetMarkerStyle(3);\n",
    "gtartoall2->Draw(\"ap\");\n",
    "c1->Draw();"
   ]
  },
  {
   "cell_type": "code",
   "execution_count": null,
   "metadata": {},
   "outputs": [],
   "source": []
  },
  {
   "cell_type": "code",
   "execution_count": null,
   "metadata": {},
   "outputs": [],
   "source": []
  }
 ],
 "metadata": {
  "kernelspec": {
   "display_name": "ROOT C++",
   "language": "c++",
   "name": "root"
  },
  "language_info": {
   "codemirror_mode": "text/x-c++src",
   "file_extension": ".C",
   "mimetype": " text/x-c++src",
   "name": "c++"
  },
  "toc": {
   "base_numbering": 1,
   "nav_menu": {},
   "number_sections": true,
   "sideBar": true,
   "skip_h1_title": false,
   "title_cell": "Table of Contents",
   "title_sidebar": "Contents",
   "toc_cell": false,
   "toc_position": {},
   "toc_section_display": true,
   "toc_window_display": false
  }
 },
 "nbformat": 4,
 "nbformat_minor": 2
}
