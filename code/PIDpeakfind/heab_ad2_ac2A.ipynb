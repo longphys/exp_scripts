{
 "cells": [
  {
   "cell_type": "code",
   "execution_count": 1,
   "metadata": {
    "scrolled": true
   },
   "outputs": [
    {
     "name": "stdout",
     "output_type": "stream",
     "text": [
      "\u001b[?1034h"
     ]
    }
   ],
   "source": [
    "//%jsroot on"
   ]
  },
  {
   "cell_type": "code",
   "execution_count": 2,
   "metadata": {},
   "outputs": [],
   "source": [
    "        int start = 453;\n",
    "        int stop = 530;\n",
    "        TChain *fch;\n",
    "        fch = new TChain(\"tree\", \"tele\");\n",
    "        for (int i= start; i<=stop; i++){\n",
    "          TString fileName = TString::Format(\"/data/d1/zhuhy/lanzhou2022/getdatappac/newtestn15_2/tele%04d.root\" , i);\n",
    "          fch->AddFile(fileName.Data());\n",
    "        }\n",
    "        start = 749;\n",
    "        stop = 809;\n",
    "        for (int i= start; i<=stop; i++){\n",
    "          TString fileName = TString::Format(\"/data/d1/zhuhy/lanzhou2022/getdatappac/newtestn15_2/tele%04d.root\" , i);\n",
    "          //fch->AddFile(fileName.Data());\n",
    "        }"
   ]
  },
  {
   "cell_type": "code",
   "execution_count": 3,
   "metadata": {},
   "outputs": [],
   "source": [
    "TCanvas *c1=new TCanvas(\"c1\",\"c1\");"
   ]
  },
  {
   "cell_type": "code",
   "execution_count": 4,
   "metadata": {
    "scrolled": false
   },
   "outputs": [],
   "source": [
    "Double_t a=0.095;\n",
    "Double_t b=-0.129;\n",
    "Double_t c=0;\n",
    "/******************/\n",
    "Int_t stripnum=2;\n",
    "/******************/\n",
    "\n",
    "c1->Clear();\n",
    "\n",
    "TString name=TString::Format(\"(TMath::Sqrt(taf_ad2_xne[0]*taf_ac2_e[0]+%f*taf_ad2_xne[0]*taf_ad2_xne[0])+%f*taf_ac2_e[0]):taf_ac2_e[0]\",a,b);\n",
    "TString drawname=name+\">>(100,0,20000,100,7000,10000)\";\n",
    "//TString Ef=TString::Format(\"(TMath::Sqrt(ta.ad3.xne[0]*ta.ad4.xne[0]+%f*ta.ad3.xne[0]*ta.ad3.xne[0])+%f*ta.ad4.xne[0])\",a[stripnum],b[stripnum]);\n",
    "TString cutname_bac=TString::Format(\"taf_ac2_e[0]>0&&taf_ac2_e[0]!=65535&&taf_ad2_xs[0]==%d&&taf_ad2_xne[0]>0&&taf_ad2_xne[0]!=65535\",stripnum);\n",
    "//TString cutname=cutname_bac+\"&&\"+Ef+\">=13/25*ta.ad4.xne[0]+200\";\n",
    "//fch->Draw(drawname.Data(),cutname_bac.Data(),\"colz\");\n",
    "gStyle->SetOptStat(0);\n",
    "//c1->Draw();"
   ]
  },
  {
   "cell_type": "code",
   "execution_count": 5,
   "metadata": {},
   "outputs": [],
   "source": [
    "TFile *fout = new TFile(\"/home/zhuhy/JNBook/Experiment2022/taf/PIDpeakfind/graph/taf_ad0_sigma.root\",\"recreate\");\n",
    "fout->cd();"
   ]
  },
  {
   "cell_type": "code",
   "execution_count": 6,
   "metadata": {
    "code_folding": [],
    "scrolled": false
   },
   "outputs": [
    {
     "name": "stdout",
     "output_type": "stream",
     "text": [
      " FCN=89.6727 FROM MIGRAD    STATUS=CONVERGED     260 CALLS         261 TOTAL\n",
      "                     EDM=3.85781e-07    STRATEGY= 1      ERROR MATRIX ACCURATE \n",
      "  EXT PARAMETER                                   STEP         FIRST   \n",
      "  NO.   NAME      VALUE            ERROR          SIZE      DERIVATIVE \n",
      "   1  p0           9.31854e+01   4.16569e+00   2.17022e-02  -8.85217e-05\n",
      "   2  p1           8.10756e+03   1.03913e+01   5.68342e-02   5.82704e-06\n",
      "   3  p2           2.18404e+02   8.42458e+00   1.89898e-04  -9.91740e-05\n",
      "   4  p3           3.27493e+02   8.82016e+00   4.67155e-02   5.73522e-05\n",
      "   5  p4           8.79735e+03   3.94315e+00   2.35673e-02   8.25615e-05\n",
      "   6  p5           1.58493e+02   2.95166e+00   7.36038e-05   2.96918e-02\n",
      "                               ERR DEF= 0.5\n"
     ]
    }
   ],
   "source": [
    "TGraph *sigma = new TGraph();\n",
    "TGraph *rate = new TGraph();\n",
    "Int_t count=0,counttemp=0;\n",
    "//TF1 *g1 = new TF1(\"g1\",\"gaus\");\n",
    "TF1 *g1=new TF1(\"g1\",\"[0]*TMath::Exp(-0.5*((x-[1])/[2])^2)+[3]*TMath::Exp(-0.5*((x-[4])/[5])^2)\",7500,9500);\n",
    "  Int_t left=7000,right=10000;\n",
    "  Double_t nvall;\n",
    "  Int_t _bin=50,cmin;\n",
    "  Double_t amin,bmin;\n",
    "Double_t xsigmamin=100000,hi[5],nowmean[5],nowsigma[5],xamin,xbmin,xaa,xbb;\n",
    "/*\n",
    "TF1 *fun2peak=new TF1(\"fun2peak\",\"[0]*TMath::Exp(-0.5*((x-[1])/[2])^2)+[3]*TMath::Exp(-0.5*((x-[4])/([2]*1.25))^2)\",1300,2000);\n",
    "  fun2peak->SetParameter(0,4000);\n",
    "  fun2peak->SetParameter(1,1520);\n",
    "  fun2peak->SetParameter(2,100);\n",
    "  fun2peak->SetParameter(3,1800);\n",
    "  fun2peak->SetParameter(4,1800);\n",
    "*/\n",
    "TH1F *h[200];\n",
    "TString find;\n",
    "TString canvasname;\n",
    "Double_t sigmamin=10000,nnowmean=0,nvallmin=100;\n",
    "a=0.095;\n",
    "b=-0.129;\n",
    "c=0;\n",
    "Double_t nsigma;\n",
    "//cutname=cutname+\"&&\"+Ef+\">=13/25*ta.ad4.xne[0]+180\";\n",
    "//for(a=0.090;a<=0.105;a=a+0.001){\n",
    "//for(b=-0.140;b<=-0.120;b=b+0.001){\n",
    "//for(c=10;c<=40;c=c+1){\n",
    "drawname=TString::Format(\"(TMath::Sqrt(taf_ad2_xne[0]*taf_ac2_e[0]+%f*taf_ad2_xne[0]*taf_ad2_xne[0])+%f*taf_ac2_e[0])>>h%d(%d,7001,10000)\",a,b,count,_bin);\n",
    "cutname_bac=TString::Format(\"taf_ac2_e[0]>0&&taf_ac2_e[0]!=65535&&taf_ad2_xs[0]==%d&&taf_ad2_xne[0]>0&&taf_ad2_xne[0]!=65535&&taf_ac2_e[0]<6000\",stripnum);\n",
    "fch->Draw(drawname.Data(),cutname_bac.Data());\n",
    "find=TString::Format(\"h%d\",count);\n",
    "h[count]=(TH1F*)gROOT->FindObject(find.Data());\n",
    "\n",
    "\n",
    "  g1->SetParameter(0,100);\n",
    "  g1->SetParameter(1,8200);\n",
    "  g1->SetParameter(2,100);\n",
    "  g1->SetParLimits(2,0.,400.);\n",
    "\n",
    "  g1->SetParameter(3,300);\n",
    "  g1->SetParameter(4,8900);\n",
    "  g1->SetParameter(5,100);\n",
    "  g1->SetParLimits(5,0.,400.);\n",
    "\n",
    "h[count]->Fit(\"g1\",\"RL\",\"\",7500,9500);\n",
    "    \n",
    "nsigma=2;\n",
    "//h[count]->Fit(\"g1\",\"Q\",\"\",g1->GetParameter(1)-nsigma*g1->GetParameter(2),g1->GetParameter(1)+nsigma*g1->GetParameter(2));\n",
    "//h[count]->Fit(\"g1\",\"Q\",\"\",g1->GetParameter(1)-nsigma*g1->GetParameter(2),g1->GetParameter(1)+nsigma*g1->GetParameter(2));\n",
    "\n",
    "\n",
    "//if(fun2peak->GetParameter(2)<sigmamin){sigmamin=fun2peak->GetParameter(2);counttemp=count;}\n",
    "sigma->SetPoint(count,b,g1->GetParameter(2));\n",
    "nvall=(h[count]->GetBinContent((Int_t)(g1->GetParameter(1)+nsigma*g1->GetParameter(2))*_bin/right+0)+\n",
    "       h[count]->GetBinContent((Int_t)(g1->GetParameter(1)+nsigma*g1->GetParameter(2))*_bin/right+1)+\n",
    "       h[count]->GetBinContent((Int_t)(g1->GetParameter(1)+nsigma*g1->GetParameter(2))*_bin/right+2))/3.;\n",
    "if(g1->GetParameter(2)<sigmamin){sigmamin=g1->GetParameter(2);counttemp=count;nnowmean=g1->GetParameter(1);amin=a;bmin=b;}\n",
    "//if(nvall<nvallmin){nvallmin=nvall;counttemp=count;sigmamin=g1->GetParameter(2);nowmean=g1->GetParameter(1);cmin=c;amin=a;bmin=b;}\n",
    "rate->SetPoint(count,b,nvall/g1->GetParameter(0));\n",
    "count++;\n",
    "//}\n",
    "\n",
    "    for(Int_t ii=0;ii<2;ii++){\n",
    "        hi[ii]=g1->GetParameter(0+ii*3);\n",
    "        nowmean[ii]=g1->GetParameter(1+ii*3);\n",
    "        nowsigma[ii]=g1->GetParameter(2+ii*3);\n",
    "    }\n",
    "\n",
    "h[counttemp]->GetYaxis()->SetNdivisions(5); // 计算需要的刻度数量\n",
    "h[counttemp]->GetYaxis()->SetNoExponent(true);         // 禁用科学计数法\n",
    "h[counttemp]->GetXaxis()->SetNdivisions(5); // 计算需要的刻度数量\n",
    "h[counttemp]->GetXaxis()->SetNoExponent(true);         // 禁用科学计数法\n",
    "h[counttemp]->GetXaxis()->SetLabelSize(0.08);  // 放大X轴数字字体\n",
    "h[counttemp]->GetYaxis()->SetLabelSize(0.08);  // 可选：同时放大Y轴字体\n",
    "\n",
    "gStyle->SetOptStat(0);\n",
    "TString name_pff1= TString::Format(\"%f*TMath::Exp(-0.5*((x-%f)/%f)^2)\",hi[0],nowmean[0],nowsigma[0]);\n",
    "TF1 *pff1=new TF1(\"pff1\",name_pff1.Data(),nowmean[0]-3*nowsigma[0],nowmean[0]+3*nowsigma[0]);\n",
    "TString name_pff2= TString::Format(\"%f*TMath::Exp(-0.5*((x-%f)/%f)^2)\",hi[1],nowmean[1],nowsigma[1]);\n",
    "TF1 *pff2=new TF1(\"pff2\",name_pff2.Data(),nowmean[1]-3*nowsigma[1],nowmean[1]+3*nowsigma[1]);\n",
    "\n",
    "\n",
    "\n",
    "//}"
   ]
  },
  {
   "cell_type": "code",
   "execution_count": 7,
   "metadata": {},
   "outputs": [
    {
     "data": {
      "image/png": "[encoded data removed]",
      "text/plain": [
       "<IPython.core.display.Image object>"
      ]
     },
     "metadata": {},
     "output_type": "display_data"
    }
   ],
   "source": [
    "c1->Clear();\n",
    "h[counttemp]->GetXaxis()->SetLabelSize(0.08);  // 放大X轴数字字体\n",
    "h[counttemp]->GetYaxis()->SetLabelSize(0.08);  // 可选：同时放大Y轴字体\n",
    "h[counttemp]->GetYaxis()->SetNdivisions(5); // 计算需要的刻度数量\n",
    "h[counttemp]->GetYaxis()->SetNoExponent(true);         // 禁用科学计数法\n",
    "h[counttemp]->GetXaxis()->SetNdivisions(5); // 计算需要的刻度数量\n",
    "h[counttemp]->GetXaxis()->SetNoExponent(true);         // 禁用科学计数法\n",
    "h[counttemp]->Draw();\n",
    "pff1->SetLineColor(kBlue);\n",
    "pff1->SetLineWidth(1);\n",
    "pff1->Draw(\"same\");\n",
    "pff2->SetLineColor(kBlue);\n",
    "pff2->SetLineWidth(1);\n",
    "pff2->Draw(\"same\");\n",
    "h[counttemp]->Draw(\"samep\");\n",
    "c1->Draw();"
   ]
  },
  {
   "cell_type": "code",
   "execution_count": 8,
   "metadata": {
    "scrolled": false
   },
   "outputs": [
    {
     "data": {
      "image/png": "[encoded data removed]",
      "text/plain": [
       "<IPython.core.display.Image object>"
      ]
     },
     "metadata": {},
     "output_type": "display_data"
    },
    {
     "name": "stdout",
     "output_type": "stream",
     "text": [
      "amin=0.095\n",
      "bmin=-0.129\n",
      "sigmamin=218.404\n",
      "nowmean=0x7fc779eb2120\n"
     ]
    }
   ],
   "source": [
    "\n",
    "cout<<\"amin=\"<<amin<<'\\n';\n",
    "cout<<\"bmin=\"<<bmin<<'\\n';\n",
    "cout<<\"sigmamin=\"<<sigmamin<<'\\n';\n",
    "cout<<\"nowmean=\"<<nowmean<<'\\n';\n",
    "\n",
    "c1->Clear();\n",
    "sigma->Draw(\"\");\n",
    "canvasname=TString::Format(\"sigma\"); \n",
    "c1->SetName(canvasname.Data());\n",
    "c1->Draw();\n",
    "c1->Write();\n",
    "\n",
    "\n"
   ]
  },
  {
   "cell_type": "code",
   "execution_count": 9,
   "metadata": {
    "scrolled": false
   },
   "outputs": [],
   "source": [
    "/*\n",
    "c1->Clear();\n",
    "rate->Draw(\"\");\n",
    "canvasname=TString::Format(\"rate\"); \n",
    "c1->SetName(canvasname.Data());\n",
    "c1->Draw();\n",
    "c1->Write();\n",
    "*/"
   ]
  },
  {
   "cell_type": "code",
   "execution_count": 10,
   "metadata": {},
   "outputs": [],
   "source": [
    "fout->Close();"
   ]
  },
  {
   "cell_type": "code",
   "execution_count": null,
   "metadata": {},
   "outputs": [],
   "source": []
  },
  {
   "cell_type": "code",
   "execution_count": null,
   "metadata": {},
   "outputs": [],
   "source": []
  },
  {
   "cell_type": "code",
   "execution_count": null,
   "metadata": {},
   "outputs": [],
   "source": []
  },
  {
   "cell_type": "code",
   "execution_count": null,
   "metadata": {},
   "outputs": [],
   "source": []
  },
  {
   "cell_type": "code",
   "execution_count": null,
   "metadata": {},
   "outputs": [],
   "source": []
  },
  {
   "cell_type": "code",
   "execution_count": null,
   "metadata": {},
   "outputs": [],
   "source": []
  },
  {
   "cell_type": "code",
   "execution_count": null,
   "metadata": {},
   "outputs": [],
   "source": []
  },
  {
   "cell_type": "code",
   "execution_count": null,
   "metadata": {},
   "outputs": [],
   "source": []
  }
 ],
 "metadata": {
  "kernelspec": {
   "display_name": "ROOT C++",
   "language": "c++",
   "name": "root"
  },
  "language_info": {
   "codemirror_mode": "text/x-c++src",
   "file_extension": ".C",
   "mimetype": " text/x-c++src",
   "name": "c++"
  },
  "toc": {
   "base_numbering": 1,
   "nav_menu": {},
   "number_sections": true,
   "sideBar": true,
   "skip_h1_title": false,
   "title_cell": "Table of Contents",
   "title_sidebar": "Contents",
   "toc_cell": false,
   "toc_position": {},
   "toc_section_display": true,
   "toc_window_display": false
  }
 },
 "nbformat": 4,
 "nbformat_minor": 2
}
