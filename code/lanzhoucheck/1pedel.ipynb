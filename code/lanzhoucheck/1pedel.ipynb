{
 "cells": [
  {
   "cell_type": "code",
   "execution_count": 1,
   "metadata": {},
   "outputs": [
    {
     "name": "stdout",
     "output_type": "stream",
     "text": [
      "\u001b[?1034h"
     ]
    }
   ],
   "source": [
    "//%jsroot on"
   ]
  },
  {
   "cell_type": "code",
   "execution_count": 2,
   "metadata": {},
   "outputs": [],
   "source": [
    "int start = 0;\n",
    "int stop = start;\n",
    "TChain *fch;\n",
    "fch = new TChain(\"RawData\", \"tele\");\n",
    "for (int i= start; i<=stop; i++){\n",
    "  TString fileName = TString::Format(\"/data/d1/zhuhy/lanzhou2022/jws202/expdata/tele%04d.root\" , i);\n",
    "  //TString fileName = TString::Format(\"/data/d1/zhuhy/telefile/tele%04d.root\" , i);\n",
    "  fch->AddFile(fileName.Data());}\n",
    "\n",
    "TCanvas *c1=new TCanvas;\n",
    "// 创建6×6网格画布\n",
    "TCanvas *c_all = new TCanvas(\"c_all\", \"All Channel Thresholds\", 900, 600);\n",
    "c_all->Divide(6, 6); // 6列×6行"
   ]
  },
  {
   "cell_type": "code",
   "execution_count": 3,
   "metadata": {},
   "outputs": [],
   "source": [
    " //TModV830AC      *Mod104_TModV830AC;\n",
    "   UInt_t          fGeo1;\n",
    "   UInt_t          fCrateNum1;\n",
    "   UInt_t          MaxChannel1;\n",
    "   UInt_t          chdata1[32];\n",
    " //TModV785        *Mod107_TModV785;\n",
    "   UInt_t          fGeo2;\n",
    "   UInt_t          fCrateNum2;\n",
    "   UInt_t          MaxChannel2;\n",
    "   UShort_t        chdata2[32];\n",
    " //TModV785        *Mod111_TModV785;\n",
    "   UInt_t          fGeo3;\n",
    "   UInt_t          fCrateNum3;\n",
    "   UInt_t          MaxChannel3;\n",
    "   UShort_t        chdata3[32];\n",
    "\n",
    "   // List of branches\n",
    "   TBranch        *b_Mod104_TModV830AC_TBoard_fGeo;   //!\n",
    "   TBranch        *b_Mod104_TModV830AC_TBoard_fCrateNum;   //!\n",
    "   TBranch        *b_Mod104_TModV830AC_TBoard_MaxChannel;   //!\n",
    "   TBranch        *b_Mod104_TModV830AC_chdata;   //!\n",
    "   TBranch        *b_Mod107_TModV785_TBoard_fGeo;   //!\n",
    "   TBranch        *b_Mod107_TModV785_TBoard_fCrateNum;   //!\n",
    "   TBranch        *b_Mod107_TModV785_TBoard_MaxChannel;   //!\n",
    "   TBranch        *b_Mod107_TModV785_chdata;   //!\n",
    "   TBranch        *b_Mod111_TModV785_TBoard_fGeo;   //!\n",
    "   TBranch        *b_Mod111_TModV785_TBoard_fCrateNum;   //!\n",
    "   TBranch        *b_Mod111_TModV785_TBoard_MaxChannel;   //!\n",
    "   TBranch        *b_Mod111_TModV785_chdata;   //!\n",
    "\n",
    "\n",
    "//fch->GetListOfBranches()->Print();\n",
    "//   fch->SetMakeClass(1);\n",
    "/*\n",
    "   TBranch        *b_fGeo2;   //!\n",
    "   TBranch        *b_chdata2;   //!\n",
    "\n",
    "    fch->SetBranchAddress(\"Mod107_TModV785.fGeo\", &fGeo2,&b_fGeo2);\n",
    "    fch->SetBranchAddress(\"Mod107_TModV785.chdata[32]\", chdata2,&b_chdata2);\n",
    "*/\n",
    "   fch->SetMakeClass(1);\n",
    "\n",
    "   fch->SetBranchAddress(\"Mod104_TModV830AC.TBoard.fGeo\", &fGeo1, &b_Mod104_TModV830AC_TBoard_fGeo);\n",
    "   fch->SetBranchAddress(\"Mod104_TModV830AC.TBoard.fCrateNum\", &fCrateNum1, &b_Mod104_TModV830AC_TBoard_fCrateNum);\n",
    "   fch->SetBranchAddress(\"Mod104_TModV830AC.TBoard.MaxChannel\", &MaxChannel1, &b_Mod104_TModV830AC_TBoard_MaxChannel);\n",
    "   fch->SetBranchAddress(\"Mod104_TModV830AC.chdata[32]\", chdata1, &b_Mod104_TModV830AC_chdata);\n",
    "   fch->SetBranchAddress(\"Mod107_TModV785.TBoard.fGeo\", &fGeo2, &b_Mod107_TModV785_TBoard_fGeo);\n",
    "   fch->SetBranchAddress(\"Mod107_TModV785.TBoard.fCrateNum\", &fCrateNum2, &b_Mod107_TModV785_TBoard_fCrateNum);\n",
    "   fch->SetBranchAddress(\"Mod107_TModV785.TBoard.MaxChannel\", &MaxChannel2, &b_Mod107_TModV785_TBoard_MaxChannel);\n",
    "   fch->SetBranchAddress(\"Mod107_TModV785.chdata[32]\", chdata2, &b_Mod107_TModV785_chdata);\n",
    "   fch->SetBranchAddress(\"Mod111_TModV785.TBoard.fGeo\", &fGeo3, &b_Mod111_TModV785_TBoard_fGeo);\n",
    "   fch->SetBranchAddress(\"Mod111_TModV785.TBoard.fCrateNum\", &fCrateNum3, &b_Mod111_TModV785_TBoard_fCrateNum);\n",
    "   fch->SetBranchAddress(\"Mod111_TModV785.TBoard.MaxChannel\", &MaxChannel3, &b_Mod111_TModV785_TBoard_MaxChannel);\n",
    "   fch->SetBranchAddress(\"Mod111_TModV785.chdata[32]\", chdata3, &b_Mod111_TModV785_chdata);\n"
   ]
  },
  {
   "cell_type": "code",
   "execution_count": 4,
   "metadata": {},
   "outputs": [],
   "source": [
    "TH1F *h[32],*hc[32];\n",
    "TH2F *pid[32];\n",
    "for (int i = 0; i < 32; i++) {\n",
    "    TString histName = TString::Format(\"h%d\", i);\n",
    "    TString histTitle = TString::Format(\"Channel %d Threshold Distribution\", i);\n",
    "    h[i] = new TH1F(histName, histTitle, 200, 0, 3000); // 10000 bins from 0-10000\n",
    "    TString histName2 = TString::Format(\"hc%d\", i);\n",
    "    TString histTitle2 = TString::Format(\"MeV %d\", i);\n",
    "    hc[i] = new TH1F(histName2, histTitle2, 200, 0, 5); // 10000 bins from 0-10000\n",
    "    TString histName3 = TString::Format(\"pid%d\", i);\n",
    "    TString histTitle3 = TString::Format(\"PID %d\", i);\n",
    "    pid[i] = new TH2F(histName3, histTitle3, 200, 0, 400,200,0,1); // 10000 bins from 0-10000\n",
    "}"
   ]
  },
  {
   "cell_type": "code",
   "execution_count": 5,
   "metadata": {},
   "outputs": [],
   "source": [
    "Double_t k_l[16][2] = {\n",
    "\t\t0.486869,-3.14251,//0\n",
    "\t\t0.501852,0.713552,//1\n",
    "\t\t0.483883,-16.3256,//2\n",
    "\t\t0.480058,-5.89133,//3\n",
    "\t\t0.493858,-6.93198,//4\n",
    "\t\t0.494003,-17.3195,//5\n",
    "\t\t0.498966,-9.3218,//6\n",
    "\t\t0.501286,2.02,//7\n",
    "\n",
    "\t\t0.531863,-48.0983,//8\n",
    "\t\t0.464502,7.64432,//9\n",
    "\t\t0.490427,-31.8218,//10\n",
    "\t\t0.500133,-4.75549,//11\n",
    "\t\t0.510449,-27.6531,//12\n",
    "\t\t0.519508,-35.5454,//13\n",
    "\t\t0.50137,-16.0526,//14\n",
    "\t\t0.494397,-29.0075,//15\n",
    "\t};\n",
    "Double_t themean[32]={95.6677, 80.4379, 115.607, 93.0684, 103.18, 114.48, 102.994, 83.324, 124.484, 69.9858, \n",
    "         151.419, 87.7217, 131.84, 145.796, 104.467, 131.786, 106.706, 163.85, 137.131, 121.445, \n",
    "         97.3479, 124.473, 130.295, 104.656, 152.111, 128.065, 145.783, 131.576, 134.991, 151.605, \n",
    "         132.149, 112.799};\n",
    "Double_t thesigma[32]={7.68773, 7.85127, 7.19742, 7.00137, 6.58832, 7.20677, 6.37088, 7.20278, 7.66342, 7.45098,\n",
    "                       6.16252, 6.86935, 6.83696, 6.89403, 6.58945, 7.45806, 7.48821, 25.9862, 7.55116, 7.15465,\n",
    "                       7.81672, 7.28763, 7.48967, 7.23278, 7.1592, 7.58927, 7.4841, 7.54076, 7.21894, 7.22667,\n",
    "                       7.31922, 7.75658};\n",
    "Double_t pedel[32];\n",
    "for(Int_t ii=0;ii<32;ii++){\n",
    "    pedel[ii]=themean[ii]+2*thesigma[ii];\n",
    "}"
   ]
  },
  {
   "cell_type": "code",
   "execution_count": 6,
   "metadata": {},
   "outputs": [
    {
     "name": "stdout",
     "output_type": "stream",
     "text": [
      "0\n"
     ]
    },
    {
     "name": "stderr",
     "output_type": "stream",
     "text": [
      "Warning in <TClass::Init>: no dictionary for class TModV830AC is available\n",
      "Warning in <TClass::Init>: no dictionary for class TBoard is available\n",
      "Warning in <TClass::Init>: no dictionary for class TModV785 is available\n"
     ]
    },
    {
     "name": "stdout",
     "output_type": "stream",
     "text": [
      "1000000\n"
     ]
    }
   ],
   "source": [
    "   Long64_t nentries = fch->GetEntries();\n",
    "   for (Long64_t jentry=0; jentry<nentries;jentry+=100) {\n",
    "      fch->GetEntry(jentry);\n",
    "      if(jentry%1000000==0)cout<<jentry<<'\\n';\n",
    "      for (int ch = 0; ch < 32; ch++) {\n",
    "        h[ch]->Fill(chdata2[ch]);\n",
    "        if(ch<16&&chdata2[ch]>pedel[ch]){\n",
    "            hc[ch]->Fill((chdata2[ch]*k_l[ch][0]+k_l[ch][1])/1000.);\n",
    "            pid[ch]->Fill(chdata2[15],(chdata2[ch]*k_l[ch][0]+k_l[ch][1])/1000.);\n",
    "        }\n",
    "      }\n",
    "   }"
   ]
  },
  {
   "cell_type": "code",
   "execution_count": 7,
   "metadata": {},
   "outputs": [],
   "source": [
    "Double_t mean[32] = {0};\n",
    "Double_t sigma[32] = {0};\n",
    "// 创建图形对象\n",
    "TGraph *gmean = new TGraph();\n",
    "TGraph *gsigma = new TGraph();"
   ]
  },
  {
   "cell_type": "code",
   "execution_count": 8,
   "metadata": {},
   "outputs": [],
   "source": [
    "TF1 *gausFit = new TF1(\"gausFit\", \"gaus\", 0, 200); // 在0-200道范围内拟合\n",
    "gausFit->SetLineColor(kRed); // 设置拟合线为红色\n",
    "\n",
    "\n",
    "\n",
    "for (int ch = 0; ch < 32; ch++) {\n",
    "    // 检查直方图是否有数据\n",
    "    if (h[ch]->Integral() < 100) {\n",
    "        cout << \"Warning: Channel \" << ch << \" has insufficient data for fitting (\" \n",
    "             << h[ch]->Integral() << \" entries)\" << endl;\n",
    "        mean[ch] = 0;\n",
    "        sigma[ch] = 0;\n",
    "        continue;\n",
    "    }\n",
    "    // 找到最高bin的位置\n",
    "    int maxBin = h[ch]->GetMaximumBin();\n",
    "    double maxBinCenter = h[ch]->GetBinCenter(maxBin);\n",
    "    \n",
    "    // 计算拟合范围上限：最高bin位置 + 80道\n",
    "    double fitEnd = maxBinCenter + 80;\n",
    "    \n",
    "    // 执行高斯拟合（在0-200道范围内）\n",
    "    h[ch]->Fit(\"gausFit\", \"QR\", \"\", 0, fitEnd); // Q: quiet, R: range\n",
    "    \n",
    "    // 获取拟合结果\n",
    "    mean[ch] = gausFit->GetParameter(1);\n",
    "    sigma[ch] = gausFit->GetParameter(2);\n",
    "    \n",
    "    // 将结果添加到图形\n",
    "    gmean->SetPoint(ch, ch, mean[ch]);\n",
    "    gsigma->SetPoint(ch, ch, sigma[ch]);\n",
    "    \n",
    "}\n"
   ]
  },
  {
   "cell_type": "code",
   "execution_count": 9,
   "metadata": {},
   "outputs": [
    {
     "data": {
      "image/png": "[encoded data removed]",
      "text/plain": [
       "<IPython.core.display.Image object>"
      ]
     },
     "metadata": {},
     "output_type": "display_data"
    }
   ],
   "source": [
    "c1->Clear();\n",
    "h[17]->Draw();\n",
    "c1->SetLogy(1);\n",
    "c1->Draw();"
   ]
  },
  {
   "cell_type": "code",
   "execution_count": 10,
   "metadata": {},
   "outputs": [
    {
     "data": {
      "image/png": "[encoded data removed]",
      "text/plain": [
       "<IPython.core.display.Image object>"
      ]
     },
     "metadata": {},
     "output_type": "display_data"
    }
   ],
   "source": [
    "c1->Clear();\n",
    "pid[2]->Draw(\"colz\");\n",
    "c1->SetLogy(0);\n",
    "c1->Draw();"
   ]
  },
  {
   "cell_type": "code",
   "execution_count": 11,
   "metadata": {},
   "outputs": [
    {
     "data": {
      "image/png": "[encoded data removed]",
      "text/plain": [
       "<IPython.core.display.Image object>"
      ]
     },
     "metadata": {},
     "output_type": "display_data"
    }
   ],
   "source": [
    "c1->Clear();\n",
    "gmean->GetXaxis()->SetLimits(0, 32);\n",
    "gmean->GetYaxis()->SetRangeUser(0 , 500.); \n",
    "gmean->SetMarkerStyle(3);\n",
    "gmean->Draw(\"ap\");\n",
    "c1->SetLogy(0);\n",
    "c1->Draw();"
   ]
  },
  {
   "cell_type": "code",
   "execution_count": 12,
   "metadata": {},
   "outputs": [
    {
     "data": {
      "image/png": "[encoded data removed]",
      "text/plain": [
       "<IPython.core.display.Image object>"
      ]
     },
     "metadata": {},
     "output_type": "display_data"
    }
   ],
   "source": [
    "c1->Clear();\n",
    "gsigma->SetMarkerStyle(3);\n",
    "gsigma->Draw(\"ap\");\n",
    "c1->SetLogy(0);\n",
    "c1->Draw();"
   ]
  },
  {
   "cell_type": "code",
   "execution_count": 13,
   "metadata": {},
   "outputs": [
    {
     "name": "stdout",
     "output_type": "stream",
     "text": [
      "101.41, 85.9582, 119.862, 99.3804, 107.025, 117.355, 105.137, 85.4533, 159.833, 73.7489, 156.371, 91.5675, 135.216, 148.397, 108.299, 139.727, 103.445, 146.796, 133.636, 117.957, 92.5906, 120.463, 126.353, 101.08, 148.785, 122.64, 142.133, 127.232, 132.973, 147.667, 128.379, 107.932, \n",
      "\n",
      "10.5095, 10.5656, 10.5704, 11.1355, 11.3446, 10.3449, 9.78257, 8.98607, 30.8217, 10.091, 10.1617, 11.654, 10.6389, 10.3475, 11.5082, 13.0955, 5.20498, 37.1388, 5.60105, 5.20249, 5.72907, 5.63799, 5.98845, 5.76847, 5.47755, 5.54717, 5.82503, 5.81556, 5.20665, 7.5991, 5.7919, 5.85126, "
     ]
    }
   ],
   "source": [
    "for(Int_t ii=0;ii<32;ii++){\n",
    "    cout<<mean[ii]<<\", \";\n",
    "}\n",
    "cout<<'\\n'<<'\\n';\n",
    "for(Int_t ii=0;ii<32;ii++){\n",
    "    cout<<sigma[ii]<<\", \";\n",
    "}"
   ]
  },
  {
   "cell_type": "code",
   "execution_count": null,
   "metadata": {},
   "outputs": [],
   "source": []
  }
 ],
 "metadata": {
  "kernelspec": {
   "display_name": "ROOT C++",
   "language": "c++",
   "name": "root"
  },
  "language_info": {
   "codemirror_mode": "text/x-c++src",
   "file_extension": ".C",
   "mimetype": " text/x-c++src",
   "name": "c++"
  },
  "toc": {
   "base_numbering": 1,
   "nav_menu": {},
   "number_sections": true,
   "sideBar": true,
   "skip_h1_title": false,
   "title_cell": "Table of Contents",
   "title_sidebar": "Contents",
   "toc_cell": false,
   "toc_position": {},
   "toc_section_display": true,
   "toc_window_display": false
  }
 },
 "nbformat": 4,
 "nbformat_minor": 2
}
