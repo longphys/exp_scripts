{
 "cells": [
  {
   "cell_type": "code",
   "execution_count": 1,
   "metadata": {
    "scrolled": true
   },
   "outputs": [
    {
     "name": "stdout",
     "output_type": "stream",
     "text": [
      "\u001b[?1034h"
     ]
    }
   ],
   "source": [
    "//%jsroot on"
   ]
  },
  {
   "cell_type": "code",
   "execution_count": 2,
   "metadata": {},
   "outputs": [],
   "source": [
    "#define _15C 28\n",
    "#define NUM 100\n",
    "#define _N 6"
   ]
  },
  {
   "cell_type": "code",
   "execution_count": 3,
   "metadata": {},
   "outputs": [],
   "source": [
    "/******************/\n",
    "Int_t stripnum=1;\n",
    "/******************/"
   ]
  },
  {
   "cell_type": "code",
   "execution_count": 4,
   "metadata": {},
   "outputs": [],
   "source": [
    "int start = 16;\n",
    "int stop = 24;\n",
    "TChain *fch;\n",
    "fch = new TChain(\"tree\", \"tree\");\n",
    "for (int i= start; i<=stop; i++){\n",
    "  TString fileName = TString::Format(\"/home/long/data/25e04/10Be/hit/run%02d_hit.root\" , i);\n",
    "  fch->AddFile(fileName.Data());\n",
    "}\n",
    "fch->Print();"
   ]
  },
  {
   "cell_type": "code",
   "execution_count": 5,
   "metadata": {},
   "outputs": [],
   "source": [
    "TCanvas *c1=new TCanvas(\"c1\",\"c1\");"
   ]
  },
  {
   "cell_type": "code",
   "execution_count": 6,
   "metadata": {},
   "outputs": [],
   "source": [
    "Double_t xxs,ad3_thick[16];\n",
    "\n",
    "// char str_thick[100]=\"/home/zhuhy/JNBook/Experiment2022/taf/csicali/txt/taf_ad0_thickreal.txt\";\n",
    "// ifstream in_thick(str_thick);\n",
    "//   if(in_thick.is_open()){\n",
    "// //    getline(in,ss);\n",
    "//     Int_t i=0; \n",
    "//     while(i<16)\n",
    "//     {\n",
    "//       in_thick>>xxs>>ad3_thick[i];\n",
    "//       i++;\n",
    "//     }\n",
    "//   }\n",
    "// in_thick.close();\n",
    "\n",
    "// for(Int_t ii=0;ii<16;ii++)ad3_thick[ii]=ad3_thick[ii]*141.5/150.;\n",
    "\n",
    "Double_t silicon_thickness = 300.; // Microns"
   ]
  },
  {
   "cell_type": "code",
   "execution_count": 7,
   "metadata": {},
   "outputs": [],
   "source": [
    "  string ss;\n",
    "  Double_t aa, bbb, e, dedx;\n",
    "  i=0;\n",
    "  Double_t E0=0.,Etem=0.,Esmall=0.,E2=0.,E=0.,dE=0.,x=0.,dx=0.25;\n",
    "//E0为能量总值，E为能量实时记录值，E1为穿透第一块硅时的能量，E2为穿透第二块时的能量\n",
    "  Double_t sep[16][_N][NUM];"
   ]
  },
  {
   "cell_type": "code",
   "execution_count": 8,
   "metadata": {},
   "outputs": [
    {
     "name": "stdout",
     "output_type": "stream",
     "text": [
      "num_ad3=14\n",
      "0:100\n",
      "30:100\n",
      "60:100\n",
      "90:100\n",
      "******************j=14*****************\n"
     ]
    }
   ],
   "source": [
    "TString  str_1H[4];\n",
    "str_1H[0]=TString::Format(\"/home/zhuhy/JNBook/15C_Etheta/TAT0_datacheck/PID/txt/4He-Si.txt\");\n",
    "str_1H[1]=TString::Format(\"/home/zhuhy/JNBook/15C_Etheta/TAT0_datacheck/PID/txt/4He-Al.txt\");\n",
    "str_1H[2]=TString::Format(\"/home/zhuhy/JNBook/15C_Etheta/TAT0_datacheck/PID/txt/4He-CsI.txt\");\n",
    "str_1H[3]=TString::Format(\"/home/zhuhy/JNBook/15C_Etheta/TAT0_datacheck/PID/txt/4He-Mylar.txt\");\n",
    "\n",
    "TGraph *g_1H[4];\n",
    "\n",
    "  ifstream in_1H(str_1H[0].Data());\n",
    "\n",
    "  g_1H[0]=new TGraph;//定义新的二维散点图(TGraph) g1\n",
    "  if(in_1H.is_open()){//检查文件是否存在\n",
    "//    getline(in,ss);\n",
    "    Int_t i=0; \n",
    "    while(!in_1H.eof())\n",
    "    {\n",
    "      in_1H>>aa>>bbb>>e>>dedx>>aa>>bbb>>aa>>bbb>>aa>>bbb>>aa>>bbb;\n",
    "      // 对照数据文件进行理解。一列一列地读入，提取第3、4列数据。\n",
    "      g_1H[0]->SetPoint(i++, e*4,dedx);//添加数据点到图中，能量单位为MeV/u，对C需乘以12.    \n",
    "    }\n",
    "  }\n",
    "  in_1H.close();\n",
    "\n",
    "  ifstream in1_1H(str_1H[1].Data());\n",
    "  g_1H[1]=new TGraph;\n",
    "  if(in1_1H.is_open()){\n",
    "//    getline(in1,ss);\n",
    "    i=0;\n",
    "    while(!in1_1H.eof())\n",
    "    {\n",
    "      in1_1H>>aa>>bbb>>e>>dedx>>aa>>bbb>>aa>>bbb>>aa>>bbb>>aa>>bbb;\n",
    "      g_1H[1]->SetPoint(i++, e*4,dedx);\n",
    "    }\n",
    "  }\n",
    "  in1_1H.close();\n",
    "\n",
    "\n",
    "  ifstream in2_1H(str_1H[2]);\n",
    "  g_1H[2]=new TGraph;\n",
    "  if(in2_1H.is_open()){\n",
    "//    getline(in1,ss);\n",
    "    i=0;\n",
    "    while(!in2_1H.eof())\n",
    "    {\n",
    "      in2_1H>>aa>>bbb>>e>>dedx>>aa>>bbb>>aa>>bbb>>aa>>bbb>>aa>>bbb;\n",
    "      g_1H[2]->SetPoint(i++, e*4,dedx);\n",
    "    }\n",
    "  }\n",
    "  in2_1H.close();\n",
    "\n",
    "  ifstream in3_1H(str_1H[3]);\n",
    "  g_1H[3]=new TGraph;\n",
    "  if(in3_1H.is_open()){\n",
    "//    getline(in1,ss);\n",
    "    i=0;\n",
    "    while(!in3_1H.eof())\n",
    "    {\n",
    "      in3_1H>>aa>>bbb>>e>>dedx>>aa>>bbb>>aa>>bbb>>aa>>bbb>>aa>>bbb;\n",
    "      g_1H[3]->SetPoint(i++, e*4,dedx);\n",
    "    }\n",
    "  }\n",
    "  in3_1H.close();\n",
    "\n",
    " Double_t d[_N-1];\n",
    " //d[0]=ad3_thick[stripnum];\n",
    " //d[1]=1;\n",
    " //d[2]=ad3_thick[stripnum];\n",
    " Int_t k; //kind  0:Si 1:Al 2:Mylar\n",
    " Int_t num_ad3=0;\n",
    "Int_t ui;\n",
    "\n",
    "for(num_ad3=stripnum;num_ad3<stripnum+1;num_ad3++){\n",
    "     \n",
    "cout<<\"num_ad3=\"<<num_ad3<<'\\n';\n",
    "//cout<<ad3_thick[num_ad3]<<\" : \"<<ad4_thick[num_ad4]<<'\\n';\n",
    "     \n",
    " d[0]=0.5*ad3_thick[num_ad3]/150.;\n",
    " d[1]=ad3_thick[num_ad3];\n",
    " d[2]=0.8*ad3_thick[num_ad3]/150.;\n",
    " d[3]=2*ad3_thick[num_ad3]/150.;\n",
    " d[4]=80000;\n",
    " for(i=1;i<(_N-1);i++)d[i]=d[i]+d[i-1];\n",
    " for(i=-1;i<NUM;x=0)   //开始NUM次模拟\n",
    "  {\n",
    "  if(i%30==0)cout<<i<<\":\"<<NUM<<'\\n';\n",
    "  i++;\n",
    "  if(i>=NUM)break;\n",
    "  x=0;\n",
    "  //Esmall=rand()%1000;  //初始能量小数部分\n",
    "  if(i<NUM/2)E0=E=i*40./(Double_t)(NUM);\n",
    "  else E0=E=20.+(i-(Double_t)(NUM)/2)*300./(Double_t)(NUM);\n",
    "  //+Esmall/1000;  \n",
    "  //E0=E=+Esmall/1000;  //能量随机值为300+3位小数\n",
    "  for(Int_t j=0;j<_N;j++)sep[num_ad3][j][i]=0;\n",
    "  sep[num_ad3][_N-1][i]=E0;\n",
    "  Etem=E0;\n",
    "  Int_t k=1;\n",
    "//cout<<\" Y1\"<<'\\n';\n",
    "     ui=0;\n",
    "     x=0.;\n",
    "  while(1)\n",
    "    {\n",
    "      \n",
    " //     if(ui%500==0)cout<<x<<\"  \";\n",
    "     if((fabs(x-d[0])<=(dx/40.)||(x>=0&&x<d[0]))&&E<=0){sep[num_ad3][0][i]=Etem;Etem=0;break;}\n",
    "     else if(fabs(x-d[0])<=(dx/40.)&&E>0){if(k!=0){sep[num_ad3][0][i]=E0-E;Etem=E;}k=0;}\n",
    "\n",
    "     else if((fabs(x-d[1])<=(dx/2.)||(x>d[0]&&x<d[1]))&&E<=0){sep[num_ad3][1][i]=Etem;Etem=0;break;}\n",
    "     else if(fabs(x-d[1])<=(dx/2.)&&E>0){if(k!=1){sep[num_ad3][1][i]=Etem-E;Etem=E;}k=1;}\n",
    "\n",
    "     else if((fabs(x-d[2])<=(dx/2.)||(x>d[1]&&x<d[2]))&&E<=0){sep[num_ad3][2][i]=Etem;Etem=0;break;}\n",
    "     else if(fabs(x-d[2])<=(dx/2.)&&E>0){if(k!=3){sep[num_ad3][2][i]=Etem-E;Etem=E;}k=3;}\n",
    "      \n",
    "     else if((fabs(x-d[3])<=(dx/2.)||(x>d[2]&&x<d[3]))&&E<=0){sep[num_ad3][3][i]=Etem;Etem=0;break;}\n",
    "     else if(fabs(x-d[3])<=(dx/2.)&&E>0){if(k!=2){sep[num_ad3][3][i]=Etem-E;Etem=E;}k=2;}\n",
    "\n",
    "     else if(((fabs(x-d[4])>(dx/40.)&&x>d[4])&&E<=0)){sep[num_ad3][4][i]=Etem;Etem=0;break;}\n",
    "     else if(((fabs(x-d[4])>(dx/40.)&&x>d[4])&&E>0)){sep[num_ad3][4][i]=Etem-E;Etem=0;break;}\n",
    "     else if(fabs(x-d[4])<=(dx/40.)&&E>0){if(k!=0){sep[num_ad3][4][i]=Etem-E;Etem=E;}k=0;}\n",
    "     \n",
    "     dE=g_1H[k]->Eval(E);\n",
    "     if(k==0&&k==2){\n",
    "     E=E-dE*dx;\n",
    "     x=x+dx;\n",
    "     }\n",
    "     else {\n",
    "     E=E-dE*dx/20.;\n",
    "     x=x+dx/20.;\n",
    "     }\n",
    "     ui++;\n",
    "    }\n",
    "//     cout<<\"Num=\"<<i<<'\\t'<<\"E=\"<<E<<'\\t'<<\"dE_Si=\"<<sep[num_ad3][1][i]<<'\\t'<<\"dE_Mylar=\"<<sep[num_ad3][3][i]<<'\\t'<<\"dE_CsI=\"<<sep[num_ad3][4][i]<<'\\n';\n",
    "  } \n",
    "  \n",
    "}\n",
    "\n",
    "//cout<<\"*************************************************************************************************************\"<<'\\n';\n",
    "\n",
    "  TGraph *calpid13_p[16];\n",
    "  for(Int_t i=0;i<16;i++){\n",
    "        calpid13_p[i]=new TGraph();\n",
    "        //pid31_2[i][j]=new TGraph();\n",
    "        //cout<<\"i=\"<<i<<\" j=\"<<j<<'\\n';\n",
    "  }\n",
    "\n",
    "Int_t keypid=1;\n",
    "Int_t ip=0,i03=0,i23=0,i43=0;\n",
    "  for(Int_t j0=stripnum;j0<stripnum+1;j0++){\n",
    "      cout<<\"******************j=\"<<j0<<\"*****************\"<<'\\n';\n",
    "          for(Int_t i0=0;i0<NUM;){\n",
    "            if(keypid==1&&sep[j0][4][i0]>0)calpid13_p[0]->SetPoint(ip++, sep[j0][1][i0],sep[j0][4][i0]);        \n",
    "            i0++;\n",
    "      }\n",
    "      ip=0;\n",
    "      i03=0;\n",
    "      i23=0;\n",
    "      i43=0;\n",
    "      keypid=0;\n",
    "  }\n"
   ]
  },
  {
   "cell_type": "code",
   "execution_count": 9,
   "metadata": {},
   "outputs": [
    {
     "data": {
      "image/png": "[encoded data removed]",
      "text/plain": [
       "<IPython.core.display.Image object>"
      ]
     },
     "metadata": {},
     "output_type": "display_data"
    }
   ],
   "source": [
    "c1->Clear();\n",
    "calpid13_p[0]->SetMarkerStyle(3);\n",
    "calpid13_p[0]->Draw(\"ap\");\n",
    "c1->Draw();"
   ]
  },
  {
   "cell_type": "code",
   "execution_count": 10,
   "metadata": {},
   "outputs": [],
   "source": [
    "gROOT->Macro(\"/home/zhuhy/JNBook/Experiment2022/taf/PIDpeakfind/cuttemp/all4He.c\");\n",
    "TCutG *taf_ad2_ac2B_4He_03 = (TCutG *)gROOT->GetListOfSpecials()->FindObject(\"taf_ad2_ac2B_4He_03\");\n",
    "TCutG *taf_ad2_ac2B_4He_415 = (TCutG *)gROOT->GetListOfSpecials()->FindObject(\"taf_ad2_ac2B_4He_415\");"
   ]
  },
  {
   "cell_type": "code",
   "execution_count": 11,
   "metadata": {},
   "outputs": [
    {
     "data": {
      "image/png": "[encoded data removed]",
      "text/plain": [
       "<IPython.core.display.Image object>"
      ]
     },
     "metadata": {},
     "output_type": "display_data"
    }
   ],
   "source": [
    "c1->Clear();\n",
    "\n",
    "TString name0=TString::Format(\"taf_ad2_xce[0]:taf_ac2_e[1]:taf_ad2_xce[0]\");\n",
    "TString drawname0=name0+\">>(100,0,35000,100,0,15)\";\n",
    "//TString Ef=TString::Format(\"(TMath::Sqrt(ta.ad3.xne[0]*ta.ad4.xne[0]+%f*ta.ad3.xne[0]*ta.ad3.xne[0])+%f*ta.ad4.xne[0])\",a[stripnum],b[stripnum]);\n",
    "TString cutname_4He=TString::Format(\"taf_ac2_e[1]>0&&taf_ac2_e[1]!=65535&&taf_ad2_xs[0]==%d&&taf_ad2_xce[0]!=65535&&taf_ad2_xce[0]>0&&(taf_ad2_ac2B_4He_03||taf_ad2_ac2B_4He_415)\",stripnum);\n",
    "\n",
    "Int_t num1=fch->Draw(drawname0.Data(),cutname_4He.Data());\n",
    "c1->Draw();\n",
    "   if(num1==0) return;\n",
    "   TGraph2D *e1=new TGraph2D(num1,fch->GetV3(),fch->GetV2(),fch->GetV1());\n",
    "   Int_t npoints1=e1->GetN();\n",
    "\n"
   ]
  },
  {
   "cell_type": "code",
   "execution_count": 12,
   "metadata": {},
   "outputs": [],
   "source": [
    "   TGraph *tempresult[3][10];\n",
    "   for(Int_t I=0;I<3;I++){ for(Int_t J=0;J<10;J++)tempresult[I][J]= new TGraph;}\n",
    "   TGraph *evalcheck=new TGraph();\n",
    "   TGraph *result[3];\n",
    "   for(Int_t I=0;I<3;I++) result[I]= new TGraph();\n",
    "   TGraph *indeedpid[3];\n",
    "   for(Int_t I=0;I<3;I++) indeedpid[I]= new TGraph();\n",
    "   Double_t kk[3][10],bb[3][10];\n",
    "   Double_t *gex=e1->GetY();\n",
    "   Double_t *gey=e1->GetZ();"
   ]
  },
  {
   "cell_type": "code",
   "execution_count": 13,
   "metadata": {},
   "outputs": [],
   "source": [
    "   Int_t J=0;\n"
   ]
  },
  {
   "cell_type": "code",
   "execution_count": 14,
   "metadata": {},
   "outputs": [
    {
     "data": {
      "image/png": "[encoded data removed]",
      "text/plain": [
       "<IPython.core.display.Image object>"
      ]
     },
     "metadata": {},
     "output_type": "display_data"
    },
    {
     "name": "stdout",
     "output_type": "stream",
     "text": [
      "N=76\n",
      "i=76 kp=153.496 bp=-61.9275\n"
     ]
    },
    {
     "name": "stderr",
     "output_type": "stream",
     "text": [
      "Info in ROOT::Math::ParameterSettings>: lower/upper bounds outside current parameter value. The value will be set to (low+up)/2 \n"
     ]
    }
   ],
   "source": [
    "   J=0;\n",
    "   for(Int_t i=0;i<npoints1;i++){\n",
    "     //if(ey[I]>20&&ex[I]>=800&&ex[I]<2000){tempresult[1]->SetPoint(J,ex[I],pid->Eval(ey[I]));J++;}\n",
    "       if(gey[i]>0.3&&gex[i]>=500&&gex[i]<30000){tempresult[0][1]->SetPoint(J,calpid13_p[0]->Eval(gey[i]),gex[i]);J++;}\n",
    "       //tempresult[1]->SetPoint(J,pid->Eval(gey[i]),gex[i]);J++;\n",
    "   }\n",
    "\n",
    "   tempresult[0][1]->Draw(\"ap\");\n",
    "   c1->Draw();\n",
    "   TF1 *f3 = new TF1(\"f3\",\"[1]*x+[0]\",1,100);\n",
    "   f3->SetParameter(0,200);\n",
    "   f3->SetParameter(1,0);\n",
    "   f3->SetParLimits(1,50,500);\n",
    "   TFitResultPtr r1 =tempresult[0][1]->Fit(\"f3\",\"QS+rob=0.9\");\n",
    "   kk[0][1]=r1->Value(1);\n",
    "   bb[0][1]=r1->Value(0);\n",
    "   cout<<\"N=\"<<npoints1<<'\\n';\n",
    "   cout<<\"i=\"<<J<<\" kp=\"<<kk[0][1]<<\" bp=\"<<bb[0][1]<<'\\n'; "
   ]
  },
  {
   "cell_type": "code",
   "execution_count": 15,
   "metadata": {},
   "outputs": [
    {
     "data": {
      "image/png": "[encoded data removed]",
      "text/plain": [
       "<IPython.core.display.Image object>"
      ]
     },
     "metadata": {},
     "output_type": "display_data"
    },
    {
     "name": "stdout",
     "output_type": "stream",
     "text": [
      "2 J= 20 kp=149.727 bp=108.289\n",
      "3 J= 23 kp=147.209 bp=256.415\n",
      "4 J= 24 kp=145.221 bp=398.375\n",
      "5 J= 26 kp=144.869 bp=444.864\n",
      "6 J= 26 kp=144.869 bp=444.864\n",
      "7 J= 26 kp=144.869 bp=444.865\n",
      "8 J= 26 kp=144.869 bp=444.865\n",
      "9 J= 26 kp=144.869 bp=444.865\n"
     ]
    }
   ],
   "source": [
    "   Int_t ni[3];\n",
    "   for(ni[0]=2;ni[0]<10;ni[0]++){\n",
    "     J=0;\n",
    "     for(Int_t i=0;i<npoints1;i++){\n",
    "       if((abs((gex[i]-(calpid13_p[0]->Eval(gey[i])*kk[0][ni[0]-1]+bb[0][ni[0]-1])))<500)){\n",
    "         //if((TMath::Abs((pid->Eval(gey[i])-(gex[i]*k[ni-1]+b[ni-1])))<10)){\n",
    "       if(gey[i]>0.3&&gex[i]>=500&&gex[i]<30000){tempresult[0][ni[0]]->SetPoint(J,calpid13_p[0]->Eval(gey[i]),gex[i]);J++;}  \n",
    "       }\n",
    "     }\n",
    "    TFitResultPtr r4 =tempresult[0][ni[0]]->Fit(\"f3\",\"QS+rob=0.9\");\n",
    "     kk[0][ni[0]]=r4->Value(1);\n",
    "     bb[0][ni[0]]=r4->Value(0);\n",
    "     cout<<ni[0]<<\" J= \"<<J<<\" kp=\"<<kk[0][ni[0]]<<\" bp=\"<<bb[0][ni[0]]<<'\\n';\n",
    "     if(kk[0][ni[0]]==kk[0][ni[0]-1])break;\n",
    "   }\n",
    "   if(ni[0]==10)ni[0]=9;\n",
    "   tempresult[0][ni[0]]->Draw(\"ap\");\n",
    "   c1->Draw();"
   ]
  },
  {
   "cell_type": "code",
   "execution_count": 16,
   "metadata": {},
   "outputs": [],
   "source": [
    "Double_t a0[3],a1[3],a2[3];"
   ]
  },
  {
   "cell_type": "code",
   "execution_count": 17,
   "metadata": {},
   "outputs": [
    {
     "name": "stdout",
     "output_type": "stream",
     "text": [
      "a0= 139.809 a1= 0.01 a2=285.701"
     ]
    },
    {
     "name": "stderr",
     "output_type": "stream",
     "text": [
      "Info in ROOT::Math::ParameterSettings>: lower/upper bounds outside current parameter value. The value will be set to (low+up)/2 \n"
     ]
    }
   ],
   "source": [
    "   J=0;\n",
    "   for(Int_t i=0;i<npoints1;i++){\n",
    "       if((abs((gex[i]-(calpid13_p[0]->Eval(gey[i])*kk[0][ni[0]]+bb[0][ni[0]])))<1200)){\n",
    "       if(gey[i]>0.3&&gex[i]>=500&&(gex[i]<=3000||(gex[i]>3000&&gex[i]<=6000&&i%10<=2)||(gex[i]>6000&&gex[i]<35000&&i%10<=1))){\n",
    "               tempresult[0][0]->SetPoint(J,calpid13_p[0]->Eval(gey[i]),gex[i]);\n",
    "               J++;              \n",
    "       }\n",
    "       }\n",
    "   }\n",
    "   TF1 *f1 = new TF1(\"f1\",\"[0]*x-[0]*[1]*TMath::Log(1+x/[1])+[2]\",1,150);\n",
    "   f1->SetParameter(0,kk[0][ni[0]]);\n",
    "   f1->SetParLimits(1,0.01,10);\n",
    "   f1->SetParameter(2,bb[0][ni[0]]);\n",
    "   tempresult[0][0]->Fit(\"f1\",\"QR+rob0.9\");\n",
    "\n",
    "   TF1 *fitp = tempresult[0][0]->GetFunction(\"f1\");\n",
    "   a0[0] = fitp->GetParameter(0);\n",
    "   a1[0] = fitp->GetParameter(1);\n",
    "   a2[0] = fitp->GetParameter(2);\n",
    "   cout<<\"a0= \"<<a0[0]<<\" a1= \"<<a1[0]<<\" a2=\"<<a2[0];"
   ]
  },
  {
   "cell_type": "code",
   "execution_count": 18,
   "metadata": {
    "code_folding": []
   },
   "outputs": [
    {
     "data": {
      "image/png": "[encoded data removed]",
      "text/plain": [
       "<IPython.core.display.Image object>"
      ]
     },
     "metadata": {},
     "output_type": "display_data"
    }
   ],
   "source": [
    "   J=0;\n",
    "   for(Int_t i=0;i<npoints1;i++){\n",
    "       if((abs((gex[i]-(calpid13_p[0]->Eval(gey[i])*kk[0][ni[0]]+bb[0][ni[0]])))<1200)){\n",
    "         //if((TMath::Abs((pid->Eval(gey[i])-(gex[i]*k[ni-1]+b[ni-1])))<10)){\n",
    "       if(gey[i]>0.3&&gex[i]>=500&&gex[i]<30000){result[0]->SetPoint(J,calpid13_p[0]->Eval(gey[i]),gex[i]);J++;}\n",
    "       }\n",
    "   }\n",
    "   J=0;\n",
    "   for(Double_t E=1.;E<150;E=E+0.01){\n",
    "       indeedpid[0]->SetPoint(J++,E,a0[0]*E-a0[0]*a1[0]*TMath::Log(1+E/a1[0])+a2[0]);\n",
    "   }\n",
    "    result[0]->Draw(\"ap\");\n",
    "    indeedpid[0]->SetMarkerColor(2);\n",
    "    indeedpid[0]->Draw(\"samep\");\n",
    "    c1->Draw();\n"
   ]
  },
  {
   "cell_type": "code",
   "execution_count": 19,
   "metadata": {},
   "outputs": [
    {
     "data": {
      "image/png": "[encoded data removed]",
      "text/plain": [
       "<IPython.core.display.Image object>"
      ]
     },
     "metadata": {},
     "output_type": "display_data"
    }
   ],
   "source": [
    "   J=0;\n",
    "   for(Int_t i=0;i<npoints1;i++){\n",
    "       if((abs((gex[i]-(calpid13_p[0]->Eval(gey[i])*kk[0][ni[0]]+bb[0][ni[0]])))<1200)){\n",
    "         //if((TMath::Abs((pid->Eval(gey[i])-(gex[i]*k[ni-1]+b[ni-1])))<10)){\n",
    "       if(gey[i]>0.3&&gex[i]>=500&&gex[i]<4000){result[1]->SetPoint(J,calpid13_p[0]->Eval(gey[i]),gex[i]);J++;}\n",
    "       }\n",
    "   }\n",
    "   J=0;\n",
    "   for(Double_t E=1.;E<30;E=E+0.01){\n",
    "       indeedpid[1]->SetPoint(J++,E,a0[0]*E-a0[0]*a1[0]*TMath::Log(1+E/a1[0])+a2[0]);\n",
    "   }\n",
    "    result[1]->Draw(\"ap\");\n",
    "    indeedpid[1]->SetMarkerColor(2);\n",
    "    indeedpid[1]->Draw(\"samep\");\n",
    "    c1->Draw();\n"
   ]
  },
  {
   "cell_type": "code",
   "execution_count": 20,
   "metadata": {},
   "outputs": [
    {
     "data": {
      "image/png": "[encoded data removed]",
      "text/plain": [
       "<IPython.core.display.Image object>"
      ]
     },
     "metadata": {},
     "output_type": "display_data"
    }
   ],
   "source": [
    "   J=0;\n",
    "   for(Int_t i=0;i<npoints1;i++){\n",
    "       if((abs((gex[i]-(calpid13_p[0]->Eval(gey[i])*kk[0][ni[0]]+bb[0][ni[0]])))<1200)){\n",
    "         //if((TMath::Abs((pid->Eval(gey[i])-(gex[i]*k[ni-1]+b[ni-1])))<10)){\n",
    "       if(gey[i]>0.3&&gex[i]>=500&&gex[i]<10000){result[2]->SetPoint(J,calpid13_p[0]->Eval(gey[i]),gex[i]-a0[0]*calpid13_p[0]->Eval(gey[i])-a2[0]);J++;}\n",
    "       }\n",
    "   }\n",
    "   J=0;\n",
    "   for(Double_t E=1.;E<60;E=E+0.01){\n",
    "       indeedpid[2]->SetPoint(J++,E,-a0[0]*a1[0]*TMath::Log(1+E/a1[0]));\n",
    "   }\n",
    "    result[2]->Draw(\"ap\");\n",
    "    indeedpid[2]->SetMarkerColor(2);\n",
    "    indeedpid[2]->Draw(\"samep\");\n",
    "    c1->Draw();"
   ]
  },
  {
   "cell_type": "code",
   "execution_count": 21,
   "metadata": {},
   "outputs": [
    {
     "name": "stdout",
     "output_type": "stream",
     "text": [
      "139.809\t0.01\t285.701\n"
     ]
    }
   ],
   "source": [
    "for(Int_t ii=0;ii<1;ii++){\n",
    "    cout<<a0[ii]<<'\\t'<<a1[ii]<<'\\t'<<a2[ii]<<'\\n';\n",
    "}"
   ]
  },
  {
   "cell_type": "code",
   "execution_count": null,
   "metadata": {},
   "outputs": [],
   "source": []
  },
  {
   "cell_type": "markdown",
   "metadata": {},
   "source": [
    "##### "
   ]
  },
  {
   "cell_type": "code",
   "execution_count": null,
   "metadata": {},
   "outputs": [],
   "source": []
  },
  {
   "cell_type": "code",
   "execution_count": null,
   "metadata": {},
   "outputs": [],
   "source": []
  }
 ],
 "metadata": {
  "kernelspec": {
   "display_name": "ROOT C++",
   "language": "c++",
   "name": "root"
  },
  "language_info": {
   "codemirror_mode": "text/x-c++src",
   "file_extension": ".C",
   "mimetype": " text/x-c++src",
   "name": "c++"
  },
  "toc": {
   "base_numbering": 1,
   "nav_menu": {},
   "number_sections": true,
   "sideBar": true,
   "skip_h1_title": false,
   "title_cell": "Table of Contents",
   "title_sidebar": "Contents",
   "toc_cell": false,
   "toc_position": {},
   "toc_section_display": true,
   "toc_window_display": false
  }
 },
 "nbformat": 4,
 "nbformat_minor": 4
}
