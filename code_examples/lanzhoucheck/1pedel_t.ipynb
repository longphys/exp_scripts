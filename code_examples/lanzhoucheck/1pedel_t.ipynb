{
 "cells": [
  {
   "cell_type": "code",
   "execution_count": 1,
   "metadata": {},
   "outputs": [
    {
     "name": "stdout",
     "output_type": "stream",
     "text": [
      "\u001b[?1034h"
     ]
    }
   ],
   "source": [
    "//%jsroot on"
   ]
  },
  {
   "cell_type": "code",
   "execution_count": 2,
   "metadata": {},
   "outputs": [],
   "source": [
    "int start = 0;\n",
    "int stop = start;\n",
    "TChain *fch;\n",
    "fch = new TChain(\"RawData\", \"tele\");\n",
    "for (int i= start; i<=stop; i++){\n",
    "  TString fileName = TString::Format(\"/data/d1/zhuhy/lanzhou2022/jws202/expdata/tele%04d.root\" , i);\n",
    "  //TString fileName = TString::Format(\"/data/d1/zhuhy/telefile/tele%04d.root\" , i);\n",
    "  fch->AddFile(fileName.Data());}\n",
    "\n",
    "TCanvas *c1=new TCanvas;\n",
    "// 创建6×6网格画布\n",
    "TCanvas *c_all = new TCanvas(\"c_all\", \"All Channel Thresholds\", 900, 600);\n",
    "c_all->Divide(6, 6); // 6列×6行"
   ]
  },
  {
   "cell_type": "code",
   "execution_count": 3,
   "metadata": {},
   "outputs": [],
   "source": [
    " //TModV830AC      *Mod104_TModV830AC;\n",
    "   UInt_t          fGeo1;\n",
    "   UInt_t          fCrateNum1;\n",
    "   UInt_t          MaxChannel1;\n",
    "   UInt_t          chdata1[32];\n",
    " //TModV785        *Mod107_TModV785;\n",
    "   UInt_t          fGeo2;\n",
    "   UInt_t          fCrateNum2;\n",
    "   UInt_t          MaxChannel2;\n",
    "   UShort_t        chdata2[32];\n",
    " //TModV785        *Mod111_TModV785;\n",
    "   UInt_t          fGeo3;\n",
    "   UInt_t          fCrateNum3;\n",
    "   UInt_t          MaxChannel3;\n",
    "   UShort_t        chdata3[32];\n",
    "\n",
    "   // List of branches\n",
    "   TBranch        *b_Mod104_TModV830AC_TBoard_fGeo;   //!\n",
    "   TBranch        *b_Mod104_TModV830AC_TBoard_fCrateNum;   //!\n",
    "   TBranch        *b_Mod104_TModV830AC_TBoard_MaxChannel;   //!\n",
    "   TBranch        *b_Mod104_TModV830AC_chdata;   //!\n",
    "   TBranch        *b_Mod107_TModV785_TBoard_fGeo;   //!\n",
    "   TBranch        *b_Mod107_TModV785_TBoard_fCrateNum;   //!\n",
    "   TBranch        *b_Mod107_TModV785_TBoard_MaxChannel;   //!\n",
    "   TBranch        *b_Mod107_TModV785_chdata;   //!\n",
    "   TBranch        *b_Mod111_TModV785_TBoard_fGeo;   //!\n",
    "   TBranch        *b_Mod111_TModV785_TBoard_fCrateNum;   //!\n",
    "   TBranch        *b_Mod111_TModV785_TBoard_MaxChannel;   //!\n",
    "   TBranch        *b_Mod111_TModV785_chdata;   //!\n",
    "\n",
    "\n",
    "//fch->GetListOfBranches()->Print();\n",
    "//   fch->SetMakeClass(1);\n",
    "/*\n",
    "   TBranch        *b_fGeo2;   //!\n",
    "   TBranch        *b_chdata2;   //!\n",
    "\n",
    "    fch->SetBranchAddress(\"Mod107_TModV785.fGeo\", &fGeo2,&b_fGeo2);\n",
    "    fch->SetBranchAddress(\"Mod107_TModV785.chdata[32]\", chdata2,&b_chdata2);\n",
    "*/\n",
    "   fch->SetMakeClass(1);\n",
    "\n",
    "   fch->SetBranchAddress(\"Mod104_TModV830AC.TBoard.fGeo\", &fGeo1, &b_Mod104_TModV830AC_TBoard_fGeo);\n",
    "   fch->SetBranchAddress(\"Mod104_TModV830AC.TBoard.fCrateNum\", &fCrateNum1, &b_Mod104_TModV830AC_TBoard_fCrateNum);\n",
    "   fch->SetBranchAddress(\"Mod104_TModV830AC.TBoard.MaxChannel\", &MaxChannel1, &b_Mod104_TModV830AC_TBoard_MaxChannel);\n",
    "   fch->SetBranchAddress(\"Mod104_TModV830AC.chdata[32]\", chdata1, &b_Mod104_TModV830AC_chdata);\n",
    "   fch->SetBranchAddress(\"Mod107_TModV785.TBoard.fGeo\", &fGeo2, &b_Mod107_TModV785_TBoard_fGeo);\n",
    "   fch->SetBranchAddress(\"Mod107_TModV785.TBoard.fCrateNum\", &fCrateNum2, &b_Mod107_TModV785_TBoard_fCrateNum);\n",
    "   fch->SetBranchAddress(\"Mod107_TModV785.TBoard.MaxChannel\", &MaxChannel2, &b_Mod107_TModV785_TBoard_MaxChannel);\n",
    "   fch->SetBranchAddress(\"Mod107_TModV785.chdata[32]\", chdata2, &b_Mod107_TModV785_chdata);\n",
    "   fch->SetBranchAddress(\"Mod111_TModV785.TBoard.fGeo\", &fGeo3, &b_Mod111_TModV785_TBoard_fGeo);\n",
    "   fch->SetBranchAddress(\"Mod111_TModV785.TBoard.fCrateNum\", &fCrateNum3, &b_Mod111_TModV785_TBoard_fCrateNum);\n",
    "   fch->SetBranchAddress(\"Mod111_TModV785.TBoard.MaxChannel\", &MaxChannel3, &b_Mod111_TModV785_TBoard_MaxChannel);\n",
    "   fch->SetBranchAddress(\"Mod111_TModV785.chdata[32]\", chdata3, &b_Mod111_TModV785_chdata);\n"
   ]
  },
  {
   "cell_type": "code",
   "execution_count": 4,
   "metadata": {},
   "outputs": [],
   "source": [
    "TH1F *h[32],*hc[32];\n",
    "TH2F *pid[32];\n",
    "for (int i = 0; i < 32; i++) {\n",
    "    TString histName = TString::Format(\"h%d\", i);\n",
    "    TString histTitle = TString::Format(\"Channel %d Threshold Distribution\", i);\n",
    "    h[i] = new TH1F(histName, histTitle, 200, 0, 4000); // 10000 bins from 0-10000\n",
    "    TString histName2 = TString::Format(\"hc%d\", i);\n",
    "    TString histTitle2 = TString::Format(\"MeV %d\", i);\n",
    "    hc[i] = new TH1F(histName2, histTitle2, 200, 0, 10); // 10000 bins from 0-10000\n",
    "    TString histName3 = TString::Format(\"pid%d\", i);\n",
    "    TString histTitle3 = TString::Format(\"PID %d\", i);\n",
    "    pid[i] = new TH2F(histName3, histTitle3, 200, 0, 400,200,0,1); // 10000 bins from 0-10000\n",
    "}"
   ]
  },
  {
   "cell_type": "code",
   "execution_count": 5,
   "metadata": {},
   "outputs": [],
   "source": [
    "Double_t k_l[16][2] = {\n",
    "\t\t1.50159,-56.5635,//0\n",
    "\t\t1.54455,-75.1189,//1\n",
    "\t\t1.54236,-81.0749,//2\n",
    "\t\t1.51789,-111.65,//3\n",
    "\t\t1.51342,-111.598,//4\n",
    "\t\t1.52696,-71.2166,//5\n",
    "\t\t1.52952,-82.6223,//6\n",
    "\t\t1.55484,-57.8609,//7\n",
    "\n",
    "\t\t1.52956,-135.54,//8\n",
    "\t\t1.54115,-73.8693,//9\n",
    "\t\t1.49743,-126.802,//10\n",
    "\t\t1.52058,-78.0742,//11\n",
    "\t\t1.54874,-110.198,//12\n",
    "\t\t1.57052,-86.3039,//13\n",
    "\t\t1.53963,-92.6229,//14\n",
    "\t\t1.51213,-158.192,//15\n",
    "\t};\n",
    "Double_t themean[32]={75.9433, 87.3589, 91.8804, 111.089, 116.28, 85.548, 91.8025, 73.6489, 129.141, 85.7894,\n",
    "                      112.617, 85.2834, 123.678, 98.4546, 104.44, 115.135, 137.928, 523.375, 116.633, 119.831,\n",
    "                      125.139, 108.483, 118.037, 122.678, 117.823, 117.74, 122.828, 135.941, 120.017, 108.23,\n",
    "                      111.575, 144.64};\n",
    "Double_t thesigma[32]={5.04732, 1.83262, 1.20977, 0.681057, 5.36665, 5.59798, 1.13982, 3.2146, 0.983292, 6.32361,\n",
    "                       1.65994, 5.22547, 6.0171, 5.49935, 9.58709, 4.88437, 24.423, 156.416, 5.9648, 6.59314,\n",
    "                       7.12833, 7.08714, 5.41373, 7.06391, 5.56377, 5.54476, 7.05305, 6.10548, 6.71595, 7.0804,\n",
    "                       6.92672, 7.12657};\n",
    "Double_t pedel[32];\n",
    "for(Int_t ii=0;ii<32;ii++){\n",
    "    pedel[ii]=themean[ii]+2*thesigma[ii];\n",
    "}"
   ]
  },
  {
   "cell_type": "code",
   "execution_count": 6,
   "metadata": {},
   "outputs": [
    {
     "name": "stdout",
     "output_type": "stream",
     "text": [
      "0\n"
     ]
    },
    {
     "name": "stderr",
     "output_type": "stream",
     "text": [
      "Warning in <TClass::Init>: no dictionary for class TModV830AC is available\n",
      "Warning in <TClass::Init>: no dictionary for class TBoard is available\n",
      "Warning in <TClass::Init>: no dictionary for class TModV785 is available\n"
     ]
    },
    {
     "name": "stdout",
     "output_type": "stream",
     "text": [
      "1000000\n"
     ]
    }
   ],
   "source": [
    "   Long64_t nentries = fch->GetEntries();\n",
    "   for (Long64_t jentry=0; jentry<nentries;jentry+=100) {\n",
    "      fch->GetEntry(jentry);\n",
    "      if(jentry%1000000==0)cout<<jentry<<'\\n';\n",
    "      for (int ch = 0; ch < 32; ch++) {\n",
    "        h[ch]->Fill(chdata3[ch]);\n",
    "        if(ch<16&&chdata3[ch]>pedel[ch]){\n",
    "            hc[ch]->Fill((chdata3[ch]*k_l[ch][0]+k_l[ch][1])/1000.);\n",
    "            pid[ch]->Fill(chdata3[15],(chdata3[ch]*k_l[ch][0]+k_l[ch][1])/1000.);\n",
    "        }\n",
    "      }\n",
    "   }"
   ]
  },
  {
   "cell_type": "code",
   "execution_count": 7,
   "metadata": {},
   "outputs": [],
   "source": [
    "Double_t mean[32] = {0};\n",
    "Double_t sigma[32] = {0};\n",
    "// 创建图形对象\n",
    "TGraph *gmean = new TGraph();\n",
    "TGraph *gsigma = new TGraph();"
   ]
  },
  {
   "cell_type": "code",
   "execution_count": 8,
   "metadata": {},
   "outputs": [],
   "source": [
    "TF1 *gausFit = new TF1(\"gausFit\", \"gaus\", 0, 200); // 在0-200道范围内拟合\n",
    "gausFit->SetLineColor(kRed); // 设置拟合线为红色\n",
    "\n",
    "\n",
    "\n",
    "for (int ch = 0; ch < 32; ch++) {\n",
    "    // 检查直方图是否有数据\n",
    "    if (h[ch]->Integral() < 100) {\n",
    "        cout << \"Warning: Channel \" << ch << \" has insufficient data for fitting (\" \n",
    "             << h[ch]->Integral() << \" entries)\" << endl;\n",
    "        mean[ch] = 0;\n",
    "        sigma[ch] = 0;\n",
    "        continue;\n",
    "    }\n",
    "    // 找到最高bin的位置\n",
    "    int maxBin = h[ch]->GetMaximumBin();\n",
    "    double maxBinCenter = h[ch]->GetBinCenter(maxBin);\n",
    "    \n",
    "    // 计算拟合范围上限：最高bin位置 + 80道\n",
    "    double fitEnd = maxBinCenter + 80;\n",
    "    \n",
    "    // 执行高斯拟合（在0-200道范围内）\n",
    "    h[ch]->Fit(\"gausFit\", \"QR\", \"\", 0, fitEnd); // Q: quiet, R: range\n",
    "    \n",
    "    // 获取拟合结果\n",
    "    mean[ch] = gausFit->GetParameter(1);\n",
    "    sigma[ch] = gausFit->GetParameter(2);\n",
    "    \n",
    "    // 将结果添加到图形\n",
    "    gmean->SetPoint(ch, ch, mean[ch]);\n",
    "    gsigma->SetPoint(ch, ch, sigma[ch]);\n",
    "    \n",
    "}\n"
   ]
  },
  {
   "cell_type": "code",
   "execution_count": 9,
   "metadata": {},
   "outputs": [
    {
     "data": {
      "image/png": "[encoded data removed]",
      "text/plain": [
       "<IPython.core.display.Image object>"
      ]
     },
     "metadata": {},
     "output_type": "display_data"
    }
   ],
   "source": [
    "c1->Clear();\n",
    "hc[4]->Draw();\n",
    "c1->SetLogy(1);\n",
    "c1->Draw();"
   ]
  },
  {
   "cell_type": "code",
   "execution_count": 10,
   "metadata": {},
   "outputs": [
    {
     "data": {
      "image/png": "[encoded data removed]",
      "text/plain": [
       "<IPython.core.display.Image object>"
      ]
     },
     "metadata": {},
     "output_type": "display_data"
    }
   ],
   "source": [
    "c1->Clear();\n",
    "pid[2]->Draw(\"colz\");\n",
    "c1->SetLogy(0);\n",
    "c1->Draw();"
   ]
  },
  {
   "cell_type": "code",
   "execution_count": 11,
   "metadata": {},
   "outputs": [
    {
     "data": {
      "image/png": "[encoded data removed]",
      "text/plain": [
       "<IPython.core.display.Image object>"
      ]
     },
     "metadata": {},
     "output_type": "display_data"
    }
   ],
   "source": [
    "c1->Clear();\n",
    "gmean->GetXaxis()->SetLimits(0, 32);\n",
    "gmean->GetYaxis()->SetRangeUser(0 , 500.); \n",
    "gmean->SetMarkerStyle(3);\n",
    "gmean->Draw(\"ap\");\n",
    "c1->SetLogy(0);\n",
    "c1->Draw();"
   ]
  },
  {
   "cell_type": "code",
   "execution_count": 12,
   "metadata": {},
   "outputs": [
    {
     "data": {
      "image/png": "[encoded data removed]",
      "text/plain": [
       "<IPython.core.display.Image object>"
      ]
     },
     "metadata": {},
     "output_type": "display_data"
    }
   ],
   "source": [
    "c1->Clear();\n",
    "gsigma->SetMarkerStyle(3);\n",
    "gsigma->Draw(\"ap\");\n",
    "c1->SetLogy(0);\n",
    "c1->Draw();"
   ]
  },
  {
   "cell_type": "code",
   "execution_count": 13,
   "metadata": {},
   "outputs": [
    {
     "name": "stdout",
     "output_type": "stream",
     "text": [
      "75.0029, 84.2532, 92.0921, 108.179, 114.969, 88.5111, 90.908, 74.5958, 125.936, 98.7603, 116.997, 87.7356, 125.137, 103.006, 117.846, 118.268, 152.272, 388.325, 118.505, 121.425, 129.385, 112.014, 118.664, 125.666, 116.47, 116.068, 124.12, 137.288, 120.803, 110.322, 112.084, 146.017, \n",
      "\n",
      "8.89283, 5.35916, 1.28999, 1.11818, 8.8608, 8.65251, 0.410672, 6.40665, 5.76767, 14.0098, 5.41618, 7.30348, 6.72502, 9.4423, 16.0641, 7.30446, 33.6933, 125.983, 5.7045, 6.94023, 7.12944, 6.85865, 6.67644, 7.27388, 9.91186, 9.67813, 7.16488, 5.96416, 6.6759, 7.01884, 2.35296, 7.20823, "
     ]
    }
   ],
   "source": [
    "for(Int_t ii=0;ii<32;ii++){\n",
    "    cout<<mean[ii]<<\", \";\n",
    "}\n",
    "cout<<'\\n'<<'\\n';\n",
    "for(Int_t ii=0;ii<32;ii++){\n",
    "    cout<<sigma[ii]<<\", \";\n",
    "}"
   ]
  },
  {
   "cell_type": "code",
   "execution_count": null,
   "metadata": {},
   "outputs": [],
   "source": []
  }
 ],
 "metadata": {
  "kernelspec": {
   "display_name": "ROOT C++",
   "language": "c++",
   "name": "root"
  },
  "language_info": {
   "codemirror_mode": "text/x-c++src",
   "file_extension": ".C",
   "mimetype": " text/x-c++src",
   "name": "c++"
  },
  "toc": {
   "base_numbering": 1,
   "nav_menu": {},
   "number_sections": true,
   "sideBar": true,
   "skip_h1_title": false,
   "title_cell": "Table of Contents",
   "title_sidebar": "Contents",
   "toc_cell": false,
   "toc_position": {},
   "toc_section_display": true,
   "toc_window_display": false
  }
 },
 "nbformat": 4,
 "nbformat_minor": 2
}
