{
 "cells": [
  {
   "cell_type": "code",
   "execution_count": 1,
   "metadata": {},
   "outputs": [
    {
     "name": "stdout",
     "output_type": "stream",
     "text": [
      "\u001b[?1034h"
     ]
    }
   ],
   "source": [
    "//%jsroot on"
   ]
  },
  {
   "cell_type": "code",
   "execution_count": 2,
   "metadata": {},
   "outputs": [],
   "source": [
    "TCanvas *c1=new TCanvas(\"c1\",\"c1\");"
   ]
  },
  {
   "cell_type": "code",
   "execution_count": 3,
   "metadata": {},
   "outputs": [],
   "source": [
    "Double_t allcount1=0,allcount2=0;\n",
    "//T1E_newtheta_new_bydstar_all;\n",
    "Double_t cross_0[10],cross_7000[10],cross_6100[10];\n",
    "Double_t solid_0[10],solid_7000[10],solid_6100[10];\n",
    "Double_t count_0[10],count_7000[10],count_6100[10];\n",
    "Double_t low_0[10],low_7000[10],low_6100[10];\n",
    "Double_t high_0[10],high_7000[10],high_6100[10];\n",
    "Double_t low_cm_0[10],low_cm_7000[10],low_cm_6100[10];\n",
    "Double_t high_cm_0[10],high_cm_7000[10],high_cm_6100[10];\n",
    "Double_t Elow_0[10],Elow_7000[10],Elow_6100[10];\n",
    "Double_t Ehigh_0[10],Ehigh_7000[10],Ehigh_6100[10];\n",
    "Double_t theangle_cm_0[10],theangle_cm_7000[10],theangle_cm_6100[10];\n",
    "Double_t theta_cm_left_0[10],theta_cm_left_6100[10],theta_cm_left_7000[10];\n",
    "Double_t theta_cm_right_0[10],theta_cm_right_6100[10],theta_cm_right_7000[10];\n",
    "Int_t key_left_0[10],key_left_6100[10],key_left_7000[10];\n",
    "Int_t key_right_0[10],key_right_6100[10],key_right_7000[10];\n",
    "for(Int_t ii=0;ii<10;ii++){\n",
    "    cross_0[ii]=0;\n",
    "    cross_7000[ii]=0;\n",
    "    cross_6100[ii]=0;\n",
    "    solid_0[ii]=0;\n",
    "    solid_7000[ii]=0;\n",
    "    solid_6100[ii]=0;\n",
    "    Elow_0[ii]=0;\n",
    "    Elow_7000[ii]=0;\n",
    "    Elow_6100[ii]=0;\n",
    "    Ehigh_0[ii]=1000;\n",
    "    Ehigh_7000[ii]=1000;\n",
    "    Ehigh_6100[ii]=1000;\n",
    "    key_left_0[ii]=0;\n",
    "    key_left_6100[ii]=0;\n",
    "    key_left_7000[ii]=0;\n",
    "    key_right_0[ii]=0;\n",
    "    key_right_6100[ii]=0;\n",
    "    key_right_7000[ii]=0;\n",
    "    \n",
    "}\n",
    "//low_0[0]=36;high_0[0]=39;low_cm_0[0]=148;high_cm_0[0]=158;\n",
    "//low_0[1]=39;high_0[1]=42;low_cm_0[1]=136;high_cm_0[1]=157;\n",
    "//low_0[1]=36;high_0[1]=42;low_cm_0[1]=152;high_cm_0[1]=157;\n",
    "\n",
    "low_0[0]=24;high_0[0]=28;low_cm_0[0]=162;high_cm_0[0]=170;\n",
    "low_0[1]=28;high_0[1]=32;low_cm_0[1]=158;high_cm_0[1]=168;\n",
    "low_0[2]=32;high_0[2]=36;low_cm_0[2]=153;high_cm_0[2]=165;\n",
    "low_0[3]=36;high_0[3]=39;low_cm_0[3]=149;high_cm_0[3]=161;\n",
    "low_0[4]=39;high_0[4]=42;low_cm_0[4]=146;high_cm_0[4]=159;\n",
    "low_0[5]=42;high_0[5]=46;low_cm_0[5]=135;high_cm_0[5]=153;Ehigh_0[5]=24.8;\n",
    "low_0[6]=42;high_0[6]=46;low_cm_0[6]=106;high_cm_0[6]=135;Elow_0[6]=24.8;\n",
    "theangle_cm_0[0]=157;\n",
    "//theangle_cm_0[1]=152;\n",
    "theangle_cm_0[1]=154.5;\n",
    "theangle_cm_0[2]=142;\n",
    "theangle_cm_0[3]=128;\n",
    "theangle_cm_0[4]=110;\n",
    "\n",
    "low_6100[0]=23;high_6100[0]=26;low_cm_6100[0]=157;high_cm_6100[0]=166;\n",
    "low_6100[1]=26;high_6100[1]=29;low_cm_6100[1]=154;high_cm_6100[1]=163;\n",
    "low_6100[2]=29;high_6100[2]=32;low_cm_6100[2]=148;high_cm_6100[2]=160;\n",
    "low_6100[3]=32;high_6100[3]=34;low_cm_6100[3]=142;high_cm_6100[3]=157;\n",
    "low_6100[4]=34;high_6100[4]=40;low_cm_6100[4]=129;high_cm_6100[4]=152;Ehigh_6100[4]=30.9;\n",
    "low_6100[5]=34;high_6100[5]=40;low_cm_6100[5]=93;high_cm_6100[5]=129;Elow_6100[5]=30.9;\n",
    "low_6100[6]=32;high_6100[6]=34;low_cm_6100[6]=84;high_cm_6100[6]=111;\n",
    "theangle_cm_6100[0]=162;\n",
    "theangle_cm_6100[1]=159;\n",
    "theangle_cm_6100[2]=155;\n",
    "theangle_cm_6100[3]=151;\n",
    "theangle_cm_6100[4]=140;\n",
    "theangle_cm_6100[5]=116;\n",
    "theangle_cm_6100[6]=97;\n",
    "\n",
    "\n",
    "low_7000[0]=23;high_7000[0]=26;low_cm_7000[0]=155;high_cm_7000[0]=165;\n",
    "low_7000[1]=26;high_7000[1]=29;low_cm_7000[1]=151;high_cm_7000[1]=162;\n",
    "low_7000[2]=29;high_7000[2]=32;low_cm_7000[2]=144;high_cm_7000[2]=158;\n",
    "low_7000[3]=32;high_7000[3]=34;low_cm_7000[3]=138;high_cm_7000[3]=155;\n",
    "low_7000[4]=34;high_7000[4]=40;low_cm_7000[4]=128;high_cm_7000[4]=150;Ehigh_7000[4]=30.9;\n",
    "low_7000[5]=34;high_7000[5]=40;low_cm_7000[5]=92;high_cm_7000[5]=128;Elow_7000[5]=30.9;\n",
    "low_7000[6]=32;high_7000[6]=34;low_cm_7000[6]=84;high_cm_7000[6]=116;\n",
    "theangle_cm_7000[0]=161;\n",
    "theangle_cm_7000[1]=157;\n",
    "theangle_cm_7000[2]=153;\n",
    "theangle_cm_7000[3]=148;\n",
    "theangle_cm_7000[4]=136;\n",
    "theangle_cm_7000[5]=117;\n",
    "theangle_cm_7000[6]=100;\n",
    "\n"
   ]
  },
  {
   "cell_type": "code",
   "execution_count": 4,
   "metadata": {},
   "outputs": [],
   "source": [
    "  Double_t thetacm, thetad,thetaC;"
   ]
  },
  {
   "cell_type": "code",
   "execution_count": 5,
   "metadata": {},
   "outputs": [],
   "source": [
    "  ifstream ina(\"/data/d1/share/zhuhy/2023geant4sim/hit/txt/C15_pd_14C_d_anglecm_anglelab.txt\");\n",
    "  if(ina.is_open()){\n",
    "    while(!ina.eof())\n",
    "    {\n",
    "      ina>>thetacm>>thetad>>thetaC;\n",
    "        for(Int_t ii=0;ii<7;ii++){\n",
    "          if(thetacm>135&&ii<6){\n",
    "              if(key_left_0[ii]==0&&thetad<high_0[ii]){\n",
    "                  theta_cm_left_0[ii]=thetacm;\n",
    "                  key_left_0[ii]=1;\n",
    "              }\n",
    "              if(key_right_0[ii]==0&&thetad<low_0[ii]){\n",
    "                  theta_cm_right_0[ii]=thetacm;\n",
    "                  key_right_0[ii]=1;\n",
    "              }\n",
    "          }\n",
    "          if(thetacm<135&&ii>=6){\n",
    "              if(key_left_0[ii]==0&&thetad>low_0[ii]){\n",
    "                  theta_cm_left_0[ii]=thetacm;\n",
    "                  key_left_0[ii]=1;\n",
    "              }\n",
    "              if(key_right_0[ii]==0&&thetad>high_0[ii]){\n",
    "                  theta_cm_right_0[ii]=thetacm;\n",
    "                  key_right_0[ii]=1;\n",
    "              }\n",
    "          }\n",
    "        }\n",
    "          theta_cm_left_0[5]=135;\n",
    "          theta_cm_right_0[6]=135;      \n",
    "    }\n",
    "  }\n",
    "  ina.close();"
   ]
  },
  {
   "cell_type": "code",
   "execution_count": 6,
   "metadata": {},
   "outputs": [],
   "source": [
    "  ifstream ina_6100(\"/data/d1/share/zhuhy/2023geant4sim/hit/txt/C15_pd_14C_d_anglecm_anglelab_6094.txt\");\n",
    "  if(ina_6100.is_open()){\n",
    "    while(!ina_6100.eof())\n",
    "    {\n",
    "      ina_6100>>thetacm>>thetad>>thetaC;\n",
    "        for(Int_t ii=0;ii<7;ii++){\n",
    "          if(thetacm>135&&ii<5){\n",
    "              if(key_left_6100[ii]==0&&thetad<high_6100[ii]){\n",
    "                  theta_cm_left_6100[ii]=thetacm;\n",
    "                  key_left_6100[ii]=1;\n",
    "              }\n",
    "              if(key_right_6100[ii]==0&&thetad<low_6100[ii]){\n",
    "                  theta_cm_right_6100[ii]=thetacm;\n",
    "                  key_right_6100[ii]=1;\n",
    "              }\n",
    "          }\n",
    "          if(thetacm<135&&ii>=5){\n",
    "              if(key_left_6100[ii]==0&&thetad>low_6100[ii]){\n",
    "                  theta_cm_left_6100[ii]=thetacm;\n",
    "                  key_left_6100[ii]=1;\n",
    "              }\n",
    "              if(key_right_6100[ii]==0&&thetad>high_6100[ii]){\n",
    "                  theta_cm_right_6100[ii]=thetacm;\n",
    "                  key_right_6100[ii]=1;\n",
    "              }\n",
    "          }\n",
    "        }\n",
    "          theta_cm_left_6100[4]=129;\n",
    "          theta_cm_right_6100[5]=129;      \n",
    "    }\n",
    "  }\n",
    "  ina_6100.close();"
   ]
  },
  {
   "cell_type": "code",
   "execution_count": 7,
   "metadata": {},
   "outputs": [],
   "source": [
    "  ifstream ina_7012(\"/data/d1/share/zhuhy/2023geant4sim/hit/txt/C15_pd_14C_d_anglecm_anglelab_7012.txt\");\n",
    "  if(ina_7012.is_open()){\n",
    "    while(!ina_7012.eof())\n",
    "    {\n",
    "      ina_7012>>thetacm>>thetad>>thetaC;\n",
    "        for(Int_t ii=0;ii<7;ii++){\n",
    "          if(thetacm>135&&ii<5){\n",
    "              if(key_left_7000[ii]==0&&thetad<high_7000[ii]){\n",
    "                  theta_cm_left_7000[ii]=thetacm;\n",
    "                  key_left_7000[ii]=1;\n",
    "              }\n",
    "              if(key_right_7000[ii]==0&&thetad<low_7000[ii]){\n",
    "                  theta_cm_right_7000[ii]=thetacm;\n",
    "                  key_right_7000[ii]=1;\n",
    "              }\n",
    "          }\n",
    "          if(thetacm<135&&ii>=5){\n",
    "              if(key_left_7000[ii]==0&&thetad>low_7000[ii]){\n",
    "                  theta_cm_left_7000[ii]=thetacm;\n",
    "                  key_left_7000[ii]=1;\n",
    "              }\n",
    "              if(key_right_7000[ii]==0&&thetad>high_7000[ii]){\n",
    "                  theta_cm_right_7000[ii]=thetacm;\n",
    "                  key_right_7000[ii]=1;\n",
    "              }\n",
    "          }\n",
    "        }\n",
    "          theta_cm_left_7000[4]=128;\n",
    "          theta_cm_right_7000[5]=128;      \n",
    "    }\n",
    "  }\n",
    "  ina_7012.close();"
   ]
  },
  {
   "cell_type": "code",
   "execution_count": 8,
   "metadata": {},
   "outputs": [
    {
     "name": "stdout",
     "output_type": "stream",
     "text": [
      "************g.s.***************\n",
      "165.69\t168.39\n",
      "162.54\t165.69\n",
      "158.49\t162.54\n",
      "154.35\t158.49\n",
      "147.87\t154.35\n",
      "135\t147.87\n",
      "117.72\t135\n",
      "0\t0\n"
     ]
    }
   ],
   "source": [
    "cout<<\"************g.s.***************\"<<'\\n';\n",
    "    for(Int_t ii=0;ii<8;ii++){\n",
    "        cout<<theta_cm_left_0[ii]<<'\\t'<< theta_cm_right_0[ii]<<'\\n';\n",
    "    }"
   ]
  },
  {
   "cell_type": "code",
   "execution_count": 9,
   "metadata": {},
   "outputs": [
    {
     "name": "stdout",
     "output_type": "stream",
     "text": [
      "************6.1 MeV***************\n",
      "160.65\t163.62\n",
      "157.05\t160.65\n",
      "152.55\t157.05\n",
      "148.59\t152.55\n",
      "129\t148.59\n",
      "100.98\t129\n",
      "92.97\t100.98\n"
     ]
    }
   ],
   "source": [
    "cout<<\"************6.1 MeV***************\"<<'\\n';\n",
    "    for(Int_t ii=0;ii<7;ii++){\n",
    "        cout<<theta_cm_left_6100[ii]<<'\\t'<< theta_cm_right_6100[ii]<<'\\n';\n",
    "    }"
   ]
  },
  {
   "cell_type": "code",
   "execution_count": 10,
   "metadata": {},
   "outputs": [
    {
     "name": "stdout",
     "output_type": "stream",
     "text": [
      "************7.0 MeV***************\n",
      "159.3\t162.63\n",
      "155.43\t159.3\n",
      "150.3\t155.43\n",
      "145.53\t150.3\n",
      "128\t145.53\n",
      "103.95\t128\n",
      "95.13\t103.95\n"
     ]
    }
   ],
   "source": [
    "    cout<<\"************7.0 MeV***************\"<<'\\n';\n",
    "    for(Int_t ii=0;ii<7;ii++){\n",
    "        cout<<theta_cm_left_7000[ii]<<'\\t'<< theta_cm_right_7000[ii]<<'\\n';\n",
    "    }"
   ]
  },
  {
   "cell_type": "code",
   "execution_count": null,
   "metadata": {},
   "outputs": [],
   "source": []
  }
 ],
 "metadata": {
  "kernelspec": {
   "display_name": "ROOT C++",
   "language": "c++",
   "name": "root"
  },
  "language_info": {
   "codemirror_mode": "text/x-c++src",
   "file_extension": ".C",
   "mimetype": " text/x-c++src",
   "name": "c++"
  },
  "toc": {
   "base_numbering": 1,
   "nav_menu": {},
   "number_sections": true,
   "sideBar": true,
   "skip_h1_title": false,
   "title_cell": "Table of Contents",
   "title_sidebar": "Contents",
   "toc_cell": false,
   "toc_position": {},
   "toc_section_display": true,
   "toc_window_display": false
  }
 },
 "nbformat": 4,
 "nbformat_minor": 2
}
