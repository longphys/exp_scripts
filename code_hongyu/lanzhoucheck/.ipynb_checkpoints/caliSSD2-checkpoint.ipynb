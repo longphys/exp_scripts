{
 "cells": [
  {
   "cell_type": "code",
   "execution_count": 1,
   "metadata": {},
   "outputs": [
    {
     "name": "stdout",
     "output_type": "stream",
     "text": [
      "\u001b[?1034h"
     ]
    }
   ],
   "source": [
    "//%jsroot on\n",
    "#define _15C 152.7"
   ]
  },
  {
   "cell_type": "code",
   "execution_count": 2,
   "metadata": {},
   "outputs": [],
   "source": [
    "\n",
    "Int_t *I,J=0;\n",
    "I=&J;\n",
    "\n",
    "int start = 0;\n",
    "int stop = 0;\n",
    "TChain *fch;\n",
    "fch = new TChain(\"tree\", \"tele\");\n",
    "for (int i= start; i<=stop; i++){\n",
    "  TString fileName = TString::Format(\"/data/d1/zhuhy/lanzhou2022/jws202/RootFile_lv1/202506140407%04d.root\" , i);\n",
    "  //TString fileName = TString::Format(\"/data/d1/zhuhy/telefile/tele%04d.root\" , i);\n",
    "  fch->AddFile(fileName.Data());\n",
    "}\n",
    "\n",
    "\n",
    "TCanvas *c1=new TCanvas;"
   ]
  },
  {
   "cell_type": "code",
   "execution_count": null,
   "metadata": {},
   "outputs": [],
   "source": [
    "Double_t Q,Ex,Theta;\n",
    "Int_t i;\n",
    "TGraph *T1Etheta_B14He3_0= new TGraph;\n",
    "Double_t Ex_0=0;\n",
    "  for(Theta=20.;Theta<50.;Theta=Theta+0.02){\n",
    "    for(Ex=0;Ex<150;Ex=Ex+0.001){\n",
    "    Q=-8.56-((111.904823874/110.907740127-1.)*(_15C*112)+(2.01410177811/110.907740127+1.)*Ex\n",
    "       -2.*cos(Theta*3.14159/180.)*sqrt(111.904823874*2.01410177811*_15C*112*Ex)/110.907740127);\n",
    "        if(fabs(Q-Ex_0)<0.1){\n",
    "            T1Etheta_B14He3_0->SetPoint(i++,Theta,Ex);\n",
    "        }\n",
    "    }\n",
    "  }\n",
    "\n",
    "\n",
    "TGraph *T1Etheta_pp_0= new TGraph;\n",
    "Ex_0=16;\n",
    "  for(Theta=20.;Theta<50.;Theta=Theta+0.02){\n",
    "    for(Ex=0;Ex<10;Ex=Ex+0.001){\n",
    "    Q=-25-((111.904823874/111.904823874-1.)*(_15C*112)+(1.00782503223/111.904823874+1.)*Ex\n",
    "       -2.*cos(Theta*3.14159/180.)*sqrt(111.904823874*1.00782503223*_15C*112*Ex)/111.904823874);\n",
    "        if(fabs(Q-Ex_0)<0.1){\n",
    "            T1Etheta_pp_0->SetPoint(i++,Theta,Ex);\n",
    "        }\n",
    "    }\n",
    "  }\n",
    "\n",
    "TGraph *T1Etheta_pp_1= new TGraph;\n",
    "Ex_0=25;\n",
    "  for(Theta=20.;Theta<50.;Theta=Theta+0.02){\n",
    "    for(Ex=0;Ex<10;Ex=Ex+0.001){\n",
    "    Q=-25-((111.904823874/111.904823874-1.)*(_15C*112)+(1.00782503223/111.904823874+1.)*Ex\n",
    "       -2.*cos(Theta*3.14159/180.)*sqrt(111.904823874*1.00782503223*_15C*112*Ex)/111.904823874);\n",
    "        if(fabs(Q-Ex_0)<0.1){\n",
    "            T1Etheta_pp_1->SetPoint(i++,Theta,Ex);\n",
    "        }\n",
    "    }\n",
    "  }"
   ]
  },
  {
   "cell_type": "code",
   "execution_count": null,
   "metadata": {
    "scrolled": false
   },
   "outputs": [],
   "source": [
    "TFile *nudead[150];\n",
    "TTree *ntudead[150];\n",
    "int ncount32_1[150],ncount32_2[150];\n",
    "key=0;\n",
    "TGraph *npid32_1[150];\n",
    "TGraph *npid32_2[150];\n",
    "TString nudeadname[150];\n",
    "Double_t nsse[4]={0,0,0,0};\n",
    "Long64_t nnentries05;\n",
    "Double_t ntempESi;\n",
    "Double_t mycount=0;\n",
    "for(Int_t ii=150;ii<=150;ii++){\n",
    "    mycount=0;\n",
    "    nudeadname[ii]= TString::Format(\"/home/zhuhy/zhuhy/pid/pid_tar_ads/pid_300_500/ad3_%03dd.root\" , ii+150);\n",
    "    nudead[ii]=new TFile(nudeadname[ii].Data());\n",
    "    ntudead[ii]=(TTree*) nudead[ii]->Get(\"tree\");\n",
    "    ncount32_1[ii]=0;\n",
    "    ncount32_2[ii]=0;\n",
    "    npid32_1[ii]=new TGraph;\n",
    "    npid32_2[ii]=new TGraph;\n",
    "    ntudead[ii]->SetBranchAddress(\"se\", nsse);\n",
    "    nnentries05 = ntudead[ii]->GetEntries();\n",
    "    key=0;\n",
    "    ntempESi=0;\n",
    "   for (Long64_t jentry05=1; jentry05<nnentries05;jentry05++) {\n",
    "      ntudead[ii]->GetEntry(jentry05);\n",
    "      if(ntempESi>nsse[1]&&nsse[1]>1)key=1;\n",
    "      ntempESi=nsse[1];\n",
    "      if(key==0)npid32_1[ii]->SetPoint(ncount32_1[ii]++,nsse[0],nsse[1]);\n",
    "      else if(key==1){\n",
    "          if(nsse[3]>0.01)npid32_2[ii]->SetPoint(mycount++,nsse[0],nsse[1]);\n",
    "          //ncount32_2[ii]++;\n",
    "          //if(ii==150&&jentry05%5==0)cout<<mycount<<'\\t'<<nsse[2]<<'\\t'<<nsse[3]<<'\\n';\n",
    "      }\n",
    "\n",
    "   }\n",
    "}\n",
    "   c1->Clear();\n",
    "   npid32_2[150]->SetMarkerStyle(3);\n",
    "   npid32_2[150]->SetNameTitle(\"dead2:ad pid1\",\"dead2:ad pid1\");\n",
    "   npid32_2[150]->Draw(\"ap\");\n",
    "   c1->Draw();"
   ]
  },
  {
   "cell_type": "code",
   "execution_count": null,
   "metadata": {},
   "outputs": [],
   "source": [
    "   c1->Clear();\n",
    "   npid32_2[150]->SetMarkerStyle(3);\n",
    "   npid32_2[150]->SetNameTitle(\"dead2:ad pid1\",\"dead2:ad pid1\");\n",
    "   npid32_2[150]->Draw(\"ap\");\n",
    "   c1->Draw();"
   ]
  },
  {
   "cell_type": "code",
   "execution_count": null,
   "metadata": {},
   "outputs": [],
   "source": [
    "TGraph *T1Etheta_old=new TGraph();\n",
    "TGraph *T1Etheta_new=new TGraph();\n",
    "\n",
    "TString drawName_new1 = TString::Format(\"xce[0]:xs[0]:xe2\");\n",
    "TString cutName_new = TString::Format(\"xce[0]>0.3\");\n",
    "\n",
    "TString graphName_old = TString::Format(\"taad1_e_theta_old\");\n",
    "TString graphName_new = TString::Format(\"taad1_e_theta_new\");\n",
    "\n"
   ]
  },
  {
   "cell_type": "code",
   "execution_count": null,
   "metadata": {},
   "outputs": [],
   "source": [
    "        Int_t num1=fch->Draw(drawName_new1.Data(),cutName_new.Data());\n",
    "        if(num1==0) return;\n",
    "        TGraph2D *e1=new TGraph2D(num1,fch->GetV3(),fch->GetV2(),fch->GetV1());\n",
    "\n",
    "//利用上一步相同cut中画的事件顺序一致\n",
    "\n",
    "        Int_t npoints1=e1->GetN();\n",
    "        if(npoints1==0) return;\n",
    "        cout<<\"npoints1=\"<<npoints1<<'\\n';\n",
    "/*        TGraph2D *g2D=new TGraph2D(*e1);\n",
    "        TString tmpgName;\n",
    "        tmpgName=\"g2D\"+graphName_new;\n",
    "        g2D->SetNameTitle(tmpgName.Data(), tmpgName.Data());\n",
    "*/\n",
    "\n",
    "        Double_t *gd=e1->GetX();\n",
    "        Double_t *gxs=e1->GetY();\n",
    "        Double_t *gad=e1->GetZ();\n"
   ]
  },
  {
   "cell_type": "code",
   "execution_count": null,
   "metadata": {},
   "outputs": [],
   "source": [
    "\n",
    "\n",
    "TGraph *edelta_E_E=new TGraph();\n",
    "\n",
    "Int_t count=0,count_E_E=0,count_E35=0,count_pp=0;\n",
    "Double_t eall,ealltemp,ealltemp_tar,etar=0,Etemp,Etemp0;\n",
    "\n",
    "//&&fabs(npid32_2[150]->Eval(gad[i])-0.000703592*gd[i]+0.0100581)<1\n",
    "for(Int_t i=0; i<npoints1; i++){\n",
    "    \n",
    "   if(gd[i]>1200&&gad[i]>0.75)\n",
    "       edelta_E_E->SetPoint(count_E_E++,gd[i],npid32_2[150]->Eval(gad[i]));\n",
    " }\n",
    " cout<<\"count=\"<<count<<'\\n';  "
   ]
  },
  {
   "cell_type": "code",
   "execution_count": null,
   "metadata": {},
   "outputs": [],
   "source": [
    "//高能刻度p\n",
    "Double_t kk,bb;\n",
    "   TF1 *f12 = new TF1(\"f12\",\"[0]*x+[1]\",1000,4100);\n",
    "   edelta_E_E->Fit(\"f12\",\"QR\");\n",
    "\n",
    "   TF1 *fitp2 = edelta_E_E->GetFunction(\"f12\");\n",
    "   kk = fitp2->GetParameter(0);\n",
    "   bb = fitp2->GetParameter(1);\n",
    "   cout<<\"k= \"<<kk<<'\\t'<<\"b= \"<<bb<<'\\n';"
   ]
  },
  {
   "cell_type": "code",
   "execution_count": null,
   "metadata": {},
   "outputs": [],
   "source": [
    "c1->Clear();\n",
    "edelta_E_E->GetXaxis()->SetLimits(1000, 4100);\n",
    "edelta_E_E->GetYaxis()->SetRangeUser(0 , 4); \n",
    "edelta_E_E->SetMarkerStyle(3);\n",
    "edelta_E_E->Draw(\"ap\");\n",
    "c1->SetLogy(0);\n",
    "c1->Draw();"
   ]
  },
  {
   "cell_type": "code",
   "execution_count": null,
   "metadata": {},
   "outputs": [],
   "source": []
  }
 ],
 "metadata": {
  "kernelspec": {
   "display_name": "ROOT C++",
   "language": "c++",
   "name": "root"
  },
  "language_info": {
   "codemirror_mode": "text/x-c++src",
   "file_extension": ".C",
   "mimetype": " text/x-c++src",
   "name": "c++"
  },
  "toc": {
   "base_numbering": 1,
   "nav_menu": {},
   "number_sections": true,
   "sideBar": true,
   "skip_h1_title": false,
   "title_cell": "Table of Contents",
   "title_sidebar": "Contents",
   "toc_cell": false,
   "toc_position": {},
   "toc_section_display": true,
   "toc_window_display": false
  }
 },
 "nbformat": 4,
 "nbformat_minor": 2
}
