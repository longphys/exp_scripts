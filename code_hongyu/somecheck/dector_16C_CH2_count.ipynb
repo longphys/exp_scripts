{
 "cells": [
  {
   "cell_type": "code",
   "execution_count": 1,
   "metadata": {},
   "outputs": [
    {
     "name": "stdout",
     "output_type": "stream",
     "text": [
      "\u001b[?1034h"
     ]
    }
   ],
   "source": [
    "//%jsroot on"
   ]
  },
  {
   "cell_type": "code",
   "execution_count": 2,
   "metadata": {},
   "outputs": [],
   "source": [
    "TCanvas *c1=new TCanvas;"
   ]
  },
  {
   "cell_type": "code",
   "execution_count": 3,
   "metadata": {},
   "outputs": [],
   "source": [
    "/******get taf&&t1d1************/\n",
    "  TString find1;\n",
    "  Int_t therunnumber,thextaftemp,thevtaftemp,thet1d1temp,thextaf[810],thevtaf[810],thet1d1[810],theallelse[810];\n",
    "  for(Int_t ii=0;ii<810;ii++){\n",
    "      thextaf[ii]=0;\n",
    "      thevtaf[ii]=0;\n",
    "      thet1d1[ii]=0;\n",
    "      theallelse[ii]=0;\n",
    "  }\n",
    "  find1=TString::Format(\"/home/zhuhy/JNBook/Experiment2022/taf/check/txt/15C_CH2_tafandt1.txt\");\n",
    "  ifstream in1(find1.Data());\n",
    "  if(in1.is_open()){\n",
    "    while(!in1.eof())\n",
    "    {\n",
    "        in1>>therunnumber>>thextaftemp>>thevtaftemp>>thet1d1temp;\n",
    "        if(thextaftemp>1000000)thextaftemp=0;\n",
    "        if(thevtaftemp>1000000)thevtaftemp=0;\n",
    "        if(thet1d1temp>100000) thet1d1temp=0;\n",
    "        thextaf[therunnumber]=thextaftemp;\n",
    "        thevtaf[therunnumber]=thevtaftemp;\n",
    "        thet1d1[therunnumber]=thet1d1temp;\n",
    "        theallelse[therunnumber]=thextaftemp+thevtaftemp+thet1d1temp;\n",
    "        if(therunnumber==809)break;\n",
    "    }\n",
    "  }\n",
    "  in1.close();"
   ]
  },
  {
   "cell_type": "code",
   "execution_count": 4,
   "metadata": {},
   "outputs": [],
   "source": [
    "TGraph *gCtoall1=new TGraph();\n",
    "TGraph *gCtoall2=new TGraph();\n",
    "TGraph *gtartoall1=new TGraph();\n",
    "TGraph *gtartoall2=new TGraph();\n",
    "TString find;\n",
    "Int_t aa,count1,count2;\n",
    "Int_t countt0d1s1,countt0d1m1,countt0d1b1;\n",
    "Int_t countt0d1s1_Ccut,countt0d1m1_Ccut,countt0d1b1_Ccut;\n",
    "Int_t countt0d1s1_tarcut,countt0d1m1_tarcut,countt0d1b1_tarcut;\n",
    "Int_t countt0d1s1_Candtarcut,countt0d1m1_Candtarcut,countt0d1b1_Candtarcut;\n",
    "Int_t countt0d1s17,countt0d1m17,countt0d1b17;\n",
    "Int_t countt0d1s17_Ccut,countt0d1m17_Ccut,countt0d1b17_Ccut;\n",
    "Int_t countt0d1s17_tarcut,countt0d1m17_tarcut,countt0d1b17_tarcut;\n",
    "Int_t countt0d1s17_Candtarcut,countt0d1m17_Candtarcut,countt0d1b17_Candtarcut;\n",
    "long t0all1;\n",
    "long t0d1sall1;\n",
    "long t0d1mall1;\n",
    "long t0d1ball1;\n",
    "long t0d1sall17;\n",
    "long t0d1mall17;\n",
    "long t0d1ball17;\n",
    "long t0all1_Ccut;\n",
    "long t0d1sall1_Ccut;\n",
    "long t0d1mall1_Ccut;\n",
    "long t0d1ball1_Ccut;\n",
    "long t0d1sall17_Ccut;\n",
    "long t0d1mall17_Ccut;\n",
    "long t0d1ball17_Ccut;\n",
    "long t0all1_tarcut;\n",
    "long t0d1sall1_tarcut;\n",
    "long t0d1mall1_tarcut;\n",
    "long t0d1ball1_tarcut;\n",
    "long t0d1sall17_tarcut;\n",
    "long t0d1mall17_tarcut;\n",
    "long t0d1ball17_tarcut;\n",
    "long t0all1_Candtarcut;\n",
    "long t0d1sall1_Candtarcut;\n",
    "long t0d1mall1_Candtarcut;\n",
    "long t0d1ball1_Candtarcut;\n",
    "long t0d1mball1_Candtarcut;\n",
    "long t0d1sall17_Candtarcut;\n",
    "long t0d1mall17_Candtarcut;\n",
    "long t0d1ball17_Candtarcut;\n",
    "Int_t thekey=0;\n",
    "Int_t nowfenchu;\n",
    "Double_t Crate[810],tarrate[810];\n",
    "for(Int_t ii=0;ii<810;ii++){\n",
    "    Crate[ii];\n",
    "    tarrate[ii];\n",
    "}\n",
    "for(Int_t ii=0;ii<183;ii++){\n",
    "  thekey=0;\n",
    "  find=TString::Format(\"/data/d1/zhuhy/lanzhou2022/findin/newtxt10/run%04dt0d1all.txt\",420+ii);\n",
    "  ifstream in(find.Data());\n",
    "  if(in.is_open()){\n",
    "//    while(!in.eof())\n",
    "    while(thekey==0)\n",
    "    {\n",
    "        therunnumber=420+ii;\n",
    "        if(therunnumber==420)nowfenchu=500;\n",
    "        else if(therunnumber==421)nowfenchu=10;\n",
    "        else if(therunnumber==422||therunnumber==423)nowfenchu=5;\n",
    "        else if(therunnumber==424||therunnumber==425)nowfenchu=1;\n",
    "        else if(therunnumber==426)nowfenchu=5;\n",
    "        else if(therunnumber==427)nowfenchu=2;\n",
    "        else if(therunnumber>=428&&therunnumber<=453)nowfenchu=3;\n",
    "        else if(therunnumber==454)nowfenchu=10;\n",
    "        else if(therunnumber>=455&&therunnumber<=457)nowfenchu=12;\n",
    "        else if(therunnumber>=458&&therunnumber<=562)nowfenchu=15;\n",
    "        else if(therunnumber>=563)nowfenchu=4;\n",
    "        in>>aa>>count1>>countt0d1s1>>countt0d1m1>>countt0d1b1;\n",
    "        in>>aa>>count1>>countt0d1s1_Ccut>>countt0d1m1_Ccut>>countt0d1b1_Ccut;\n",
    "        in>>aa>>count1>>countt0d1s1_tarcut>>countt0d1m1_tarcut>>countt0d1b1_tarcut;\n",
    "        in>>aa>>count1>>countt0d1s1_Candtarcut>>countt0d1m1_Candtarcut>>countt0d1b1_Candtarcut;\n",
    "        \n",
    "        \n",
    "        t0d1sall1+=countt0d1s1; \n",
    "        t0d1mall1+=countt0d1m1;\n",
    "        t0d1ball1+=countt0d1b1;\n",
    "        t0d1sall1_Ccut+=countt0d1s1_Ccut;\n",
    "        t0d1mall1_Ccut+=countt0d1m1_Ccut;\n",
    "        t0d1ball1_Ccut+=countt0d1b1_Ccut;\n",
    "        t0d1sall1_tarcut+=countt0d1s1_tarcut;\n",
    "        t0d1mall1_tarcut+=countt0d1m1_tarcut;\n",
    "        t0d1ball1_tarcut+=countt0d1b1_tarcut;\n",
    "        t0d1sall1_Candtarcut+=countt0d1s1_Candtarcut;\n",
    "        t0d1mall1_Candtarcut+=countt0d1m1_Candtarcut;\n",
    "        t0d1ball1_Candtarcut+=countt0d1b1_Candtarcut;\n",
    "        t0all1+=nowfenchu*(countt0d1s1-countt0d1b1-theallelse[420+ii])+countt0d1b1+theallelse[420+ii];\n",
    "        t0all1_Ccut+=nowfenchu*(countt0d1s1_Ccut-countt0d1b1_Ccut)+countt0d1b1_Ccut;\n",
    "        t0all1_tarcut+=nowfenchu*(countt0d1s1_tarcut-countt0d1b1_tarcut)+countt0d1b1_tarcut;\n",
    "        t0all1_Candtarcut+=nowfenchu*(countt0d1s1_Candtarcut-countt0d1b1_Candtarcut)+countt0d1b1_Candtarcut;\n",
    "        thekey++;\n",
    "    }\n",
    "  }\n",
    "  in.close();\n",
    "  gtartoall1->SetPoint(ii,420+ii,(Double_t)(nowfenchu*(countt0d1s1_tarcut-countt0d1b1_tarcut)+countt0d1b1_tarcut)/(Double_t)(nowfenchu*(countt0d1s1-countt0d1b1)+countt0d1b1));\n",
    "  //cout<<\"runnumber:\"<<420+ii<<'\\t'<<\"countall=\"<<nowfenchu*(countt0d1s1-countt0d1b1)+countt0d1b1<<'\\t'<<\"countall_tar=\"<<nowfenchu*(countt0d1s1_tarcut-countt0d1b1_tarcut)+countt0d1b1_Ccut<<'\\t'<<(Double_t)(nowfenchu*(countt0d1s1_tarcut-countt0d1b1_tarcut)+countt0d1b1_tarcut)/(Double_t)(nowfenchu*(countt0d1s1-countt0d1b1)+countt0d1b1)<<'\\n';\n",
    "  gCtoall1->SetPoint(ii,420+ii,(Double_t)(nowfenchu*(countt0d1s1_Ccut-countt0d1b1_Ccut)+countt0d1b1_Ccut)/(Double_t)(nowfenchu*(countt0d1s1-countt0d1b1)+countt0d1b1));\n",
    "  //cout<<\"runnumber:\"<<420+ii<<'\\t'<<\"countall=\"<<nowfenchu*(countt0d1s1-countt0d1b1)+countt0d1b1<<'\\t'<<\"countall_C=\"<<nowfenchu*(countt0d1s1_Ccut-countt0d1b1_Ccut)+countt0d1b1_Ccut<<'\\t'<<(Double_t)(nowfenchu*(countt0d1s1_Ccut-countt0d1b1_Ccut)+countt0d1b1_Ccut)/(Double_t)(nowfenchu*(countt0d1s1-countt0d1b1)+countt0d1b1)<<'\\n';\n",
    "  //cout<<\"runnumber:\"<<420+ii<<'\\t'<<\"countt0d1s1_Ccut=\"<<countt0d1s1_Ccut<<'\\t'<<\"countt0d1b1_Ccut=\"<<countt0d1b1_Ccut<<'\\t'<<\"dcount=\"<<(Double_t)(countt0d1s1_Ccut-countt0d1b1_Ccut)/(Double_t)(countt0d1s1_Ccut)<<'\\n';\n",
    "  //cout<<\"runnumber:\"<<420+ii<<'\\t'<<\"t0all=\"<<t0all1<<'\\t'<<\"count=\"<<count1<<'\\n';\n",
    "  //cout<<\"runnumber:\"<<420+ii<<'\\t'<<\"t0all=\"<<t0all2<<'\\t'<<\"count=\"<<count2<<'\\n';\n",
    "  Crate[420+ii]=(Double_t)(nowfenchu*(countt0d1s1_Ccut-countt0d1b1_Ccut)+countt0d1b1_Ccut)/(Double_t)(nowfenchu*(countt0d1s1-countt0d1b1)+countt0d1b1);\n",
    "  tarrate[420+ii]=(Double_t)(nowfenchu*(countt0d1s1_tarcut-countt0d1b1_tarcut)+countt0d1b1_tarcut)/(Double_t)(nowfenchu*(countt0d1s1-countt0d1b1)+countt0d1b1);\n",
    "}\n",
    "\n",
    "for(Int_t ii=0;ii<61;ii++){\n",
    "  thekey=0;\n",
    "  find=TString::Format(\"/data/d1/zhuhy/lanzhou2022/findin/newtxt10/run%04dt0d1all.txt\",748+ii);\n",
    "  ifstream in(find.Data());\n",
    "  if(in.is_open()){\n",
    "    while(thekey==0)\n",
    "    {\n",
    "        nowfenchu=100;\n",
    "        in>>aa>>count1>>countt0d1s17>>countt0d1m17>>countt0d1b17;\n",
    "        in>>aa>>count1>>countt0d1s17_Ccut>>countt0d1m17_Ccut>>countt0d1b17_Ccut;\n",
    "        in>>aa>>count1>>countt0d1s17_tarcut>>countt0d1m17_tarcut>>countt0d1b17_tarcut;\n",
    "        in>>aa>>count1>>countt0d1s17_Candtarcut>>countt0d1m17_Candtarcut>>countt0d1b17_Candtarcut;        \n",
    "        t0d1sall17+=countt0d1s17;\n",
    "        t0d1mall17+=countt0d1m17;  \n",
    "        t0d1ball17+=countt0d1b17;       \n",
    "        t0d1sall17_Ccut+=countt0d1s17_Ccut;\n",
    "        t0d1mall17_Ccut+=countt0d1m17_Ccut;  \n",
    "        t0d1ball17_Ccut+=countt0d1b17_Ccut;        \n",
    "        t0d1sall17_tarcut+=countt0d1s17_tarcut;\n",
    "        t0d1mall17_tarcut+=countt0d1m17_tarcut; \n",
    "        t0d1ball17_tarcut+=countt0d1b17_tarcut;         \n",
    "        t0d1sall17_Candtarcut+=countt0d1s17_Candtarcut;\n",
    "        t0d1mall17_Candtarcut+=countt0d1m17_Candtarcut;\n",
    "        t0d1ball17_Candtarcut+=countt0d1b17_Candtarcut;\n",
    "        t0all1+=nowfenchu*(countt0d1s17-countt0d1b17-theallelse[748+ii])+countt0d1b17+theallelse[748+ii];\n",
    "        t0all1_Ccut+=nowfenchu*(countt0d1s17_Ccut-countt0d1b17_Ccut)+countt0d1b17_Ccut;\n",
    "        t0all1_tarcut+=nowfenchu*(countt0d1s17_tarcut-countt0d1b17_tarcut)+countt0d1b17_tarcut;\n",
    "        t0all1_Candtarcut+=nowfenchu*(countt0d1s17_Candtarcut-countt0d1b17_Candtarcut)+countt0d1b17_Candtarcut;\n",
    "        thekey++;\n",
    "    }\n",
    "  }\n",
    "  in.close();\n",
    "  gtartoall2->SetPoint(ii,748+ii,(Double_t)(nowfenchu*(countt0d1s17_tarcut-countt0d1b17_tarcut)+countt0d1b17_tarcut)/(Double_t)(nowfenchu*(countt0d1s17-countt0d1b17)+countt0d1b17));\n",
    "  //cout<<\"runnumber:\"<<790+ii<<'\\t'<<\"countall=\"<<nowfenchu*(countt0d1s17-countt0d1b17)+countt0d1b17<<'\\t'<<\"countall_tar=\"<<nowfenchu*(countt0d1s17_tarcut-countt0d1b17_tarcut)+countt0d1b17_tarcut<<'\\t'<<(Double_t)(nowfenchu*(countt0d1s17_tarcut-countt0d1b17_tarcut)+countt0d1b17_tarcut)/(Double_t)(nowfenchu*(countt0d1s17-countt0d1b17)+countt0d1b17)<<'\\n';\n",
    "  gCtoall2->SetPoint(ii,748+ii,(Double_t)(nowfenchu*(countt0d1s17_Ccut-countt0d1b17_Ccut)+countt0d1b17_Ccut)/(Double_t)(nowfenchu*(countt0d1s17-countt0d1b17)+countt0d1b17));\n",
    "  //cout<<\"runnumber:\"<<790+ii<<'\\t'<<\"countall=\"<<nowfenchu*(countt0d1s17-countt0d1b17)+countt0d1b17<<'\\t'<<\"countall_C=\"<<nowfenchu*(countt0d1s17_Ccut-countt0d1b17_Ccut)+countt0d1b17_Ccut<<'\\t'<<(Double_t)(nowfenchu*(countt0d1s17_Ccut-countt0d1b17_Ccut)+countt0d1b17_Ccut)/(Double_t)(nowfenchu*(countt0d1s17-countt0d1b17)+countt0d1b17)<<'\\n';\n",
    "  //cout<<\"runnumber:\"<<799+ii<<'\\t'<<\"countt0d1s17_Ccut=\"<<countt0d1s17_Ccut<<'\\t'<<\"countt0d1b17_Ccut=\"<<countt0d1b17_Ccut<<'\\t'<<\"dcount=\"<<(Double_t)(countt0d1s17_Ccut-countt0d1b17_Ccut)/(Double_t)(countt0d1s17_Ccut)<<'\\n';\n",
    "  //cout<<\"runnumber:\"<<420+ii<<'\\t'<<\"t0all=\"<<t0all2<<'\\t'<<\"count=\"<<count2<<'\\n';\n",
    "  Crate[748+ii]=(Double_t)(nowfenchu*(countt0d1s17_Ccut-countt0d1b17_Ccut)+countt0d1b17_Ccut)/(Double_t)(nowfenchu*(countt0d1s17-countt0d1b17)+countt0d1b17);\n",
    "  tarrate[748+ii]=(Double_t)(nowfenchu*(countt0d1s17_tarcut-countt0d1b17_tarcut)+countt0d1b17_tarcut)/(Double_t)(nowfenchu*(countt0d1s17-countt0d1b17)+countt0d1b17);\n",
    "}"
   ]
  },
  {
   "cell_type": "code",
   "execution_count": null,
   "metadata": {},
   "outputs": [],
   "source": []
  },
  {
   "cell_type": "code",
   "execution_count": 5,
   "metadata": {},
   "outputs": [],
   "source": [
    "Double_t key=0;\n",
    "Double_t fenchu1=1;\n",
    "/*\n",
    "t0all1=100*(t0d1sall17-t0d1ball17);\n",
    "t0all1_Ccut=100*(t0d1sall17_Ccut-t0d1ball17_Ccut);\n",
    "t0all1_tarcut=100*(t0d1sall17_tarcut-t0d1ball17_tarcut);\n",
    "t0all1_Candtarcut=100*(t0d1sall17_Candtarcut-t0d1ball17_Candtarcut);\n",
    "*/\n",
    "/*\n",
    "t0all1=fenchu1*(t0d1sall1-t0d1ball1);//+100*(t0d1sall17-t0d1ball17);\n",
    "t0all1_Ccut=fenchu1*(t0d1sall1_Ccut-t0d1ball1_Ccut);//+100*(t0d1sall17_Ccut-t0d1ball17_Ccut);\n",
    "t0all1_tarcut=fenchu1*(t0d1sall1_tarcut-t0d1ball1_tarcut);//+100*(t0d1sall17_tarcut-t0d1ball17_tarcut);\n",
    "t0all1_Candtarcut=fenchu1*(t0d1sall1_Candtarcut-t0d1ball1_Candtarcut);//+100*(t0d1sall17_Candtarcut-t0d1ball17_Candtarcut);\n",
    "*/"
   ]
  },
  {
   "cell_type": "code",
   "execution_count": 6,
   "metadata": {},
   "outputs": [
    {
     "name": "stdout",
     "output_type": "stream",
     "text": [
      "t0all1=22022030035\tt0single=7420867103\tt0mid=6535806465\tt0both=6535806465\n"
     ]
    }
   ],
   "source": [
    "cout<<\"t0all1=\"<<t0all1<<'\\t'<<\"t0single=\"<<t0d1sall1<<'\\t'<<\"t0mid=\"<<t0d1mall1<<'\\t'<<\"t0both=\"<<t0d1ball1<<'\\n';"
   ]
  },
  {
   "cell_type": "code",
   "execution_count": 7,
   "metadata": {},
   "outputs": [
    {
     "name": "stdout",
     "output_type": "stream",
     "text": [
      "t0all1=22022030035\tt0single=2213005938\tt0mid=2158292959\tt0both=2158292959\n",
      "t0all1_Ccut=21320965473\tt0mid_Ccut=9958361490\n",
      "t0all1_tarcut=11309426380\tt0mid_tarcut=4736602690\n",
      "t0all1_Candtarcut=10918483632\tt0mid_Candtarcut=5435398219\n"
     ]
    }
   ],
   "source": [
    "cout<<\"t0all1=\"<<t0all1<<'\\t'<<\"t0single=\"<<t0d1sall17<<'\\t'<<\"t0mid=\"<<t0d1mall17<<'\\t'<<\"t0both=\"<<t0d1ball17<<'\\n';\n",
    "cout<<\"t0all1_Ccut=\"<<t0all1_Ccut<<'\\t'<<\"t0mid_Ccut=\"<<t0d1mall1_Ccut+t0d1mall17_Ccut<<'\\n';\n",
    "cout<<\"t0all1_tarcut=\"<<t0all1_tarcut<<'\\t'<<\"t0mid_tarcut=\"<<t0d1mall1_tarcut+t0d1mall17_tarcut<<'\\n';\n",
    "cout<<\"t0all1_Candtarcut=\"<<t0all1_Candtarcut<<'\\t'<<\"t0mid_Candtarcut=\"<<t0d1mall1_Candtarcut+t0d1mall17_Candtarcut<<'\\n';"
   ]
  },
  {
   "cell_type": "code",
   "execution_count": 8,
   "metadata": {},
   "outputs": [
    {
     "data": {
      "image/png": "[encoded data removed]",
      "text/plain": [
       "<IPython.core.display.Image object>"
      ]
     },
     "metadata": {},
     "output_type": "display_data"
    }
   ],
   "source": [
    "c1->Clear();\n",
    "gtartoall1->SetMarkerStyle(3);\n",
    "gtartoall1->Draw(\"ap\");\n",
    "c1->Draw();"
   ]
  },
  {
   "cell_type": "code",
   "execution_count": 9,
   "metadata": {},
   "outputs": [
    {
     "data": {
      "image/png": "[encoded data removed]",
      "text/plain": [
       "<IPython.core.display.Image object>"
      ]
     },
     "metadata": {},
     "output_type": "display_data"
    }
   ],
   "source": [
    "c1->Clear();\n",
    "gCtoall1->SetMarkerStyle(3);\n",
    "gCtoall1->Draw(\"ap\");\n",
    "c1->Draw();"
   ]
  },
  {
   "cell_type": "code",
   "execution_count": 10,
   "metadata": {},
   "outputs": [
    {
     "data": {
      "image/png": "[encoded data removed]",
      "text/plain": [
       "<IPython.core.display.Image object>"
      ]
     },
     "metadata": {},
     "output_type": "display_data"
    }
   ],
   "source": [
    "c1->Clear();\n",
    "gtartoall2->SetMarkerStyle(3);\n",
    "gtartoall2->Draw(\"ap\");\n",
    "c1->Draw();"
   ]
  },
  {
   "cell_type": "code",
   "execution_count": 11,
   "metadata": {},
   "outputs": [
    {
     "data": {
      "image/png": "[encoded data removed]",
      "text/plain": [
       "<IPython.core.display.Image object>"
      ]
     },
     "metadata": {},
     "output_type": "display_data"
    }
   ],
   "source": [
    "c1->Clear();\n",
    "gCtoall2->SetMarkerStyle(3);\n",
    "gCtoall2->Draw(\"ap\");\n",
    "c1->Draw();"
   ]
  },
  {
   "cell_type": "code",
   "execution_count": 12,
   "metadata": {},
   "outputs": [],
   "source": [
    "        ofstream write1;\n",
    "        TString outfileName = TString::Format(\"/home/zhuhy/JNBook/Experiment2022/taf/check/txt/16N_all_all_Crate_tarrate.txt\");\n",
    "        write1.open(outfileName.Data(), ios::out);\n",
    "        for(Int_t i=420; i<=603; i++)write1<< i<< \"\\t\" <<setprecision(10)<<Crate[i]<< \"\\t\" <<setprecision(10)<<tarrate[i]<<endl;\n",
    "        for(Int_t i=748; i<=809; i++)write1<< i<< \"\\t\" <<setprecision(10)<<Crate[i]<< \"\\t\" <<setprecision(10)<<tarrate[i]<<endl;\n",
    "        write1.close();"
   ]
  }
 ],
 "metadata": {
  "kernelspec": {
   "display_name": "ROOT C++",
   "language": "c++",
   "name": "root"
  },
  "language_info": {
   "codemirror_mode": "text/x-c++src",
   "file_extension": ".C",
   "mimetype": " text/x-c++src",
   "name": "c++"
  },
  "toc": {
   "base_numbering": 1,
   "nav_menu": {},
   "number_sections": true,
   "sideBar": true,
   "skip_h1_title": false,
   "title_cell": "Table of Contents",
   "title_sidebar": "Contents",
   "toc_cell": false,
   "toc_position": {},
   "toc_section_display": true,
   "toc_window_display": false
  }
 },
 "nbformat": 4,
 "nbformat_minor": 2
}
