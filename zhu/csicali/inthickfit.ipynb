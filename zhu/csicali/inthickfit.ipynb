{
 "cells": [
  {
   "cell_type": "code",
   "execution_count": 1,
   "metadata": {
    "scrolled": true
   },
   "outputs": [
    {
     "name": "stdout",
     "output_type": "stream",
     "text": [
      "\u001b[?1034h"
     ]
    }
   ],
   "source": [
    "//%jsroot on"
   ]
  },
  {
   "cell_type": "code",
   "execution_count": 2,
   "metadata": {},
   "outputs": [],
   "source": [
    "#define _15C 28\n",
    "#define NUM 100\n",
    "#define _N 4"
   ]
  },
  {
   "cell_type": "code",
   "execution_count": 3,
   "metadata": {},
   "outputs": [],
   "source": [
    "/******************/\n",
    "Int_t stripnum=0;\n",
    "/******************/"
   ]
  },
  {
   "cell_type": "code",
   "execution_count": 4,
   "metadata": {},
   "outputs": [],
   "source": [
    "        int start = 411;\n",
    "        int stop = 560;\n",
    "        TChain *fch;\n",
    "        fch = new TChain(\"tree\", \"tele\");\n",
    "        for (int i= start; i<=stop; i++){\n",
    "          TString fileName = TString::Format(\"/data/d1/zhuhy/lanzhou2022/getdatata/tele/tele%04d.root\" , i);\n",
    "          fch->AddFile(fileName.Data());\n",
    "        }"
   ]
  },
  {
   "cell_type": "code",
   "execution_count": 5,
   "metadata": {},
   "outputs": [],
   "source": [
    "TCanvas *c1=new TCanvas(\"c1\",\"c1\");"
   ]
  },
  {
   "cell_type": "code",
   "execution_count": 6,
   "metadata": {},
   "outputs": [],
   "source": [
    "Double_t xxs,ad3_thick[16];\n",
    "\n",
    "char str_thick[100]=\"/home/zhuhy/JNBook/Experiment2022/taf/csicali/txt/taf_ad0_thickreal.txt\";\n",
    "ifstream in_thick(str_thick);\n",
    "  if(in_thick.is_open()){\n",
    "//    getline(in,ss);\n",
    "    Int_t i=0; \n",
    "    while(i<16)\n",
    "    {\n",
    "      in_thick>>xxs>>ad3_thick[i];\n",
    "      i++;\n",
    "    }\n",
    "  }\n",
    "  in_thick.close();"
   ]
  },
  {
   "cell_type": "code",
   "execution_count": 7,
   "metadata": {},
   "outputs": [],
   "source": [
    "  string ss;\n",
    "  Double_t aa, bbb, e, dedx;\n",
    "  i=0;\n",
    "  Double_t E0=0,Etem=0,Esmall=0,E2=0,E=0,dE=0,x=0,dx=0.25;\n",
    "//E0为能量总值，E为能量实时记录值，E1为穿透第一块硅时的能量，E2为穿透第二块时的能量\n",
    "  Double_t sep[16][_N][NUM];\n",
    "  Double_t inthick[16][NUM];"
   ]
  },
  {
   "cell_type": "code",
   "execution_count": 8,
   "metadata": {},
   "outputs": [
    {
     "name": "stdout",
     "output_type": "stream",
     "text": [
      "num_ad3=0\n",
      "0: 89\n",
      "20: 89\n",
      "40: 89\n",
      "60: 89\n",
      "80: 89\n",
      "******************j=0*****************\n"
     ]
    }
   ],
   "source": [
    "TString  str_1H[4];\n",
    "str_1H[0]=TString::Format(\"/home/zhuhy/JNBook/15C_Etheta/TAT0_datacheck/PID/txt/4He-Si.txt\");\n",
    "str_1H[1]=TString::Format(\"/home/zhuhy/JNBook/15C_Etheta/TAT0_datacheck/PID/txt/4He-Al.txt\");\n",
    "str_1H[2]=TString::Format(\"/home/zhuhy/JNBook/15C_Etheta/TAT0_datacheck/PID/txt/4He-CsI.txt\");\n",
    "str_1H[3]=TString::Format(\"/home/zhuhy/JNBook/15C_Etheta/TAT0_datacheck/PID/txt/4He-Mylar.txt\");\n",
    "\n",
    "TGraph *g_1H[4];\n",
    "\n",
    "  ifstream in_1H(str_1H[0].Data());\n",
    "\n",
    "  g_1H[0]=new TGraph;//定义新的二维散点图(TGraph) g1\n",
    "  if(in_1H.is_open()){//检查文件是否存在\n",
    "//    getline(in,ss);\n",
    "    Int_t i=0; \n",
    "    while(!in_1H.eof())\n",
    "    {\n",
    "      in_1H>>aa>>bbb>>e>>dedx>>aa>>bbb>>aa>>bbb>>aa>>bbb>>aa>>bbb;\n",
    "      // 对照数据文件进行理解。一列一列地读入，提取第3、4列数据。\n",
    "      g_1H[0]->SetPoint(i++, e*4,dedx);//添加数据点到图中，能量单位为MeV/u，对C需乘以12.    \n",
    "    }\n",
    "  }\n",
    "  in_1H.close();\n",
    "\n",
    "  ifstream in1_1H(str_1H[1].Data());\n",
    "  g_1H[1]=new TGraph;\n",
    "  if(in1_1H.is_open()){\n",
    "//    getline(in1,ss);\n",
    "    i=0;\n",
    "    while(!in1_1H.eof())\n",
    "    {\n",
    "      in1_1H>>aa>>bbb>>e>>dedx>>aa>>bbb>>aa>>bbb>>aa>>bbb>>aa>>bbb;\n",
    "      g_1H[1]->SetPoint(i++, e*4,dedx);\n",
    "    }\n",
    "  }\n",
    "  in1_1H.close();\n",
    "\n",
    "\n",
    "  ifstream in2_1H(str_1H[2]);\n",
    "  g_1H[2]=new TGraph;\n",
    "  if(in2_1H.is_open()){\n",
    "//    getline(in1,ss);\n",
    "    i=0;\n",
    "    while(!in2_1H.eof())\n",
    "    {\n",
    "      in2_1H>>aa>>bbb>>e>>dedx>>aa>>bbb>>aa>>bbb>>aa>>bbb>>aa>>bbb;\n",
    "      g_1H[2]->SetPoint(i++, e*4,dedx);\n",
    "    }\n",
    "  }\n",
    "  in2_1H.close();\n",
    "\n",
    "  ifstream in3_1H(str_1H[3]);\n",
    "  g_1H[3]=new TGraph;\n",
    "  if(in3_1H.is_open()){\n",
    "//    getline(in1,ss);\n",
    "    i=0;\n",
    "    while(!in3_1H.eof())\n",
    "    {\n",
    "      in3_1H>>aa>>bbb>>e>>dedx>>aa>>bbb>>aa>>bbb>>aa>>bbb>>aa>>bbb;\n",
    "      g_1H[3]->SetPoint(i++, e*4,dedx);\n",
    "    }\n",
    "  }\n",
    "  in3_1H.close();\n",
    "\n",
    "\n",
    " //d[0]=ad3_thick[stripnum];\n",
    " //d[1]=1;\n",
    " //d[2]=ad3_thick[stripnum];\n",
    " Int_t k; //kind  0:Si 1:Al 2:Mylar\n",
    " Int_t num_ad3=0;\n",
    " Int_t ui;\n",
    "\n",
    "for(num_ad3=stripnum;num_ad3<stripnum+1;num_ad3++){\n",
    "     \n",
    "cout<<\"num_ad3=\"<<num_ad3<<'\\n';\n",
    "//cout<<ad3_thick[num_ad3]<<\" : \"<<ad4_thick[num_ad4]<<'\\n';\n",
    "     \n",
    "\n",
    " for(i=0;i<89;x=0)   //开始NUM次模拟\n",
    " {\n",
    "  Double_t d[_N-1];\n",
    "  d[0]=0.3/cos(i*3.1415927/180.);\n",
    "  d[1]=2./cos(i*3.1415927/180.);\n",
    "  d[2]=31000/cos(i*3.1415927/180.);\n",
    "  for(Int_t ii=1;ii<(_N-1);ii++)d[ii]=d[ii]+d[ii-1];\n",
    "  if(i%20==0)cout<<i<<\": 89\"<<'\\n';\n",
    "  i++;\n",
    "  //if(i>=NUM)break;\n",
    "  x=0;\n",
    "  //Esmall=rand()%1000;  //初始能量小数部分\n",
    "  E0=E=5.486;//=i*10./(Double_t)(NUM);\n",
    "  //+Esmall/1000;  \n",
    "  //E0=E=+Esmall/1000;  //能量随机值为300+3位小数\n",
    "  for(Int_t j=0;j<_N;j++)sep[num_ad3][j][i]=0;\n",
    "  sep[num_ad3][_N-1][i]=E0;\n",
    "  Etem=E0;\n",
    "  Int_t k=1;\n",
    "//cout<<\" Y1\"<<'\\n';\n",
    "     Int_t key=0;\n",
    "     ui=0;\n",
    "     x=0.;\n",
    "  while(1)\n",
    "    {\n",
    "      \n",
    " //     if(ui%500==0)cout<<x<<\"  \";\n",
    "     if((fabs(x-d[0])<=(dx/40.)||(x>=0&&x<d[0]))&&E<=0){sep[num_ad3][0][i]=Etem;Etem=0;break;}\n",
    "     else if(fabs(x-d[0])<=(dx/40.)&&E>0){if(k!=3){sep[num_ad3][0][i]=E0-E;Etem=E;}k=3;}\n",
    "\n",
    "     else if((fabs(x-d[1])<=(dx/2.)||(x>d[0]&&x<d[1]))&&E<=0){sep[num_ad3][1][i]=Etem;Etem=0;break;}\n",
    "     else if(fabs(x-d[1])<=(dx/2.)&&E>0){if(k!=2){sep[num_ad3][1][i]=Etem-E;Etem=E;}k=2;}\n",
    "\n",
    "     else if(((fabs(x-d[2])>(dx/40.)&&x>d[2])&&E<=0)){sep[num_ad3][2][i]=Etem;Etem=0;break;}\n",
    "     else if(((fabs(x-d[2])>(dx/40.)&&x>d[2])&&E>0)){sep[num_ad3][2][i]=Etem-E;Etem=0;break;}\n",
    "     else if(fabs(x-d[2])<=(dx/40.)&&E>0){if(k!=0){sep[num_ad3][2][i]=Etem-E;Etem=E;}k=0;}\n",
    "     \n",
    "     dE=g_1H[k]->Eval(E);\n",
    "     if(k==0&&k==2){\n",
    "     E=E-dE*dx;\n",
    "     x=x+dx;\n",
    "     if(E<=0&&key==0){inthick[num_ad3][i]=x-2.3;key=1;}\n",
    "     }\n",
    "     else {\n",
    "     E=E-dE*dx/20.;\n",
    "     x=x+dx/20.;\n",
    "     if(E<=0&&key==0){inthick[num_ad3][i]=x-2.3;key=1;}\n",
    "     }\n",
    "     //cout<<\"x=\"<<x<<'\\t'<<\"E=\"<<E<<'\\n';\n",
    "     ui++;\n",
    "    }\n",
    "    \n",
    "     //cout<<\"Num=\"<<i<<'\\t'<<\"Emax=\"<<E0<<'\\t'<<\"E=\"<<E<<'\\t'<<\"dE_Al=\"<<sep[num_ad3][0][i]<<'\\t'<<\"dE_mylar=\"<<sep[num_ad3][1][i]<<'\\t'<<\"dE_CsI=\"<<sep[num_ad3][2][i]<<'\\t'<<\"in thick=\"<<inthick[num_ad3][i]<<'\\n';\n",
    "  } \n",
    "  \n",
    "}\n",
    "\n",
    "//cout<<\"*************************************************************************************************************\"<<'\\n';\n",
    "\n",
    "  TGraph *calpid13_p[16];\n",
    "  TGraph *gointhick = new TGraph();\n",
    "  for(Int_t i=0;i<16;i++){\n",
    "        calpid13_p[i]=new TGraph();\n",
    "        //pid31_2[i][j]=new TGraph();\n",
    "        //cout<<\"i=\"<<i<<\" j=\"<<j<<'\\n';\n",
    "  }\n",
    "\n",
    "Int_t keypid=1;\n",
    "Int_t ip=0,i03=0,i23=0,i43=0,it=0;\n",
    "  for(Int_t j0=stripnum;j0<stripnum+1;j0++){\n",
    "      cout<<\"******************j=\"<<j0<<\"*****************\"<<'\\n';\n",
    "          for(Int_t i0=0;i0<89;){\n",
    "            if(keypid==1&&sep[j0][2][i0]>0){\n",
    "                calpid13_p[0]->SetPoint(ip++, sep[j0][2][i0],sep[j0][3][i0]);  \n",
    "                gointhick->SetPoint(it++, i0,inthick[j0][i0]);\n",
    "            }\n",
    "            i0++;\n",
    "      }\n",
    "      ip=0;\n",
    "      i03=0;\n",
    "      i23=0;\n",
    "      i43=0;\n",
    "      keypid=0;\n",
    "  }\n"
   ]
  },
  {
   "cell_type": "code",
   "execution_count": 9,
   "metadata": {},
   "outputs": [
    {
     "data": {
      "image/png": "[encoded data removed]",
      "text/plain": [
       "<IPython.core.display.Image object>"
      ]
     },
     "metadata": {},
     "output_type": "display_data"
    }
   ],
   "source": [
    "c1->Clear();\n",
    "calpid13_p[0]->SetMarkerStyle(3);\n",
    "calpid13_p[0]->Draw(\"ap\");\n",
    "c1->Draw();"
   ]
  },
  {
   "cell_type": "code",
   "execution_count": 10,
   "metadata": {},
   "outputs": [
    {
     "data": {
      "image/png": "[encoded data removed]",
      "text/plain": [
       "<IPython.core.display.Image object>"
      ]
     },
     "metadata": {},
     "output_type": "display_data"
    }
   ],
   "source": [
    "c1->Clear();\n",
    "gointhick->SetMarkerStyle(3);\n",
    "gointhick->Draw(\"ap\");\n",
    "c1->Draw();"
   ]
  },
  {
   "cell_type": "code",
   "execution_count": 11,
   "metadata": {},
   "outputs": [
    {
     "name": "stdout",
     "output_type": "stream",
     "text": [
      "E=5.486,dx=26.8375\n"
     ]
    }
   ],
   "source": [
    "cout<<\"E=5.486,dx=\"<<gointhick->Eval(5.486)<<'\\n';"
   ]
  },
  {
   "cell_type": "code",
   "execution_count": null,
   "metadata": {},
   "outputs": [],
   "source": []
  }
 ],
 "metadata": {
  "kernelspec": {
   "display_name": "ROOT C++",
   "language": "c++",
   "name": "root"
  },
  "language_info": {
   "codemirror_mode": "text/x-c++src",
   "file_extension": ".C",
   "mimetype": " text/x-c++src",
   "name": "c++"
  },
  "toc": {
   "base_numbering": 1,
   "nav_menu": {},
   "number_sections": true,
   "sideBar": true,
   "skip_h1_title": false,
   "title_cell": "Table of Contents",
   "title_sidebar": "Contents",
   "toc_cell": false,
   "toc_position": {},
   "toc_section_display": true,
   "toc_window_display": false
  }
 },
 "nbformat": 4,
 "nbformat_minor": 2
}
