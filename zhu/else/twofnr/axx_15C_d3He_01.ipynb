{
 "cells": [
  {
   "cell_type": "code",
   "execution_count": 1,
   "metadata": {},
   "outputs": [
    {
     "name": "stdout",
     "output_type": "stream",
     "text": [
      "\u001b[?1034h"
     ]
    }
   ],
   "source": [
    "//%jsroot on"
   ]
  },
  {
   "cell_type": "code",
   "execution_count": 2,
   "metadata": {},
   "outputs": [],
   "source": [
    "TCanvas *c1=new TCanvas(\"c1\",\"c1\");"
   ]
  },
  {
   "cell_type": "code",
   "execution_count": 3,
   "metadata": {
    "scrolled": true
   },
   "outputs": [],
   "source": [
    "Double_t out[1000];\n",
    "ifstream read1;\n",
    "read1.open(\"/home/zhuhy/JNBook/Experiment2022/taf/else/twofnr/atxt/15C_d3He_gs.txt\", ios::in);\n",
    "TGraph *gf=new TGraph();\n",
    "\n",
    "        if(!read1.is_open()){\n",
    "                cout<<\" Cannot find normParas\" <<endl;\n",
    "                return;\n",
    "        }\n",
    "        Int_t line = 0,countgf=0;\n",
    "        Double_t x,r,aa;\n",
    "        string ss;\n",
    "        while(!read1.eof()&&line<80){\n",
    "                read1>>x>>r>>aa;\n",
    "                gf->SetPoint(countgf++,x,r);\n",
    "                //cout<<x<<'\\t'<<r<<'\\n';\n",
    "                line++;\n",
    "        }\n",
    "        read1.close();\n"
   ]
  },
  {
   "cell_type": "code",
   "execution_count": 4,
   "metadata": {},
   "outputs": [
    {
     "name": "stdout",
     "output_type": "stream",
     "text": [
      "积分=1.49048\n"
     ]
    }
   ],
   "source": [
    "Double_t all2,all2r;\n",
    "TGraph *gfxx=new TGraph();\n",
    "TGraph *gfxxr=new TGraph();\n",
    "Int_t countgfxx=0,countgfxxr=0;\n",
    "for(Int_t ii=0;ii<200;ii+=1){\n",
    "    out[ii]=gf->Eval(1.07*(Double_t)(ii)/10.);\n",
    "    //gfxx->SetPoint(countgfxx++,(Double_t)(ii)/10.,-out[ii]);\n",
    "    //cout<<(Double_t)(ii)/10.<<'\\t'<<out[ii]<<'\\n';\n",
    "    if(ii*0.107>20)out[ii]=0;\n",
    "}\n",
    "for(Double_t ii=20;ii<30;ii+=0.1){\n",
    "    gfxx->SetPoint(countgfxx++,ii,0);\n",
    "    //cout<<ii<<'\\t'<<gf->Eval(ii)<<'\\n';\n",
    "}\n",
    "if(out[3]<0){\n",
    "    for(Int_t ii=0;ii<200;ii+=1){\n",
    "        out[ii]=-out[ii];\n",
    "    }\n",
    "}\n",
    "\n",
    "\n",
    "for(Int_t ii=0;ii<300;ii+=1){\n",
    "    //cout<<\"**********\"<<ii<<'\\t'<<out[ii]<<'\\n';\n",
    "        if(fabs(out[ii]-0)<0.00000000001)out[ii]=0.0;\n",
    "    //cout<<ii<<'\\t'<<out[ii]<<'\\n'<<'\\n';\n",
    "    gfxx->SetPoint(countgfxx++,1.07*(Double_t)(ii)/10.,out[ii]);\n",
    "    if(ii!=0)gfxxr->SetPoint(countgfxxr++,1.07*(Double_t)(ii)/10.,out[ii]/(1.07*(Double_t)(ii)/10.));\n",
    "    all2+=out[ii]*out[ii]*0.107;\n",
    "    out[ii]=out[ii]/(1.07*(Double_t)(ii)/10.);\n",
    "    }\n",
    "out[0]=gfxxr->Eval(0);\n",
    "//all2+=out[0]*out[0]*0.107;\n",
    "gfxxr->SetPoint(0,0,out[0]);\n",
    "cout<<\"积分=\"<<all2<<'\\n';"
   ]
  },
  {
   "cell_type": "code",
   "execution_count": 5,
   "metadata": {},
   "outputs": [],
   "source": [
    "for(Int_t ii=0;ii<300;ii+=1){\n",
    "    //cout<<\"**********\"<<ii<<'\\t'<<out[ii]<<'\\n';\n",
    "}"
   ]
  },
  {
   "cell_type": "code",
   "execution_count": 6,
   "metadata": {},
   "outputs": [],
   "source": [
    "/*\n",
    "TGraph *gfxx=new TGraph();\n",
    "Int_t countgfxx=0;\n",
    "for(Int_t ii=0;ii<300;ii+=1){\n",
    "    out[ii]=gf->Eval((Double_t)(ii)*0.0666666667);\n",
    "    //gfxx->SetPoint(countgfxx++,(Double_t)(ii)/10.,-out[ii]);\n",
    "    //cout<<(Double_t)(ii)/10.<<'\\t'<<out[ii]<<'\\n';\n",
    "}\n",
    "for(Double_t ii=30;ii<30;ii+=0.1){\n",
    "    gfxx->SetPoint(countgfxx++,ii,0);\n",
    "    //cout<<ii<<'\\t'<<gf->Eval(ii)<<'\\n';\n",
    "}\n",
    "if(out[3]<0){\n",
    "    for(Int_t ii=0;ii<300;ii+=1){\n",
    "        out[ii]=-out[ii];\n",
    "    }\n",
    "}\n",
    "for(Int_t ii=0;ii<300;ii+=1){\n",
    "    //cout<<\"**********\"<<ii<<'\\t'<<out[ii]<<'\\n';\n",
    "        if(fabs(out[ii]-0)<0.00000000001)out[ii]=0.0;\n",
    "    //cout<<ii<<'\\t'<<out[ii]<<'\\n'<<'\\n';\n",
    "    gfxx->SetPoint(countgfxx++,(Double_t)(ii)*0.0666666667,out[ii]);\n",
    "    }\n",
    "*/"
   ]
  },
  {
   "cell_type": "code",
   "execution_count": 7,
   "metadata": {},
   "outputs": [
    {
     "name": "stdout",
     "output_type": "stream",
     "text": [
      "积分=0.258183\t*r积分=0.996005\n"
     ]
    }
   ],
   "source": [
    "Double_t all3,all3r;\n",
    "\n",
    "ifstream read3;\n",
    "read3.open(\"/home/zhuhy/JNBook/Experiment2022/taf/else/twofnr/txt/15C_d3He_gs_twofnr.txt\", ios::in);\n",
    "TGraph *gf3=new TGraph();\n",
    "\n",
    "        if(!read3.is_open()){\n",
    "                cout<<\" Cannot find normParas\" <<endl;\n",
    "                return;\n",
    "        }\n",
    "        line = 0;\n",
    "        Int_t countgf3=0;\n",
    "        x=0.107;\n",
    "        while(!read3.eof()){\n",
    "                    read3>>aa>>r;\n",
    "                    gf3->SetPoint(countgf3++,x,r);\n",
    "                    all3+=0.107*r*r;\n",
    "                    all3r+=0.107*r*r*x*x;\n",
    "                    //cout<<x<<'\\t'<<r<<'\\n';\n",
    "                    x=x+0.107;\n",
    "        }\n",
    "        read3.close();\n",
    "cout<<\"积分=\"<<all3<<'\\t'<<\"*r积分=\"<<all3r<<'\\n';"
   ]
  },
  {
   "cell_type": "code",
   "execution_count": 8,
   "metadata": {},
   "outputs": [
    {
     "data": {
      "image/png": "[encoded data removed]",
      "text/plain": [
       "<IPython.core.display.Image object>"
      ]
     },
     "metadata": {},
     "output_type": "display_data"
    }
   ],
   "source": [
    "c1->Clear();\n",
    "gf->SetMarkerStyle(3);\n",
    "gfxx->SetMarkerStyle(3);\n",
    "gfxx->SetMarkerColor(2);\n",
    "gf3->SetMarkerStyle(3);\n",
    "gf3->SetMarkerColor(4);\n",
    "gf->Draw(\"ap\");\n",
    "gfxx->Draw(\"samep\");\n",
    "c1->SetLogy(1);\n",
    "gf3->Draw(\"samep\");\n",
    "c1->Draw();"
   ]
  },
  {
   "cell_type": "code",
   "execution_count": 9,
   "metadata": {},
   "outputs": [
    {
     "data": {
      "image/png": "[encoded data removed]",
      "text/plain": [
       "<IPython.core.display.Image object>"
      ]
     },
     "metadata": {},
     "output_type": "display_data"
    }
   ],
   "source": [
    "c1->Clear();\n",
    "gf->SetMarkerStyle(3);\n",
    "gfxxr->SetMarkerStyle(3);\n",
    "gfxxr->SetMarkerColor(2);\n",
    "gf3->SetMarkerStyle(3);\n",
    "gf3->SetMarkerColor(4);\n",
    "gfxxr->Draw(\"ap\");\n",
    "//gf->Draw(\"samep\");\n",
    "gf3->Draw(\"samep\");\n",
    "c1->Draw();"
   ]
  },
  {
   "cell_type": "code",
   "execution_count": 10,
   "metadata": {},
   "outputs": [],
   "source": [
    "/*\n",
    "        ofstream write1;\n",
    "        TString fileName = TString::Format(\"/home/zhuhy/JNBook/Experiment2022/taf/else/twofnr/atxt/rmy15Cd3He_f1.txt\");\n",
    "        write1.open(fileName.Data(), ios::out);\n",
    "        for(Int_t i=0; i<300; i++){\n",
    "    if(out[i]>=0)write1<<\"  \"<<setiosflags(ios_base::scientific)<<setprecision(7)<< out[i]  <<resetiosflags(ios_base::scientific);\n",
    "    else if(out[i]<0)write1<<\" \"<<setiosflags(ios_base::scientific)<<setprecision(7)<< out[i]  <<resetiosflags(ios_base::scientific);\n",
    "        if(i%5==4)write1<<endl;\n",
    "        }\n",
    "        write1.close();\n",
    "*/"
   ]
  }
 ],
 "metadata": {
  "kernelspec": {
   "display_name": "ROOT C++",
   "language": "c++",
   "name": "root"
  },
  "language_info": {
   "codemirror_mode": "text/x-c++src",
   "file_extension": ".C",
   "mimetype": " text/x-c++src",
   "name": "c++"
  },
  "toc": {
   "base_numbering": 1,
   "nav_menu": {},
   "number_sections": true,
   "sideBar": true,
   "skip_h1_title": false,
   "title_cell": "Table of Contents",
   "title_sidebar": "Contents",
   "toc_cell": false,
   "toc_position": {},
   "toc_section_display": true,
   "toc_window_display": false
  }
 },
 "nbformat": 4,
 "nbformat_minor": 2
}
