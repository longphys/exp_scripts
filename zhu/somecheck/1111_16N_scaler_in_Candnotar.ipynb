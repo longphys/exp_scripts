{
 "cells": [
  {
   "cell_type": "code",
   "execution_count": 1,
   "metadata": {},
   "outputs": [
    {
     "name": "stdout",
     "output_type": "stream",
     "text": [
      "\u001b[?1034h"
     ]
    }
   ],
   "source": [
    "//%jsroot on"
   ]
  },
  {
   "cell_type": "code",
   "execution_count": 2,
   "metadata": {},
   "outputs": [],
   "source": [
    "TCanvas *c1=new TCanvas;"
   ]
  },
  {
   "cell_type": "code",
   "execution_count": 3,
   "metadata": {},
   "outputs": [],
   "source": [
    "Double_t runtime_low[810],runtime_high[810];\n",
    "Int_t therunnumber;\n",
    "TGraph *gruntime = new TGraph();\n",
    "Double_t aaa,lowhour,lowsecond,highhour,highsecond,theday;\n",
    "ifstream inday(\"/home/zhuhy/JNBook/Experiment2022/taf/check/txt/16Ntxt/15Cand16N_allall_time_run.txt\");\n",
    "  if(inday.is_open()){\n",
    "    while(!inday.eof())\n",
    "    {\n",
    "      inday>>theday>>therunnumber>>lowhour>>lowsecond>>highhour>>highsecond;\n",
    "      theday=theday-20221100;\n",
    "      //cout<<theday<<'\\t'<<therunnumber<<'\\t'<<lowhour<<'\\t'<<lowsecond<<'\\t'<<highhour<<'\\t'<<lowsecond<<'\\n';\n",
    "      runtime_low[therunnumber] =theday*24+lowhour+lowsecond/60;\n",
    "      runtime_high[therunnumber]=theday*24+highhour+highsecond/60;\n",
    "      if(lowhour>highhour)runtime_high[therunnumber]+=24;\n",
    "      //cout<<\"runnumber=\"<<therunnumber<<'\\t'<<\"lowtime=\"<<runtime_low[therunnumber]<<'\\t'<<\"hightime=\"<<runtime_high[therunnumber]<<'\\t'<<runtime_high[therunnumber]-runtime_low[therunnumber]<<'\\n';\n",
    "      gruntime->SetPoint(therunnumber,therunnumber,runtime_high[therunnumber]-runtime_low[therunnumber]);\n",
    "      if(therunnumber==809)break;\n",
    "    }\n",
    "  }\n",
    "  inday.close();"
   ]
  },
  {
   "cell_type": "code",
   "execution_count": 4,
   "metadata": {},
   "outputs": [
    {
     "data": {
      "image/png": "[encoded data removed]",
      "text/plain": [
       "<IPython.core.display.Image object>"
      ]
     },
     "metadata": {},
     "output_type": "display_data"
    }
   ],
   "source": [
    "c1->Clear();\n",
    "gruntime->SetMarkerStyle(3);\n",
    "gruntime->Draw(\"ap\");\n",
    "c1->Draw();"
   ]
  },
  {
   "cell_type": "code",
   "execution_count": 5,
   "metadata": {},
   "outputs": [],
   "source": [
    "  TGraph *gaccpttedrate=new TGraph();\n",
    "Double_t accpttedrate[810],hhh,temprate;\n",
    "Int_t countrate=0;\n",
    "ifstream inr(\"/home/zhuhy/JNBook/Experiment2022/taf/check/txt/trigger_accepted_rate.txt\");\n",
    "  if(inr.is_open()){\n",
    "    while(!inr.eof())\n",
    "    {\n",
    "      inr>>therunnumber>>hhh>>hhh>>hhh>>hhh>>temprate;\n",
    "      accpttedrate[therunnumber]=temprate;\n",
    "      gaccpttedrate->SetPoint(countrate++,therunnumber,accpttedrate[therunnumber]);\n",
    "      //cout<<therunnumber<<'\\t'<<accpttedrate[therunnumber]<<'\\n';\n",
    "    }\n",
    "  }\n",
    "  inr.close();"
   ]
  },
  {
   "cell_type": "code",
   "execution_count": 6,
   "metadata": {},
   "outputs": [],
   "source": [
    "  TGraph *gCrate=new TGraph();\n",
    "  TGraph *gtarrate=new TGraph();\n",
    "  Double_t Crate[810],tarrate[810],tempCrate,temptarrate;\n",
    "  Int_t countrateC=0,countratetar=0;\n",
    "ifstream inr1(\"/home/zhuhy/JNBook/Experiment2022/taf/check/txt/16N_all_all_Crate_tarrate.txt\");\n",
    "  if(inr1.is_open()){\n",
    "    while(!inr1.eof())\n",
    "    {\n",
    "      inr1>>therunnumber>>tempCrate>>temptarrate;\n",
    "      Crate[therunnumber]=tempCrate;\n",
    "      tarrate[therunnumber]=temptarrate;\n",
    "      gCrate->SetPoint(countrateC++,therunnumber,Crate[therunnumber]);\n",
    "      gtarrate->SetPoint(countratetar++,therunnumber,tarrate[therunnumber]);\n",
    "      //cout<<therunnumber<<'\\t'<<rate[therunnumber]<<'\\n';\n",
    "    }\n",
    "  }\n",
    "  inr1.close();"
   ]
  },
  {
   "cell_type": "code",
   "execution_count": 7,
   "metadata": {
    "scrolled": false
   },
   "outputs": [
    {
     "name": "stdout",
     "output_type": "stream",
     "text": [
      "t=90.055\trunnumber=460\tfenchu= 15\tt0Sall=554610\tt0dMall=259701\tt0S=31080\tt0dM=14803\n",
      "t=90.0828\trunnumber=460\tfenchu= 15\tt0Sall=3.55584e+06\tt0dMall=1.669e+06\tt0S=31155\tt0dM=14458\n",
      "t=90.1106\trunnumber=460\tfenchu= 15\tt0Sall=6.59556e+06\tt0dMall=3.09624e+06\tt0S=31740\tt0dM=15241\n",
      "t=90.1383\trunnumber=460\tfenchu= 15\tt0Sall=9.72609e+06\tt0dMall=4.56887e+06\tt0S=31905\tt0dM=15279\n",
      "t=90.1661\trunnumber=460\tfenchu= 15\tt0Sall=1.28961e+07\tt0dMall=6.05851e+06\tt0S=32055\tt0dM=15051\n",
      "t=90.1939\trunnumber=460\tfenchu= 15\tt0Sall=1.6043e+07\tt0dMall=7.53259e+06\tt0S=30990\tt0dM=14642\n",
      "t=90.2217\trunnumber=460\tfenchu= 15\tt0Sall=1.91636e+07\tt0dMall=9.00328e+06\tt0S=31125\tt0dM=14419\n",
      "t=90.2494\trunnumber=460\tfenchu= 15\tt0Sall=2.22948e+07\tt0dMall=1.04814e+07\tt0S=32100\tt0dM=15179\n",
      "t=90.2772\trunnumber=460\tfenchu= 15\tt0Sall=2.51837e+07\tt0dMall=1.18463e+07\tt0S=31215\tt0dM=14773\n",
      "t=90.305\trunnumber=460\tfenchu= 15\tt0Sall=2.82822e+07\tt0dMall=1.32999e+07\tt0S=31725\tt0dM=14593\n",
      "t=90.3328\trunnumber=460\tfenchu= 15\tt0Sall=3.13998e+07\tt0dMall=1.47631e+07\tt0S=28845\tt0dM=13597\n",
      "t=90.3606\trunnumber=460\tfenchu= 15\tt0Sall=3.4352e+07\tt0dMall=1.61464e+07\tt0S=30720\tt0dM=13933\n",
      "t=90.3883\trunnumber=460\tfenchu= 15\tt0Sall=3.73774e+07\tt0dMall=1.75698e+07\tt0S=30660\tt0dM=14302\n",
      "t=90.4161\trunnumber=460\tfenchu= 15\tt0Sall=4.04328e+07\tt0dMall=1.90178e+07\tt0S=30405\tt0dM=14169\n",
      "t=90.4439\trunnumber=460\tfenchu= 15\tt0Sall=4.35084e+07\tt0dMall=2.04585e+07\tt0S=30840\tt0dM=14142\n",
      "t=90.4717\trunnumber=460\tfenchu= 15\tt0Sall=4.65988e+07\tt0dMall=2.19122e+07\tt0S=30615\tt0dM=14362\n",
      "t=90.4994\trunnumber=460\tfenchu= 15\tt0Sall=4.96692e+07\tt0dMall=2.33473e+07\tt0S=30870\tt0dM=13976\n",
      "t=90.5272\trunnumber=460\tfenchu= 15\tt0Sall=5.27743e+07\tt0dMall=2.4819e+07\tt0S=31545\tt0dM=14560\n",
      "t=90.555\trunnumber=460\tfenchu= 15\tt0Sall=5.58764e+07\tt0dMall=2.62697e+07\tt0S=31620\tt0dM=14708\n",
      "t=90.5828\trunnumber=460\tfenchu= 15\tt0Sall=5.89199e+07\tt0dMall=2.76952e+07\tt0S=30195\tt0dM=14179\n",
      "t=90.6106\trunnumber=460\tfenchu= 15\tt0Sall=6.19827e+07\tt0dMall=2.9131e+07\tt0S=30840\tt0dM=14411\n",
      "t=90.6383\trunnumber=460\tfenchu= 15\tt0Sall=6.50372e+07\tt0dMall=3.05743e+07\tt0S=30675\tt0dM=14002\n",
      "t=90.6661\trunnumber=460\tfenchu= 15\tt0Sall=6.80805e+07\tt0dMall=3.20067e+07\tt0S=30675\tt0dM=14460\n",
      "t=90.6939\trunnumber=460\tfenchu= 15\tt0Sall=7.11473e+07\tt0dMall=3.34445e+07\tt0S=31125\tt0dM=14623\n",
      "t=90.7217\trunnumber=460\tfenchu= 15\tt0Sall=7.42527e+07\tt0dMall=3.48995e+07\tt0S=31020\tt0dM=14292\n",
      "t=90.7494\trunnumber=460\tfenchu= 15\tt0Sall=7.73793e+07\tt0dMall=3.63557e+07\tt0S=30825\tt0dM=14255\n",
      "t=90.7772\trunnumber=460\tfenchu= 15\tt0Sall=8.04684e+07\tt0dMall=3.77991e+07\tt0S=30600\tt0dM=14127\n",
      "t=90.805\trunnumber=460\tfenchu= 15\tt0Sall=8.35169e+07\tt0dMall=3.92303e+07\tt0S=30030\tt0dM=14474\n",
      "t=90.8328\trunnumber=460\tfenchu= 15\tt0Sall=8.65802e+07\tt0dMall=4.0663e+07\tt0S=30825\tt0dM=14240\n",
      "t=90.8606\trunnumber=460\tfenchu= 15\tt0Sall=8.96656e+07\tt0dMall=4.21076e+07\tt0S=31065\tt0dM=14822\n",
      "t=90.8883\trunnumber=460\tfenchu= 15\tt0Sall=9.2708e+07\tt0dMall=4.3533e+07\tt0S=30885\tt0dM=14582\n",
      "t=90.9161\trunnumber=460\tfenchu= 15\tt0Sall=9.57717e+07\tt0dMall=4.49759e+07\tt0S=30600\tt0dM=14314\n",
      "t=90.9439\trunnumber=460\tfenchu= 15\tt0Sall=9.88608e+07\tt0dMall=4.64158e+07\tt0S=31395\tt0dM=14834\n"
     ]
    }
   ],
   "source": [
    "  Double_t C15CH2fenchu1=3;\n",
    "  Double_t key=0;\n",
    "  Int_t nowfenchu;\n",
    "  int i;\n",
    "  TGraph *gt0M=new TGraph();\n",
    "  TGraph *gt0MB=new TGraph();\n",
    "  TGraph *gt0S=new TGraph();\n",
    "  TGraph *gxtaf=new TGraph();\n",
    "  TGraph *gvtaf=new TGraph();\n",
    "  TGraph *gt1d1=new TGraph();\n",
    "  Double_t th;\n",
    "  Double_t a3,a2,tmp1,tmp2,tmp3,tmp4,tmp5,ttime;\n",
    "  Double_t t0dMall[810],t0MBall[810],t0sall[810],t0dM,t0MB,t0s;\n",
    "  Double_t xtafall[810],vtafall[810],t1d1all[810];\n",
    "  Double_t t0d1M,t0d2M,taf2,taf3,taf4,taf5,vtaf,t1d1,xtaf,t1andt2;\n",
    "  Double_t t0realall[810],t0realall_M[810];\n",
    "  for(Int_t ii=0;ii<810;ii++){\n",
    "      t0dMall[ii]=0;\n",
    "      t0MBall[ii]=0;\n",
    "      t0sall[ii]=0;\n",
    "      t0realall[ii]=0;\n",
    "  }\n",
    "\n",
    "  TString fileName;\n",
    "Int_t thecount=0;\n",
    "therunnumber=0;\n",
    "for(Int_t iii=0;iii<=7;iii++){\n",
    "  fileName = TString::Format(\"/data/d1/share/pwl/scaler-data/202211%02d.txt\",iii+2);\n",
    "  ifstream in(fileName.Data());\n",
    "  if(in.is_open()){\n",
    "    while(!in.eof())\n",
    "    {\n",
    "      in>>ttime>>tmp2>>tmp3>>tmp4>>t0s>>t0dM>>t0d1M>>t0d2M>>tmp4>>taf2\n",
    "        >>taf3>>taf4>>taf5>>vtaf>>tmp5>>tmp1>>t0MB>>t1d1>>xtaf>>tmp5\n",
    "        >>tmp1>>t1andt2>>tmp3>>tmp4>>tmp5>>tmp1>>a3>>tmp3>>tmp4>>tmp5\n",
    "        >>tmp1>>tmp2>>tmp3;\n",
    "        th=ttime/3600.+24.*(iii+2);\n",
    "        for(Int_t ii=0;ii<184;ii++)if(th>runtime_low[420+ii]&&th<runtime_high[420+ii])therunnumber=420+ii;\n",
    "        if(th>runtime_high[603])therunnumber=0;\n",
    "        if(therunnumber==420)nowfenchu=500;\n",
    "        else if(therunnumber==421)nowfenchu=10;\n",
    "        else if(therunnumber==422||therunnumber==423)nowfenchu=5;\n",
    "        else if(therunnumber==424||therunnumber==425)nowfenchu=1;\n",
    "        else if(therunnumber==426)nowfenchu=5;\n",
    "        else if(therunnumber==427)nowfenchu=2;\n",
    "        else if(therunnumber>=428&&therunnumber<=453)nowfenchu=3;\n",
    "        else if(therunnumber==454)nowfenchu=10;\n",
    "        else if(therunnumber>=455&&therunnumber<=457)nowfenchu=12;\n",
    "        else if(therunnumber>=458&&therunnumber<=562)nowfenchu=15;\n",
    "        else if(therunnumber>=563)nowfenchu=4;\n",
    "        thecount++;\n",
    "        \n",
    "        t0dMall[therunnumber]+=t0dM;\n",
    "        t0MBall[therunnumber]+=t0MB;\n",
    "        if(t0s*nowfenchu<100000)t0sall[therunnumber]+=t0s*nowfenchu;\n",
    "        xtafall[therunnumber]+=xtaf;\n",
    "        vtafall[therunnumber]+=vtaf;\n",
    "        t1d1all[therunnumber]+=t1d1;\n",
    "        if(thecount%100==0&&therunnumber==460)cout<<\"t=\"<<th<<'\\t'<<\"runnumber=\"<<therunnumber<<\"\\t\"<<\"fenchu= \"\n",
    "            <<nowfenchu<<'\\t'<<\"t0Sall=\"<<t0sall[therunnumber]<<'\\t'<<\"t0dMall=\"<<t0MBall[therunnumber]\n",
    "            <<'\\t'<<\"t0S=\"<<t0s*nowfenchu<<'\\t'<<\"t0dM=\"<<t0MB<<'\\n';\n",
    "    }\n",
    "  }\n",
    "  in.close();\n",
    "}\n",
    "\n",
    "therunnumber=0;\n",
    "thecount=0;\n",
    "for(Int_t iii=0;iii<=3;iii++){\n",
    "  fileName = TString::Format(\"/data/d1/share/pwl/scaler-data/202211%02d.txt\",iii+14);\n",
    "  ifstream in(fileName.Data());\n",
    "  if(in.is_open()){\n",
    "    while(!in.eof())\n",
    "    {\n",
    "      in>>ttime>>tmp2>>tmp3>>tmp4>>t0s>>t0dM>>t0d1M>>t0d2M>>tmp4>>taf2\n",
    "        >>taf3>>taf4>>taf5>>vtaf>>tmp5>>tmp1>>t0MB>>t1d1>>xtaf>>tmp5\n",
    "        >>tmp1>>t1andt2>>tmp3>>tmp4>>tmp5>>tmp1>>a3>>tmp3>>tmp4>>tmp5\n",
    "        >>tmp1>>tmp2>>tmp3;\n",
    "        th=ttime/3600.+24.*(iii+14);\n",
    "        for(Int_t ii=0;ii<61;ii++)if(th>runtime_low[748+ii]&&th<runtime_high[748+ii])therunnumber=748+ii;\n",
    "        nowfenchu=100;\n",
    "        thecount++;\n",
    "        t0dMall[therunnumber]+=t0dM;\n",
    "        t0MBall[therunnumber]+=t0MB;\n",
    "        t0sall[therunnumber]+=t0s*nowfenchu;\n",
    "        xtafall[therunnumber]+=xtaf;\n",
    "        vtafall[therunnumber]+=vtaf;\n",
    "        t1d1all[therunnumber]+=t1d1;\n",
    "\n",
    "        //if(therunnumber==752&&therunnumber<=808&thecount%50==0)cout<<\"t=\"<<th<<'\\t'<<\"runnumber=\"<<therunnumber<<'\\t'<<\"t0Sall=\"<<t0sall[therunnumber]<<'\\t'<<\"t0S=\"<<t0s*nowfenchu<<'\\n';\n",
    "    }\n",
    "  }\n",
    "  in.close();\n",
    "}"
   ]
  },
  {
   "cell_type": "code",
   "execution_count": 8,
   "metadata": {},
   "outputs": [],
   "source": [
    "  TGraph *gMBtoM=new TGraph();\n",
    "  Int_t count=0;\n",
    "  Int_t countt0S=0;\n",
    "  Double_t t0dMallall1,t0MBallall1;\n",
    "  Double_t t0dMallall2,t0MBallall2;\n",
    "\n",
    "  for(Int_t ii=420;ii<=603;ii++){\n",
    "    //if((runtime_high[ii]-runtime_low[ii])<0.25){cout<<ii<<'\\t'<<\"too small run to count!\"<<'\\n';continue;}\n",
    "    //cout<<ii<<'\\t'<<runtime_high[ii]-runtime_low[ii]<<'\\t'<<t0sall[ii]<<'\\n';\n",
    "    gt0S->SetPoint(countt0S++,ii,t0sall[ii]);\n",
    "    gMBtoM->SetPoint(count++,ii,(Double_t)(t0MBall[ii])/(Double_t)(t0dMall[ii]));\n",
    "    t0dMallall1+=t0dMall[ii];\n",
    "    t0MBallall1+=t0MBall[ii];\n",
    "    //cout<<ii<<'\\t'<<t0sall[ii]<<'\\t'<<t0dMall[ii]<<'\\t'<<t0MBall[ii]<<'\\t'<<(Double_t)(t0MBall[ii])/(Double_t)(t0dMall[ii])<<'\\n';\n",
    "  }\n",
    "\n",
    "  for(Int_t ii=748;ii<809;ii++){\n",
    "    //if((runtime_high[ii]-runtime_low[ii])<0.25){cout<<ii<<'\\t'<<\"too small run to count!\"<<'\\n';continue;}\n",
    "    //cout<<ii<<'\\t'<<runtime_high[ii]-runtime_low[ii]<<'\\t'<<t0sall[ii]<<'\\n';\n",
    "    gt0S->SetPoint(countt0S++,ii,t0sall[ii]);\n",
    "    //cout<<ii<<'\\t'<<t0sall[ii]<<'\\n';\n",
    "    gMBtoM->SetPoint(count++,ii,(Double_t)(t0MBall[ii])/(Double_t)(t0dMall[ii]));\n",
    "    t0dMallall2+=t0dMall[ii];\n",
    "    t0MBallall2+=t0MBall[ii];\n",
    "    //cout<<ii<<'\\t'<<t0sall[ii]<<'\\t'<<t0dMall[ii]<<'\\t'<<t0MBall[ii]<<'\\t'<<(Double_t)(t0MBall[ii])/(Double_t)(t0dMall[ii])<<'\\n';\n",
    "  }\n"
   ]
  },
  {
   "cell_type": "code",
   "execution_count": 9,
   "metadata": {},
   "outputs": [
    {
     "data": {
      "image/png": "[encoded data removed]",
      "text/plain": [
       "<IPython.core.display.Image object>"
      ]
     },
     "metadata": {},
     "output_type": "display_data"
    }
   ],
   "source": [
    "c1->Clear();\n",
    "gt0S->SetMarkerStyle(3);\n",
    "gt0S->Draw(\"ap\");\n",
    "c1->Draw();"
   ]
  },
  {
   "cell_type": "code",
   "execution_count": 10,
   "metadata": {},
   "outputs": [
    {
     "data": {
      "image/png": "[encoded data removed]",
      "text/plain": [
       "<IPython.core.display.Image object>"
      ]
     },
     "metadata": {},
     "output_type": "display_data"
    },
    {
     "name": "stdout",
     "output_type": "stream",
     "text": [
      "run 420~452 ave t0MB/t0dM = 0.887901\n",
      "run 799~809 ave t0MB/t0dM = 0.924655\n"
     ]
    }
   ],
   "source": [
    "c1->Clear();\n",
    "gMBtoM->SetMarkerStyle(3);\n",
    "gMBtoM->Draw(\"ap\");\n",
    "c1->Draw();\n",
    "cout<<\"run 420~452 ave t0MB/t0dM = \"<<t0MBallall1/t0dMallall1<<'\\n';\n",
    "cout<<\"run 799~809 ave t0MB/t0dM = \"<<t0MBallall2/t0dMallall2<<'\\n';"
   ]
  },
  {
   "cell_type": "code",
   "execution_count": 11,
   "metadata": {},
   "outputs": [
    {
     "data": {
      "image/png": "[encoded data removed]",
      "text/plain": [
       "<IPython.core.display.Image object>"
      ]
     },
     "metadata": {},
     "output_type": "display_data"
    }
   ],
   "source": [
    "c1->Clear();\n",
    "gaccpttedrate->SetMarkerStyle(3);\n",
    "gaccpttedrate->Draw(\"ap\");\n",
    "c1->Draw();"
   ]
  },
  {
   "cell_type": "code",
   "execution_count": 12,
   "metadata": {},
   "outputs": [
    {
     "data": {
      "image/png": "[encoded data removed]",
      "text/plain": [
       "<IPython.core.display.Image object>"
      ]
     },
     "metadata": {},
     "output_type": "display_data"
    }
   ],
   "source": [
    "c1->Clear();\n",
    "gCrate->SetMarkerStyle(3);\n",
    "gCrate->Draw(\"ap\");\n",
    "c1->Draw();"
   ]
  },
  {
   "cell_type": "code",
   "execution_count": 13,
   "metadata": {},
   "outputs": [
    {
     "data": {
      "image/png": "[encoded data removed]",
      "text/plain": [
       "<IPython.core.display.Image object>"
      ]
     },
     "metadata": {},
     "output_type": "display_data"
    }
   ],
   "source": [
    "c1->Clear();\n",
    "gtarrate->SetMarkerStyle(3);\n",
    "gtarrate->Draw(\"ap\");\n",
    "c1->Draw();"
   ]
  },
  {
   "cell_type": "code",
   "execution_count": 14,
   "metadata": {
    "scrolled": false
   },
   "outputs": [],
   "source": [
    "  TGraph *gt0realall=new TGraph();\n",
    "  TGraph *grate_d_to_s=new TGraph();\n",
    "Int_t coungtrate_d_to_s=0;\n",
    "Int_t countrealall=0;\n",
    "long C15CH2all1=0,C15CH2all2=0;\n",
    "long C15CD2all1=0,C15CD2all1_0=0,C15CD2all1_1=0,C15CD2all2=0;\n",
    "long C15Call1=0,C15Call2=0;\n",
    "long C15notarall1=0,C15notarall2=0;\n",
    "long N16CH2all=0;\n",
    "long N16CD2all=0;\n",
    "long N16Call=0;\n",
    "long N16notarall=0;\n",
    "\n",
    "long N16CD2all_M=0;\n",
    "long C15CD2all1_M=0,C15CD2all1_0_M=0,C15CD2all1_1_M=0;\n",
    "long C15Call1_M=0;\n",
    "\n",
    "  for(Int_t ii=0;ii<809;ii++){\n",
    "      if(ii==480||ii==491)continue;\n",
    "      //*accpttedrate[ii]\n",
    "      t0realall[ii]=accpttedrate[ii]*t0sall[ii]* Crate[ii]*tarrate[ii]*(Double_t)(t0MBall[ii])/((Double_t)(t0dMall[ii])*0.95);\n",
    "    t0realall_M[ii]=accpttedrate[ii]*t0MBall[ii]*Crate[ii]*tarrate[ii]/0.95;\n",
    "      if((ii>=420&&ii<=603)||(ii>=748&&ii<=808)){\n",
    "          if(t0dMall[ii]/t0sall[ii]<1)grate_d_to_s->SetPoint(coungtrate_d_to_s++,ii,t0dMall[ii]/t0sall[ii]);\n",
    "          //cout<<\"run number= \"<<ii<<'\\t'<<\"rate= \"<<t0dMall[ii]/t0sall[ii]<<'\\t'<<t0dMall[ii]<<'\\t'<<t0sall[ii]<<'\\n';\n",
    "      }\n",
    "      //if((ii>=420&&ii<=603)||(ii>=748&&ii<=808))cout<<ii<<'\\t'<<t0realall[ii]<<'\\t'<<t0sall[ii]<<'\\t'<<Crate[ii]<<'\\t'<<tarrate[ii]<<'\\t'<<accpttedrate[ii]<<'\\t'<<(Double_t)(t0MBall[ii])/(Double_t)(t0dMall[ii])<<'\\n';\n",
    "      if((ii>=420&&ii<=603)||(ii>=748&&ii<=808))gt0realall->SetPoint(countrealall++,ii,t0realall[ii]);\n",
    "      if(ii>=420&&ii<=452)C15CH2all1+=t0realall[ii];\n",
    "      if(ii>=453&&ii<=530)C15CD2all1+=t0realall[ii];\n",
    "      if(ii>=453&&ii<=492)C15CD2all1_0+=t0realall[ii];\n",
    "      if(ii>=493&&ii<=530)C15CD2all1_1+=t0realall[ii];\n",
    "      if(ii>=531&&ii<=551)C15Call1+=t0realall[ii];\n",
    "      if(ii>=552&&ii<=555)C15notarall1+=t0realall[ii];\n",
    "      if(ii>=748&&ii<=789&&ii!=766)C15CD2all2+=t0realall[ii];\n",
    "      if(ii>=790&&ii<=791)C15notarall2+=t0realall[ii];\n",
    "      if(ii==792||ii==798)C15Call2+=t0realall[ii];\n",
    "      if(ii>=799&&ii<=808)C15CH2all2+=t0realall[ii];\n",
    "      \n",
    "      \n",
    "      if(ii>=563&&ii<=586)N16CD2all+=t0realall[ii];\n",
    "      if(ii>=587&&ii<=590)N16Call+=t0realall[ii];\n",
    "      if(ii>=591&&ii<=601&&ii!=598&&ii!=599)N16CH2all+=t0realall[ii];\n",
    "      if(ii>=602&&ii<=603)N16notarall+=t0realall[ii];\n",
    "      \n",
    "    \n",
    "      if(ii>=453&&ii<=530)C15CD2all1_M+=t0realall_M[ii];\n",
    "      if(ii>=453&&ii<=492)C15CD2all1_0_M+=t0realall_M[ii];\n",
    "      if(ii>=493&&ii<=530)C15CD2all1_1_M+=t0realall_M[ii];   \n",
    "      if(ii>=531&&ii<=551)C15Call1_M+=t0realall_M[ii];   \n",
    "\n",
    "  }"
   ]
  },
  {
   "cell_type": "code",
   "execution_count": 15,
   "metadata": {},
   "outputs": [
    {
     "data": {
      "image/png": "[encoded data removed]",
      "text/plain": [
       "<IPython.core.display.Image object>"
      ]
     },
     "metadata": {},
     "output_type": "display_data"
    },
    {
     "name": "stdout",
     "output_type": "stream",
     "text": [
      "*******CD2 双举**********\n",
      "1278129377\t562024962\t716104415\n",
      "*******C 双举**********\n",
      "397004004\n",
      "*******CD2**********\n",
      "2605273136\t1107434523\t1497838613\n",
      "2465745984\n",
      "5071019120\n",
      "*******CH2**********\n",
      "906760843\n",
      "647551017\n",
      "1554311860\n",
      "*******C**********\n",
      "800650612\n",
      "143590001\n",
      "1448201629\n",
      "*******notar**********\n",
      "142167942\n",
      "136309276\n",
      "278477218\n",
      "*******N16 CD2**********\n",
      "2308484346\n",
      "*******N16 CH2**********\n",
      "1043709332\n",
      "*******N16 C**********\n",
      "438779627\n",
      "*******N16 notar**********\n",
      "134737943\n"
     ]
    }
   ],
   "source": [
    "c1->Clear();\n",
    "gt0realall->SetMarkerStyle(3);\n",
    "gt0realall->Draw(\"ap\");\n",
    "c1->Draw();\n",
    "cout<<\"*******CD2 双举**********\"<<'\\n';\n",
    "cout<<C15CD2all1_M<<'\\t'<<C15CD2all1_0_M<<'\\t'<<C15CD2all1_1_M<<'\\n';\n",
    "cout<<\"*******C 双举**********\"<<'\\n';\n",
    "cout<<C15Call1_M<<'\\n';\n",
    "cout<<\"*******CD2**********\"<<'\\n';\n",
    "cout<<C15CD2all1<<'\\t'<<C15CD2all1_0<<'\\t'<<C15CD2all1_1<<'\\n';\n",
    "cout<<C15CD2all2<<'\\n';\n",
    "cout<<C15CD2all1+C15CD2all2<<'\\n';\n",
    "cout<<\"*******CH2**********\"<<'\\n';\n",
    "cout<<C15CH2all1<<'\\n';\n",
    "cout<<C15CH2all2<<'\\n';\n",
    "cout<<C15CH2all1+C15CH2all2<<'\\n';\n",
    "cout<<\"*******C**********\"<<'\\n';\n",
    "cout<<C15Call1<<'\\n';\n",
    "cout<<C15Call2<<'\\n';\n",
    "cout<<C15Call1+C15CH2all2<<'\\n';\n",
    "cout<<\"*******notar**********\"<<'\\n';\n",
    "cout<<C15notarall1<<'\\n';\n",
    "cout<<C15notarall2<<'\\n';\n",
    "cout<<C15notarall1+C15notarall2<<'\\n';\n",
    "\n",
    "cout<<\"*******N16 CD2**********\"<<'\\n';\n",
    "cout<<N16CD2all<<'\\n';\n",
    "cout<<\"*******N16 CH2**********\"<<'\\n';\n",
    "cout<<N16CH2all<<'\\n';\n",
    "cout<<\"*******N16 C**********\"<<'\\n';\n",
    "cout<<N16Call<<'\\n';\n",
    "cout<<\"*******N16 notar**********\"<<'\\n';\n",
    "cout<<N16notarall<<'\\n';"
   ]
  },
  {
   "cell_type": "code",
   "execution_count": 16,
   "metadata": {},
   "outputs": [
    {
     "data": {
      "image/png": "[encoded data removed]",
      "text/plain": [
       "<IPython.core.display.Image object>"
      ]
     },
     "metadata": {},
     "output_type": "display_data"
    }
   ],
   "source": [
    "c1->Clear();\n",
    "grate_d_to_s->SetMarkerStyle(3);\n",
    "grate_d_to_s->Draw(\"ap\");\n",
    "c1->Draw();"
   ]
  },
  {
   "cell_type": "code",
   "execution_count": 17,
   "metadata": {},
   "outputs": [],
   "source": [
    "/*\n",
    "        ofstream write1;\n",
    "        TString outfileName = TString::Format(\"/home/zhuhy/JNBook/Experiment2022/taf/check/txt/15C_CH2_tafandt1.txt\");\n",
    "        write1.open(outfileName.Data(), ios::out);\n",
    "        for(Int_t i=420; i<=452; i++)write1<< i<< \"\\t\" <<setprecision(10)<<xtafall[i]<<\"\\t\" <<setprecision(10)<<vtafall[i]<<'\\t'<<setprecision(10)<<t1d1all[i]<<endl;\n",
    "        for(Int_t i=799; i<=809; i++)write1<< i<< \"\\t\" <<setprecision(10)<<xtafall[i]<<\"\\t\" <<setprecision(10)<<vtafall[i]<<'\\t'<<setprecision(10)<<t1d1all[i]<<endl;\n",
    "        write1.close();\n",
    "*/"
   ]
  }
 ],
 "metadata": {
  "kernelspec": {
   "display_name": "ROOT C++",
   "language": "c++",
   "name": "root"
  },
  "language_info": {
   "codemirror_mode": "text/x-c++src",
   "file_extension": ".C",
   "mimetype": " text/x-c++src",
   "name": "c++"
  },
  "toc": {
   "base_numbering": 1,
   "nav_menu": {},
   "number_sections": true,
   "sideBar": true,
   "skip_h1_title": false,
   "title_cell": "Table of Contents",
   "title_sidebar": "Contents",
   "toc_cell": false,
   "toc_position": {},
   "toc_section_display": true,
   "toc_window_display": false
  }
 },
 "nbformat": 4,
 "nbformat_minor": 2
}
