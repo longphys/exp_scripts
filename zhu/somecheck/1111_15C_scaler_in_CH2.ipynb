{
 "cells": [
  {
   "cell_type": "code",
   "execution_count": 1,
   "metadata": {},
   "outputs": [
    {
     "name": "stdout",
     "output_type": "stream",
     "text": [
      "\u001b[?1034h"
     ]
    }
   ],
   "source": [
    "//%jsroot on"
   ]
  },
  {
   "cell_type": "code",
   "execution_count": 2,
   "metadata": {},
   "outputs": [],
   "source": [
    "TCanvas *c1=new TCanvas;"
   ]
  },
  {
   "cell_type": "code",
   "execution_count": 3,
   "metadata": {},
   "outputs": [],
   "source": [
    "Double_t runtime_low[810],runtime_high[810];\n",
    "Int_t therunnumber;\n",
    "Double_t aaa,lowhour,lowsecond,highhour,highsecond,theday;\n",
    "ifstream inday(\"/home/zhuhy/JNBook/Experiment2022/taf/check/txt/15C_CH2_time_run.txt\");\n",
    "  if(inday.is_open()){\n",
    "    while(!inday.eof())\n",
    "    {\n",
    "      inday>>theday>>therunnumber>>lowhour>>lowsecond>>highhour>>highsecond;\n",
    "      theday=theday-20221100;\n",
    "      cout<<theday<<'\\t'<<therunnumber<<'\\t'<<lowhour<<'\\t'<<lowsecond<<'\\t'<<highhour<<'\\t'<<lowsecond<<'\\n';\n",
    "      runtime_low[therunnumber] =theday*24+lowhour+lowsecond/60;\n",
    "      runtime_high[therunnumber]=theday*24+highhour+highsecond/60;\n",
    "      if(lowhour>highhour)runtime_high[therunnumber]+=24;\n",
    "      cout<<\"runnumber=\"<<therunnumber<<'\\t'<<\"lowtime=\"<<runtime_low[therunnumber]<<'\\t'<<\"hightime=\"<<runtime_high[therunnumber]<<'\\t'<<runtime_high[therunnumber]-runtime_low[therunnumber]<<'\\n';\n",
    "      if(therunnumber==809)break;\n",
    "    }\n",
    "  }\n",
    "  inday.close();"
   ]
  },
  {
   "cell_type": "code",
   "execution_count": 4,
   "metadata": {},
   "outputs": [],
   "source": [
    "  TGraph *gaccpttedrate=new TGraph();\n",
    "Double_t accpttedrate[810],hhh,temprate;\n",
    "Int_t countrate=0;\n",
    "ifstream inr(\"/home/zhuhy/JNBook/Experiment2022/taf/check/txt/trigger_accepted_rate.txt\");\n",
    "  if(inr.is_open()){\n",
    "    while(!inr.eof())\n",
    "    {\n",
    "      inr>>therunnumber>>hhh>>hhh>>hhh>>hhh>>temprate;\n",
    "      accpttedrate[therunnumber]=temprate;\n",
    "      gaccpttedrate->SetPoint(countrate++,therunnumber,accpttedrate[therunnumber]);\n",
    "      //cout<<therunnumber<<'\\t'<<accpttedrate[therunnumber]<<'\\n';\n",
    "    }\n",
    "  }\n",
    "  inr.close();"
   ]
  },
  {
   "cell_type": "code",
   "execution_count": 5,
   "metadata": {},
   "outputs": [],
   "source": [
    "  TGraph *gCrate=new TGraph();\n",
    "  TGraph *gtarrate=new TGraph();\n",
    "  Double_t Crate[810],tarrate[810],tempCrate,temptarrate;\n",
    "  Int_t countrateC=0,countratetar=0;\n",
    "ifstream inr1(\"/home/zhuhy/JNBook/Experiment2022/taf/check/txt/15C_CH2_Crate_tarrate.txt\");\n",
    "  if(inr1.is_open()){\n",
    "    while(!inr1.eof())\n",
    "    {\n",
    "      inr1>>therunnumber>>tempCrate>>temptarrate;\n",
    "      Crate[therunnumber]=tempCrate;\n",
    "      tarrate[therunnumber]=temptarrate;\n",
    "      gCrate->SetPoint(countrateC++,therunnumber,Crate[therunnumber]);\n",
    "      gtarrate->SetPoint(countratetar++,therunnumber,tarrate[therunnumber]);\n",
    "      //cout<<therunnumber<<'\\t'<<rate[therunnumber]<<'\\n';\n",
    "    }\n",
    "  }\n",
    "  inr1.close();"
   ]
  },
  {
   "cell_type": "code",
   "execution_count": 6,
   "metadata": {},
   "outputs": [],
   "source": [
    "  Double_t C15CH2fenchu1=3;\n",
    "  Double_t key=0;\n",
    "  Int_t nowfenchu;\n",
    "  int i;\n",
    "  TGraph *gt0M=new TGraph();\n",
    "  TGraph *gt0MB=new TGraph();\n",
    "  TGraph *gt0S=new TGraph();\n",
    "  TGraph *gxtaf=new TGraph();\n",
    "  TGraph *gvtaf=new TGraph();\n",
    "  TGraph *gt1d1=new TGraph();\n",
    "  Double_t th;\n",
    "  Double_t a3,a2,tmp1,tmp2,tmp3,tmp4,tmp5,ttime;\n",
    "  Double_t t0dMall[810],t0MBall[810],t0sall[810],t0dM,t0MB,t0s;\n",
    "  Double_t xtafall[810],vtafall[810],t1d1all[810];\n",
    "  Double_t t0d1M,t0d2M,taf2,taf3,taf4,taf5,vtaf,t1d1,xtaf,t1andt2;\n",
    "  Double_t t0realall[810];\n",
    "  for(Int_t ii=0;ii<810;ii++){\n",
    "      t0dMall[ii]=0;\n",
    "      t0MBall[ii]=0;\n",
    "      t0sall[ii]=0;\n",
    "      t0realall[ii]=0;\n",
    "  }\n",
    "\n",
    "  TString fileName;\n",
    "Int_t thecount=0;\n",
    "therunnumber=0;\n",
    "for(Int_t iii=0;iii<=5;iii++){\n",
    "  fileName = TString::Format(\"/data/d1/share/pwl/scaler-data/202211%02d.txt\",iii+2);\n",
    "  ifstream in(fileName.Data());\n",
    "  if(in.is_open()){\n",
    "    while(!in.eof())\n",
    "    {\n",
    "      in>>ttime>>tmp2>>tmp3>>tmp4>>t0s>>t0dM>>t0d1M>>t0d2M>>tmp4>>taf2\n",
    "        >>taf3>>taf4>>taf5>>vtaf>>tmp5>>tmp1>>t0MB>>t1d1>>xtaf>>tmp5\n",
    "        >>tmp1>>t1andt2>>tmp3>>tmp4>>tmp5>>tmp1>>a3>>tmp3>>tmp4>>tmp5\n",
    "        >>tmp1>>tmp2>>tmp3;\n",
    "        th=ttime/3600.+24.*(iii+2);\n",
    "        for(Int_t ii=0;ii<33;ii++)if(th>runtime_low[420+ii]&&th<runtime_high[420+ii])therunnumber=420+ii;\n",
    "        if(th>runtime_high[452])therunnumber=0;\n",
    "        if(therunnumber==0)nowfenchu=100;\n",
    "        else if(therunnumber==1)nowfenchu=10;\n",
    "        else if(therunnumber==2||therunnumber==3)nowfenchu=5;\n",
    "        else if(therunnumber==4||therunnumber==5)nowfenchu=1;\n",
    "        else if(therunnumber==6)nowfenchu=5;\n",
    "        else if(therunnumber==7)nowfenchu=2;\n",
    "        else if(therunnumber>=8)nowfenchu=3;\n",
    "        thecount++;\n",
    "        \n",
    "        t0dMall[therunnumber]+=t0dM;\n",
    "        t0MBall[therunnumber]+=t0MB;\n",
    "        t0sall[therunnumber]+=t0s*nowfenchu;\n",
    "        xtafall[therunnumber]+=xtaf;\n",
    "        vtafall[therunnumber]+=vtaf;\n",
    "        t1d1all[therunnumber]+=t1d1;\n",
    "        if(thecount%1000==0&&therunnumber>=451)cout<<\"t=\"<<th<<'\\t'<<\"runnumber=\"<<therunnumber<<'\\t'<<\"t0Sall=\"<<t0sall[therunnumber]<<'\\t'<<\"t0S=\"<<t0s*nowfenchu<<'\\n';\n",
    "    }\n",
    "  }\n",
    "  in.close();\n",
    "}\n",
    "\n",
    "therunnumber=0;\n",
    "thecount=0;\n",
    "for(Int_t iii=0;iii<=1;iii++){\n",
    "  fileName = TString::Format(\"/data/d1/share/pwl/scaler-data/202211%02d.txt\",iii+16);\n",
    "  ifstream in(fileName.Data());\n",
    "  if(in.is_open()){\n",
    "    while(!in.eof())\n",
    "    {\n",
    "      in>>ttime>>tmp2>>tmp3>>tmp4>>t0s>>t0dM>>t0d1M>>t0d2M>>tmp4>>taf2\n",
    "        >>taf3>>taf4>>taf5>>vtaf>>tmp5>>tmp1>>t0MB>>t1d1>>xtaf>>tmp5\n",
    "        >>tmp1>>t1andt2>>tmp3>>tmp4>>tmp5>>tmp1>>a3>>tmp3>>tmp4>>tmp5\n",
    "        >>tmp1>>tmp2>>tmp3;\n",
    "        th=ttime/3600.+24.*(iii+16);\n",
    "        for(Int_t ii=0;ii<33;ii++)if(th>runtime_low[799+ii]&&th<runtime_high[799+ii])therunnumber=799+ii;\n",
    "        nowfenchu=100;\n",
    "        thecount++;\n",
    "        t0dMall[therunnumber]+=t0dM;\n",
    "        t0MBall[therunnumber]+=t0MB;\n",
    "        t0sall[therunnumber]+=t0s*nowfenchu;\n",
    "        xtafall[therunnumber]+=xtaf;\n",
    "        vtafall[therunnumber]+=vtaf;\n",
    "        t1d1all[therunnumber]+=t1d1;\n",
    "        //if(therunnumber>=799&&therunnumber<=801&thecount%10==0)cout<<\"t=\"<<th<<'\\t'<<\"runnumber=\"<<therunnumber<<'\\t'<<\"t0Sall=\"<<t0sall[therunnumber]<<'\\t'<<\"t0S=\"<<t0s*nowfenchu<<'\\n';\n",
    "    }\n",
    "  }\n",
    "  in.close();\n",
    "}"
   ]
  },
  {
   "cell_type": "code",
   "execution_count": 7,
   "metadata": {},
   "outputs": [],
   "source": [
    "  TGraph *gMBtoM=new TGraph();\n",
    "  Int_t count=0;\n",
    "  Int_t countt0S=0;\n",
    "  Double_t t0dMallall1,t0MBallall1;\n",
    "  Double_t t0dMallall2,t0MBallall2;\n",
    "\n",
    "  for(Int_t ii=420;ii<=452;ii++){\n",
    "    //if((runtime_high[ii]-runtime_low[ii])<0.25){cout<<ii<<'\\t'<<\"too small run to count!\"<<'\\n';continue;}\n",
    "    //cout<<ii<<'\\t'<<runtime_high[ii]-runtime_low[ii]<<'\\t'<<t0sall[ii]<<'\\n';\n",
    "    gt0S->SetPoint(countt0S++,ii,t0sall[ii]);\n",
    "    gMBtoM->SetPoint(count++,ii,(Double_t)(t0MBall[ii])/(Double_t)(t0dMall[ii]));\n",
    "    t0dMallall1+=t0dMall[ii];\n",
    "    t0MBallall1+=t0MBall[ii];\n",
    "    //cout<<ii<<'\\t'<<t0sall[ii]<<'\\t'<<t0dMall[ii]<<'\\t'<<t0MBall[ii]<<'\\t'<<(Double_t)(t0MBall[ii])/(Double_t)(t0dMall[ii])<<'\\n';\n",
    "  }\n",
    "  for(Int_t ii=799;ii<809;ii++){\n",
    "    //if((runtime_high[ii]-runtime_low[ii])<0.25){cout<<ii<<'\\t'<<\"too small run to count!\"<<'\\n';continue;}\n",
    "    //cout<<ii<<'\\t'<<runtime_high[ii]-runtime_low[ii]<<'\\t'<<t0sall[ii]<<'\\n';\n",
    "    gt0S->SetPoint(countt0S++,ii,t0sall[ii]);\n",
    "    gMBtoM->SetPoint(count++,ii,(Double_t)(t0MBall[ii])/(Double_t)(t0dMall[ii]));\n",
    "    t0dMallall2+=t0dMall[ii];\n",
    "    t0MBallall2+=t0MBall[ii];\n",
    "    //cout<<ii<<'\\t'<<t0sall[ii]<<'\\t'<<t0dMall[ii]<<'\\t'<<t0MBall[ii]<<'\\t'<<(Double_t)(t0MBall[ii])/(Double_t)(t0dMall[ii])<<'\\n';\n",
    "  }"
   ]
  },
  {
   "cell_type": "code",
   "execution_count": 8,
   "metadata": {},
   "outputs": [
    {
     "data": {
      "image/png": "[encoded data removed]",
      "text/plain": [
       "<IPython.core.display.Image object>"
      ]
     },
     "metadata": {},
     "output_type": "display_data"
    }
   ],
   "source": [
    "c1->Clear();\n",
    "gt0S->SetMarkerStyle(3);\n",
    "gt0S->Draw(\"ap\");\n",
    "c1->Draw();"
   ]
  },
  {
   "cell_type": "code",
   "execution_count": 9,
   "metadata": {},
   "outputs": [
    {
     "data": {
      "image/png": "[encoded data removed]",
      "text/plain": [
       "<IPython.core.display.Image object>"
      ]
     },
     "metadata": {},
     "output_type": "display_data"
    },
    {
     "name": "stdout",
     "output_type": "stream",
     "text": [
      "run 420~452 ave t0MB/t0dM = -nan\n",
      "run 799~809 ave t0MB/t0dM = -nan\n"
     ]
    }
   ],
   "source": [
    "c1->Clear();\n",
    "gMBtoM->SetMarkerStyle(3);\n",
    "gMBtoM->Draw(\"ap\");\n",
    "c1->Draw();\n",
    "cout<<\"run 420~452 ave t0MB/t0dM = \"<<t0MBallall1/t0dMallall1<<'\\n';\n",
    "cout<<\"run 799~809 ave t0MB/t0dM = \"<<t0MBallall2/t0dMallall2<<'\\n';"
   ]
  },
  {
   "cell_type": "code",
   "execution_count": 10,
   "metadata": {},
   "outputs": [
    {
     "data": {
      "image/png": "[encoded data removed]",
      "text/plain": [
       "<IPython.core.display.Image object>"
      ]
     },
     "metadata": {},
     "output_type": "display_data"
    }
   ],
   "source": [
    "c1->Clear();\n",
    "gaccpttedrate->SetMarkerStyle(3);\n",
    "gaccpttedrate->Draw(\"ap\");\n",
    "c1->Draw();"
   ]
  },
  {
   "cell_type": "code",
   "execution_count": 11,
   "metadata": {},
   "outputs": [
    {
     "data": {
      "image/png": "[encoded data removed]",
      "text/plain": [
       "<IPython.core.display.Image object>"
      ]
     },
     "metadata": {},
     "output_type": "display_data"
    },
    {
     "name": "stderr",
     "output_type": "stream",
     "text": [
      "Error in <TGraphPainter::PaintGraph>: illegal number of points (0)\n"
     ]
    }
   ],
   "source": [
    "c1->Clear();\n",
    "gCrate->SetMarkerStyle(3);\n",
    "gCrate->Draw(\"ap\");\n",
    "c1->Draw();"
   ]
  },
  {
   "cell_type": "code",
   "execution_count": 12,
   "metadata": {},
   "outputs": [
    {
     "data": {
      "image/png": "[encoded data removed]",
      "text/plain": [
       "<IPython.core.display.Image object>"
      ]
     },
     "metadata": {},
     "output_type": "display_data"
    },
    {
     "name": "stderr",
     "output_type": "stream",
     "text": [
      "Error in <TGraphPainter::PaintGraph>: illegal number of points (0)\n"
     ]
    }
   ],
   "source": [
    "c1->Clear();\n",
    "gtarrate->SetMarkerStyle(3);\n",
    "gtarrate->Draw(\"ap\");\n",
    "c1->Draw();"
   ]
  },
  {
   "cell_type": "code",
   "execution_count": 13,
   "metadata": {},
   "outputs": [
    {
     "name": "stdout",
     "output_type": "stream",
     "text": [
      "420\t-nan\t0\t0\t0\t0.915013\t-nan\n",
      "421\t-nan\t0\t0\t0\t0.911915\t-nan\n",
      "422\t-nan\t0\t0\t0\t0.910549\t-nan\n",
      "423\t-nan\t0\t0\t0\t0.908006\t-nan\n",
      "424\t-nan\t0\t0\t0\t0.911808\t-nan\n",
      "425\t-nan\t0\t0\t0\t0.938468\t-nan\n",
      "426\t-nan\t0\t0\t0\t0.936721\t-nan\n",
      "427\t-nan\t0\t0\t0\t0.93774\t-nan\n",
      "428\t-nan\t0\t0\t0\t0.940111\t-nan\n",
      "429\t-nan\t0\t0\t0\t0.941674\t-nan\n",
      "430\t-nan\t0\t0\t0\t0.943818\t-nan\n",
      "431\t-nan\t0\t0\t0\t0.940279\t-nan\n",
      "432\t-nan\t0\t0\t0\t0.937278\t-nan\n",
      "433\t-nan\t0\t0\t0\t0.93682\t-nan\n",
      "434\t-nan\t0\t0\t0\t0.937636\t-nan\n",
      "435\t-nan\t0\t0\t0\t0.938454\t-nan\n",
      "436\t-nan\t0\t0\t0\t0.940246\t-nan\n",
      "437\t-nan\t0\t0\t0\t0.937952\t-nan\n",
      "438\t-nan\t0\t0\t0\t0.937269\t-nan\n",
      "439\t-nan\t0\t0\t0\t0.936788\t-nan\n",
      "440\t-nan\t0\t0\t0\t0.936605\t-nan\n",
      "441\t-nan\t0\t0\t0\t0.939538\t-nan\n",
      "442\t-nan\t0\t0\t0\t0.942165\t-nan\n",
      "443\t-nan\t0\t0\t0\t0.943681\t-nan\n",
      "444\t-nan\t0\t0\t0\t0.941314\t-nan\n",
      "445\t-nan\t0\t0\t0\t0.95248\t-nan\n",
      "446\t-nan\t0\t0\t0\t0.943904\t-nan\n",
      "447\t-nan\t0\t0\t0\t0.943105\t-nan\n",
      "448\t-nan\t0\t0\t0\t0.945673\t-nan\n",
      "449\t-nan\t0\t0\t0\t0.945732\t-nan\n",
      "450\t-nan\t0\t0\t0\t0.947211\t-nan\n",
      "451\t-nan\t0\t0\t0\t0.948249\t-nan\n",
      "452\t-nan\t0\t0\t0\t0.946266\t-nan\n",
      "799\t-nan\t0\t0\t0\t0.930963\t-nan\n",
      "800\t-nan\t0\t0\t0\t0.937039\t-nan\n",
      "801\t-nan\t0\t0\t0\t0.940756\t-nan\n",
      "802\t-nan\t0\t0\t0\t0.944555\t-nan\n",
      "803\t-nan\t0\t0\t0\t0.945333\t-nan\n",
      "804\t-nan\t0\t0\t0\t0.936969\t-nan\n",
      "805\t-nan\t0\t0\t0\t0.935761\t-nan\n",
      "806\t-nan\t0\t0\t0\t0.937742\t-nan\n",
      "807\t-nan\t0\t0\t0\t0.93708\t-nan\n",
      "808\t-nan\t0\t0\t0\t0.937906\t-nan\n"
     ]
    }
   ],
   "source": [
    "  TGraph *gt0realall=new TGraph();\n",
    "Int_t countrealall=0;\n",
    "long C15all1=0,C15all2=0;\n",
    "  for(Int_t ii=0;ii<810;ii++){\n",
    "      t0realall[ii]=t0sall[ii]*Crate[ii]*tarrate[ii]*accpttedrate[ii]*(Double_t)(t0MBall[ii])/(Double_t)(t0dMall[ii]);\n",
    "      if((ii>=420&&ii<=452)||(ii>=799&&ii<=808))cout<<ii<<'\\t'<<t0realall[ii]<<'\\t'<<t0sall[ii]<<'\\t'<<Crate[ii]<<'\\t'<<tarrate[ii]<<'\\t'<<accpttedrate[ii]<<'\\t'<<(Double_t)(t0MBall[ii])/(Double_t)(t0dMall[ii])<<'\\n';\n",
    "      if((ii>=420&&ii<=452)||(ii>=799&&ii<=808))gt0realall->SetPoint(countrealall++,ii,t0realall[ii]);\n",
    "      if(ii>=420&&ii<=452)C15all1+=t0realall[ii];\n",
    "      if(ii>=799&&ii<=808)C15all2+=t0realall[ii];\n",
    "  }"
   ]
  },
  {
   "cell_type": "code",
   "execution_count": 14,
   "metadata": {},
   "outputs": [
    {
     "data": {
      "image/png": "[encoded data removed]",
      "text/plain": [
       "<IPython.core.display.Image object>"
      ]
     },
     "metadata": {},
     "output_type": "display_data"
    },
    {
     "name": "stdout",
     "output_type": "stream",
     "text": [
      "-9223372036854775808\n",
      "-9223372036854775808\n"
     ]
    }
   ],
   "source": [
    "c1->Clear();\n",
    "gt0realall->SetMarkerStyle(3);\n",
    "gt0realall->Draw(\"ap\");\n",
    "c1->Draw();\n",
    "cout<<C15all1<<'\\n';\n",
    "cout<<C15all2<<'\\n';"
   ]
  },
  {
   "cell_type": "code",
   "execution_count": null,
   "metadata": {},
   "outputs": [],
   "source": []
  },
  {
   "cell_type": "code",
   "execution_count": 15,
   "metadata": {},
   "outputs": [],
   "source": [
    "/*\n",
    "        ofstream write1;\n",
    "        TString outfileName = TString::Format(\"/home/zhuhy/JNBook/Experiment2022/taf/check/txt/15C_CH2_tafandt1.txt\");\n",
    "        write1.open(outfileName.Data(), ios::out);\n",
    "        for(Int_t i=420; i<=452; i++)write1<< i<< \"\\t\" <<setprecision(10)<<xtafall[i]<<\"\\t\" <<setprecision(10)<<vtafall[i]<<'\\t'<<setprecision(10)<<t1d1all[i]<<endl;\n",
    "        for(Int_t i=799; i<=809; i++)write1<< i<< \"\\t\" <<setprecision(10)<<xtafall[i]<<\"\\t\" <<setprecision(10)<<vtafall[i]<<'\\t'<<setprecision(10)<<t1d1all[i]<<endl;\n",
    "        write1.close();\n",
    "*/"
   ]
  }
 ],
 "metadata": {
  "kernelspec": {
   "display_name": "ROOT C++",
   "language": "c++",
   "name": "root"
  },
  "language_info": {
   "codemirror_mode": "text/x-c++src",
   "file_extension": ".C",
   "mimetype": " text/x-c++src",
   "name": "c++"
  },
  "toc": {
   "base_numbering": 1,
   "nav_menu": {},
   "number_sections": true,
   "sideBar": true,
   "skip_h1_title": false,
   "title_cell": "Table of Contents",
   "title_sidebar": "Contents",
   "toc_cell": false,
   "toc_position": {},
   "toc_section_display": true,
   "toc_window_display": false
  }
 },
 "nbformat": 4,
 "nbformat_minor": 2
}
