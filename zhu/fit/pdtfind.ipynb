{
 "cells": [
  {
   "cell_type": "code",
   "execution_count": 1,
   "metadata": {},
   "outputs": [
    {
     "name": "stdout",
     "output_type": "stream",
     "text": [
      "\u001b[?1034h"
     ]
    }
   ],
   "source": [
    "//%jsroot on"
   ]
  },
  {
   "cell_type": "code",
   "execution_count": 2,
   "metadata": {},
   "outputs": [],
   "source": [
    "        int start = 453;\n",
    "        int stop = 530;\n",
    "        TChain *fch;\n",
    "        fch = new TChain(\"tree\", \"tele\");\n",
    "        for (int i= start; i<=stop; i++){\n",
    "          TString fileName = TString::Format(\"/data/d1/zhuhy/lanzhou2022/getdatata/telefileta/tele%04d.root\" , i);\n",
    "          fch->AddFile(fileName.Data());\n",
    "        }"
   ]
  },
  {
   "cell_type": "code",
   "execution_count": 3,
   "metadata": {},
   "outputs": [],
   "source": [
    "TCanvas *c1=new TCanvas(\"c1\",\"c1\");"
   ]
  },
  {
   "cell_type": "code",
   "execution_count": null,
   "metadata": {
    "scrolled": false
   },
   "outputs": [],
   "source": [
    "Double_t a[16]={1.28,1.26,1.29,1.29,1.16,1.09,1.07,1.08,0.98,0.99,0.89,1.01,1.00,1.13,1.11,1};\n",
    "Double_t b[16]={-0.02,-0.02,-0.02,-0.01,-0.01,-0.02,-0.01,-0.01,-0.02,-0.02,-0.02,-0.02,-0.02,-0.02,-0.02,-0.02};\n",
    "c1->Clear();\n",
    "/******************/\n",
    "Int_t stripnum=0;\n",
    "/******************/\n",
    "\n",
    "TString name=TString::Format(\"(TMath::Sqrt(taf_ad0_xne[0]*taf_ac0_e[0]+%f*taf_ad0_xne[0]*taf_ad0_xne[0])+%f*taf_ac0_e[0]):taf_ac0_e[0]\",a[stripnum],b[stripnum]);\n",
    "TString drawname=name+\">>(100,0,30000,100,0,5000)\";\n",
    "//TString Ef=TString::Format(\"(TMath::Sqrt(ta.ad3.xne[0]*ta.ad4.xne[0]+%f*ta.ad3.xne[0]*ta.ad3.xne[0])+%f*ta.ad4.xne[0])\",a[stripnum],b[stripnum]);\n",
    "TString cutname_bac=TString::Format(\"taf_ac0_e[0]>0&&taf_ac0_e[0]!=65535&&taf_ad0_xs[0]==%d&&taf_ad0_xne[0]>0&&taf_ad0_xne[0]!=65535\",stripnum);\n",
    "//TString cutname=cutname_bac+\"&&\"+Ef+\">=13/25*ta.ad4.xne[0]+200\";\n",
    "\n",
    "\n",
    "fch->Draw(drawname.Data(),cutname_bac.Data());\n",
    "c1->Draw();\n"
   ]
  },
  {
   "cell_type": "code",
   "execution_count": null,
   "metadata": {},
   "outputs": [],
   "source": [
    "TH1F *h[16];\n",
    "TString find;\n",
    "TF1 *fun3peak=new TF1(\"fun3peak\",\"[0]*TMath::Exp(-0.5*((x-[1])/[2])^2)+[3]*TMath::Exp(-0.5*((x-[4])/[5])^2)\",400,850);\n",
    "TF1 *fun1peak=new TF1(\"fun1peak\",\"[0]*TMath::Exp(-0.5*((x-[1])/[2])^2)\",400,850);\n",
    "cutname=cutname_bac+\"&&\"+Ef+\">=13/25*ta.ad4.xne[0]+180\";\n",
    "drawname=TString::Format(\"(TMath::Sqrt(ta.ad3.xne[0]*ta.ad4.xne[0]+%f*ta.ad3.xne[0]*ta.ad3.xne[0])+%f*ta.ad4.xne[0])>>h%d(150,0,1500)\",a[stripnum],b[stripnum],stripnum);\n",
    "fch->Draw(drawname.Data(),cutname.Data());\n",
    "find=TString::Format(\"h%d\",stripnum);\n",
    "h[stripnum]=(TH1F*)gROOT->FindObject(find.Data());\n",
    "\n",
    "  fun3peak->SetParameter(0,250);\n",
    "  fun3peak->SetParameter(1,620);\n",
    "  fun3peak->SetParameter(2,20);\n",
    "\n",
    "  fun3peak->SetParameter(3,100);\n",
    "  fun3peak->SetParameter(4,780);\n",
    "  fun3peak->SetParameter(5,30);\n",
    "/*\n",
    "  fun1peak->SetParameter(0,250);\n",
    "  fun1peak->SetParameter(1,630);\n",
    "  fun1peak->SetParameter(2,20);\n",
    "*/\n",
    "//h[stripnum]->Fit(\"fun3peak\",\"\",\"\",550,850);\n",
    "h[stripnum]->Fit(\"fun3peak\",\"\",\"\",400,850);\n",
    "//h[stripnum]->Fit(\"fun3peak\",\"\",\"\",fun1peak->GetParameter(1)-50,fun1peak->GetParameter(1)+50);\n",
    "h[stripnum]->Draw();\n",
    "c1->Draw();\n",
    "cout<<fun3peak->GetParameter(1)<<\"\\t\"<<fun3peak->GetParameter(2)<<'\\n'<<fun3peak->GetParameter(4)<<\"\\t\"<<fun3peak->GetParameter(5)<<'\\n';\n",
    "//cout<<fun1peak->GetParameter(1)<<\"\\t\"<<fun1peak->GetParameter(2)<<'\\n';"
   ]
  }
 ],
 "metadata": {
  "kernelspec": {
   "display_name": "ROOT C++",
   "language": "c++",
   "name": "root"
  },
  "language_info": {
   "codemirror_mode": "text/x-c++src",
   "file_extension": ".C",
   "mimetype": " text/x-c++src",
   "name": "c++"
  },
  "toc": {
   "base_numbering": 1,
   "nav_menu": {},
   "number_sections": true,
   "sideBar": true,
   "skip_h1_title": false,
   "title_cell": "Table of Contents",
   "title_sidebar": "Contents",
   "toc_cell": false,
   "toc_position": {},
   "toc_section_display": true,
   "toc_window_display": false
  }
 },
 "nbformat": 4,
 "nbformat_minor": 2
}
